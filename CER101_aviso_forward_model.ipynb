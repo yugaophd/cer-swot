{
 "cells": [
  {
   "cell_type": "markdown",
   "id": "eef7da55-8ab1-4df2-930c-7a19ff90a442",
   "metadata": {
    "tags": []
   },
   "source": [
    "# Make forward model (Y) with AVISO data"
   ]
  },
  {
   "cell_type": "code",
   "execution_count": 1,
   "id": "eba03433-3df6-408a-9ef4-f937f98110df",
   "metadata": {},
   "outputs": [],
   "source": [
    "import numpy as np\n",
    "import scipy\n",
    "import xarray as xr\n",
    "import cmocean as cmo\n",
    "import matplotlib.pyplot as plt\n",
    "from aviso_rossby_wave import skill_matrix, reverse_vector, build_h_matrix\n",
    "from aviso_rossby_wave import forecast_ssh, inversion"
   ]
  },
  {
   "cell_type": "markdown",
   "id": "6d3eacd2-fb1b-47de-9353-c1c28ec048f7",
   "metadata": {},
   "source": [
    "## Starting Date"
   ]
  },
  {
   "cell_type": "code",
   "execution_count": 2,
   "id": "15e8bedd-e465-4553-82cc-b2936777c1e6",
   "metadata": {},
   "outputs": [],
   "source": [
    "day0, day1 = 0, 1 \n",
    "time_range = 30 #(day1 - day0) * 3 + 1  # forecast time range\n",
    "exp = 1 # R_over_P = K^-1"
   ]
  },
  {
   "cell_type": "markdown",
   "id": "0c5020eb-5d1d-42bd-b734-02977d31c65c",
   "metadata": {
    "tags": []
   },
   "source": [
    "### Stratification paramters"
   ]
  },
  {
   "cell_type": "markdown",
   "id": "9bc53da7-1aad-4136-8004-3ca36af7fdf1",
   "metadata": {
    "tags": []
   },
   "source": [
    "## Subset 10 degree by 10 degree of ocean\n",
    "### the aviso data is sampled at 5-day intervals"
   ]
  },
  {
   "cell_type": "code",
   "execution_count": 3,
   "id": "df3f6974-bcee-4d12-8fac-5221b4718457",
   "metadata": {},
   "outputs": [],
   "source": [
    "lonidx_west, lonidx_east = 60, 100\n",
    "#lonidx_west, lonidx_east = 50, 100   # use asymmetric domain for debugging\n",
    "latidx_south, latidx_north = 34, 74"
   ]
  },
  {
   "cell_type": "code",
   "execution_count": 4,
   "id": "b3335128-08dc-44f3-ae1d-687a0af0123b",
   "metadata": {
    "tags": []
   },
   "outputs": [],
   "source": [
    "avisso_ds = xr.open_dataset('./aviso_msla_ccs_5d.nc')\n",
    "SSHA = avisso_ds.msla[latidx_south:latidx_north, lonidx_west:lonidx_east, :]\n",
    "T_time = avisso_ds.time.data[day0:] * 86400 # in seconds"
   ]
  },
  {
   "cell_type": "code",
   "execution_count": 5,
   "id": "4ab59b1e-175f-48f2-92b8-b5d2d35daf84",
   "metadata": {},
   "outputs": [
    {
     "data": {
      "text/plain": [
       "numpy.datetime64('2016-06-01T00:00:00.000000000')"
      ]
     },
     "execution_count": 5,
     "metadata": {},
     "output_type": "execute_result"
    }
   ],
   "source": [
    "date_time = avisso_ds.date_time.data[day0:]\n",
    "date_time[0]"
   ]
  },
  {
   "cell_type": "code",
   "execution_count": 6,
   "id": "547bdf00-a1fd-48f7-824b-a4f2166541b9",
   "metadata": {},
   "outputs": [],
   "source": [
    "ssha_time_mean = SSHA[:].mean(axis = -1)\n",
    "#ssha_time_mean = SSHA[:, :, day0 : day0 + 30].mean(axis = -1) # remove 150-day mean insead of multi-year mean (climatology)"
   ]
  },
  {
   "cell_type": "code",
   "execution_count": 7,
   "id": "a0bdfb34-8a6a-4e3e-9dad-45ceb056a93e",
   "metadata": {},
   "outputs": [],
   "source": [
    "SSHA = SSHA - ssha_time_mean # remove 150-day mean  SSHA[day0 + day0 + 30].mean(axis = -1) \n",
    "SSHA_masked = np.ma.masked_invalid(SSHA)\n",
    "ssha_mask = np.ma.getmask(SSHA_masked)"
   ]
  },
  {
   "cell_type": "markdown",
   "id": "5df8cf36-6d6a-47a5-a83f-4c4c1d51c6e1",
   "metadata": {},
   "source": [
    "#### MSLA is the AVISO SSH anomalies to fit\n",
    "#### Fit multiple days of SSH anomalies: day0 to day1"
   ]
  },
  {
   "cell_type": "code",
   "execution_count": 8,
   "id": "0ea9c343-6a14-4cf2-9f69-305b045afc73",
   "metadata": {},
   "outputs": [],
   "source": [
    "MSLA0 = SSHA_masked[:, :, day0:day1] #AVISO input "
   ]
  },
  {
   "cell_type": "code",
   "execution_count": 9,
   "id": "ef232f52-a498-4f69-b785-49fc016bf599",
   "metadata": {},
   "outputs": [],
   "source": [
    "lon, lat = (360 - avisso_ds.lon[lonidx_west:lonidx_east].data) * -1, avisso_ds.lat[latidx_south:latidx_north].data\n",
    "# lon, lat = (360 - avisso_ds.lon.data) * -1, avisso_ds.lat.data"
   ]
  },
  {
   "cell_type": "code",
   "execution_count": 10,
   "id": "eecfc5f6-b0cf-4d98-8c3c-419a6b56b0a1",
   "metadata": {},
   "outputs": [],
   "source": [
    "dlon = lon - lon.mean()\n",
    "dlat = lat - lat.mean()"
   ]
  },
  {
   "cell_type": "code",
   "execution_count": null,
   "id": "d840738c-2842-4793-8394-4b6b275a87b0",
   "metadata": {},
   "outputs": [],
   "source": []
  },
  {
   "cell_type": "code",
   "execution_count": 11,
   "id": "b3466a8f-8fb6-43c4-a0c7-e8745b9aec21",
   "metadata": {},
   "outputs": [],
   "source": [
    "SSH0 = avisso_ds.msla[:, :, day0]\n",
    "SSHA0 = SSH0 - avisso_ds.msla[:].mean(axis = -1) # avisso_ds.msla[:, :, day0: day0 + 30].mean(axis = -1)"
   ]
  },
  {
   "cell_type": "code",
   "execution_count": 12,
   "id": "9a56a41c-a646-467e-8c11-6ce025ccd21e",
   "metadata": {},
   "outputs": [],
   "source": [
    "# plt.figure(figsize = (6, 5))\n",
    "# # plt.subplot(121)\n",
    "# # plt.title('a) SSH Anomalies, ' + str(date_time[0])[:10], fontsize = 14)\n",
    "# plt.pcolor((360 - avisso_ds.lon[30:140]) * -1, avisso_ds.lat, \n",
    "#            SSHA0[:, 30:140], vmin = -0.15, vmax = .15, cmap = cmo.cm.balance)\n",
    "# plt.xlabel('Longitude (\\N{DEGREE SIGN}W)', fontsize = 14)\n",
    "# plt.ylabel('Latitude (\\N{DEGREE SIGN}N)', fontsize = 14)\n",
    "\n",
    "# import matplotlib.patches as mpatches\n",
    "\n",
    "# left, bottom, width, height = (lon[0], lat[0],\n",
    "#                                lon[-1] - lon[0],\n",
    "#                                lat[-1]- lat[0])\n",
    "# rect=mpatches.Rectangle((left,bottom),width,height, #latidx_south:latidx_north, \n",
    "#                         fill=False,\n",
    "#                         color=\"black\",\n",
    "#                        linewidth=2)\n",
    "#                        #facecolor=\"red\")\n",
    "# plt.gca().add_patch(rect)\n",
    "# plt.colorbar()\n",
    "\n",
    "# # plt.subplot(122)\n",
    "# # plt.title('b) SSH Anomalies, ' + str(date_time[0])[:10], fontsize = 14)\n",
    "# # plt.pcolor(lon, lat, SSHA[:, :, day0], vmin = -0.2, vmax = .2, cmap = cmo.cm.balance)\n",
    "# # plt.colorbar()\n",
    "# # plt.xlabel('Longitude (\\N{DEGREE SIGN}W)', fontsize = 14)\n",
    "# # plt.ylabel('Latitude (\\N{DEGREE SIGN}N)', fontsize = 14)\n",
    "# plt.savefig('AVISO_SSHA_10deg'+ str(date_time[0])[:10]  +'.png')"
   ]
  },
  {
   "cell_type": "markdown",
   "id": "37cc881a-b75d-402a-8da4-cc53107fa75f",
   "metadata": {},
   "source": [
    "### parameters"
   ]
  },
  {
   "cell_type": "code",
   "execution_count": 13,
   "id": "bfa3f995-b440-4177-a36c-5816c9bb41d6",
   "metadata": {},
   "outputs": [],
   "source": [
    "Phi0 = lat.mean() # central latitude (φ0)\n",
    "Omega = 7.27e-5 # Ω is the angular speed of the earth\n",
    "Earth_radius = 6.371e6 / 1e5 # meters\n",
    "Beta = 2 * Omega * np.cos(Phi0) / Earth_radius\n",
    "f0 =  2 * Omega * np.sin(Phi0) #1.0313e-4 "
   ]
  },
  {
   "cell_type": "markdown",
   "id": "bcf96f49-0494-4902-9d7a-d0ae20721fba",
   "metadata": {},
   "source": [
    "#### Rossby wave vertical modes"
   ]
  },
  {
   "cell_type": "code",
   "execution_count": 14,
   "id": "30509b54-3340-41d7-9233-dde066810494",
   "metadata": {},
   "outputs": [],
   "source": [
    "MModes = 1"
   ]
  },
  {
   "cell_type": "markdown",
   "id": "84daa1f5-0e18-4831-a462-25bf424decca",
   "metadata": {},
   "source": [
    "#### define wavenumber interval based on domain size"
   ]
  },
  {
   "cell_type": "code",
   "execution_count": 15,
   "id": "ee8f4ee3-5c83-4f09-8bc4-7d61f47aeac4",
   "metadata": {},
   "outputs": [],
   "source": [
    "L_lat = 10 # domain latitude length degree \n",
    "L_lon = 10 # domain lognitude length\n",
    "\n",
    "domain_factor = 1.1 # the smaller, the less waves\n",
    "\n",
    "k_interval = 2 * np.pi / (domain_factor * L_lon) # zonal wavemenumber interval\n",
    "l_interval = 2 * np.pi / (domain_factor * L_lat) # meridional wavemenumber interval\n",
    "\n",
    "lamda_min = 1.2 # 100km = 1 degree minimum wavelength resolved , the smaller, the more waves\n",
    "\n",
    "k_min = 0\n",
    "k_max = 2 * np.pi / lamda_min\n",
    "l_max = k_max\n",
    "l_min = -1 * l_max"
   ]
  },
  {
   "cell_type": "code",
   "execution_count": 16,
   "id": "78f37ab3-d119-4bc8-8439-f91e02def039",
   "metadata": {},
   "outputs": [],
   "source": [
    "k_n_orig = np.arange(k_min, k_max, k_interval) # degree^-1\n",
    "l_n_orig = np.arange(l_min, l_max, l_interval) # degree^-1\n",
    "k_n = k_n_orig.reshape(len(k_n_orig), MModes) #* 0 # lon, zonal propagration \n",
    "l_n = l_n_orig.reshape(len(l_n_orig), MModes) #* 0 # lat, meridonal propagration"
   ]
  },
  {
   "cell_type": "code",
   "execution_count": 17,
   "id": "e9897c25-eae5-4c9e-8fd8-0cc59bd3900e",
   "metadata": {},
   "outputs": [],
   "source": [
    "strat_ds = xr.open_dataset('./stratification_sample_ccs.nc')"
   ]
  },
  {
   "cell_type": "markdown",
   "id": "2a4cba4a-6155-4163-b13f-0a737fefbc2b",
   "metadata": {},
   "source": [
    "#### Wavespeed and Rossby wave deformation radius"
   ]
  },
  {
   "cell_type": "code",
   "execution_count": 18,
   "id": "41f5c3e5-97e0-41aa-aebd-4b345e40dc57",
   "metadata": {},
   "outputs": [
    {
     "data": {
      "text/plain": [
       "(2.1545995672172316e-05, array([0.5]), array([2.85035991e-05]))"
      ]
     },
     "execution_count": 18,
     "metadata": {},
     "output_type": "execute_result"
    }
   ],
   "source": [
    "Psi = strat_ds.Psi.data\n",
    "Rm = 5e4  / 1e5 # 50 km to degree\n",
    "wavespeed = Rm * f0  # deg / s strat_ds.C2[:MModes].data\n",
    "Rm = np.array([Rm]) #unit: degree \n",
    "wavespeed, Rm , np.sqrt(strat_ds.C2[:MModes].data)/1e5 # deg/s"
   ]
  },
  {
   "cell_type": "code",
   "execution_count": 19,
   "id": "2453ff1c",
   "metadata": {},
   "outputs": [
    {
     "data": {
      "text/plain": [
       "((40, 40, 1), (10, 1), (19, 1), (40,), (40,))"
      ]
     },
     "execution_count": 19,
     "metadata": {},
     "output_type": "execute_result"
    }
   ],
   "source": [
    "MSLA0.shape, k_n.shape, l_n.shape, lon.shape, lat.shape"
   ]
  },
  {
   "cell_type": "markdown",
   "id": "1e089777-398e-4dce-bfb1-f3b7b70037b5",
   "metadata": {},
   "source": [
    "#### evalucate the skill of each wave"
   ]
  },
  {
   "cell_type": "code",
   "execution_count": 20,
   "id": "c17d0b2b-24ff-43e3-b2fa-8cf9d89e9f2b",
   "metadata": {},
   "outputs": [],
   "source": [
    "skill, SSHA_vector, Iindex, Jindex, Tindex = skill_matrix(MSLA0, Psi, k_n, l_n, MModes, Rm, lon, lat, T_time)"
   ]
  },
  {
   "cell_type": "markdown",
   "id": "f5c2e621-95d6-4607-976a-c82d053c5d7a",
   "metadata": {},
   "source": [
    "#### Number of models/waves"
   ]
  },
  {
   "cell_type": "code",
   "execution_count": 21,
   "id": "0116f215-042b-42e7-9f19-4eeee3b0efd9",
   "metadata": {},
   "outputs": [],
   "source": [
    "M = l_n.size * k_n.size"
   ]
  },
  {
   "cell_type": "code",
   "execution_count": 22,
   "id": "65f42fda",
   "metadata": {},
   "outputs": [
    {
     "data": {
      "text/plain": [
       "masked_array(\n",
       "  data=[[[0.008853332285458843],\n",
       "         [0.02947666815637301],\n",
       "         [0.04761000220896676],\n",
       "         [0.0553093306752271],\n",
       "         [0.05035133087697129]],\n",
       "\n",
       "        [[-0.013955331827261636],\n",
       "         [0.007025336112516628],\n",
       "         [0.02831000160969173],\n",
       "         [0.03988400434609503],\n",
       "         [0.039753999842214394]],\n",
       "\n",
       "        [[-0.048724665488116436],\n",
       "         [-0.038676001106699304],\n",
       "         [-0.020184666117032374],\n",
       "         [-0.002307996462332082],\n",
       "         [0.009437333538662648]],\n",
       "\n",
       "        [[-0.07513400008213163],\n",
       "         [-0.07373800063971431],\n",
       "         [-0.05934733353312671],\n",
       "         [-0.03874266599149753],\n",
       "         [-0.01939133060232659]],\n",
       "\n",
       "        [[-0.08465199975820724],\n",
       "         [-0.08507333302055485],\n",
       "         [-0.07292533353475543],\n",
       "         [-0.055183999499616526],\n",
       "         [-0.03866399988221625]]],\n",
       "  mask=[[[False],\n",
       "         [False],\n",
       "         [False],\n",
       "         [False],\n",
       "         [False]],\n",
       "\n",
       "        [[False],\n",
       "         [False],\n",
       "         [False],\n",
       "         [False],\n",
       "         [False]],\n",
       "\n",
       "        [[False],\n",
       "         [False],\n",
       "         [False],\n",
       "         [False],\n",
       "         [False]],\n",
       "\n",
       "        [[False],\n",
       "         [False],\n",
       "         [False],\n",
       "         [False],\n",
       "         [False]],\n",
       "\n",
       "        [[False],\n",
       "         [False],\n",
       "         [False],\n",
       "         [False],\n",
       "         [False]]],\n",
       "  fill_value=1e+20)"
      ]
     },
     "execution_count": 22,
     "metadata": {},
     "output_type": "execute_result"
    }
   ],
   "source": [
    "MSLA0[0:5,0:5]"
   ]
  },
  {
   "cell_type": "code",
   "execution_count": 23,
   "id": "9f45e56b-a645-48a1-b640-2191e096586f",
   "metadata": {},
   "outputs": [],
   "source": [
    "kk, ll = np.meshgrid(k_n, l_n)"
   ]
  },
  {
   "cell_type": "code",
   "execution_count": 24,
   "id": "3d810089-3bc4-4ab1-8c78-7a20441d7259",
   "metadata": {
    "tags": []
   },
   "outputs": [
    {
     "data": {
      "image/png": "[encoded data removed]",
      "text/plain": [
       "<Figure size 600x1000 with 2 Axes>"
      ]
     },
     "metadata": {},
     "output_type": "display_data"
    }
   ],
   "source": [
    "plt.figure(figsize = (6, 10))\n",
    "plt.pcolor(kk,ll, skill[:, :, 0].T * 100, cmap = cmo.cm.amp, vmin = 0, vmax = 5)\n",
    "#plt.pcolor(kk,ll,skill[:,:, 0].T * 100, cmap = cmo.cm.amp, vmin = 0, vmax = 5)\n",
    "plt.xlabel('K wavenumber [radians/degree]', fontsize = 14)\n",
    "plt.ylabel('L wavenumber [radians/degree]', fontsize = 14)\n",
    "plt.colorbar(orientation = 'horizontal', label = 'variance explained (%)')\n",
    "plt.title('skill of each wavenumber', fontsize = 14)\n",
    "plt.savefig('./skill_matrix_AVISO.png')\n",
    "plt.savefig('./AVISO_skill_matrix_' + str(M) + '.png')"
   ]
  },
  {
   "cell_type": "code",
   "execution_count": 25,
   "id": "cd3269d1",
   "metadata": {},
   "outputs": [
    {
     "data": {
      "text/plain": [
       "[<matplotlib.lines.Line2D at 0x12f5dc3d0>]"
      ]
     },
     "execution_count": 25,
     "metadata": {},
     "output_type": "execute_result"
    },
    {
     "data": {
      "image/png": "[encoded data removed]",
      "text/plain": [
       "<Figure size 640x480 with 1 Axes>"
      ]
     },
     "metadata": {},
     "output_type": "display_data"
    }
   ],
   "source": [
    "plt.plot(l_n[:],skill[0,:])"
   ]
  },
  {
   "cell_type": "markdown",
   "id": "7b441127-b055-4608-bf12-83d1f9f47e29",
   "metadata": {},
   "source": [
    "#### Signal to noise ratio matrix"
   ]
  },
  {
   "cell_type": "code",
   "execution_count": 26,
   "id": "1fbaba7c-920e-4788-8343-c779ef51983d",
   "metadata": {},
   "outputs": [
    {
     "name": "stderr",
     "output_type": "stream",
     "text": [
      "/var/folders/tb/ynf00vf51q52gx0ngbt970v00000gn/T/ipykernel_36914/1449953493.py:14: DeprecationWarning: Conversion of an array with ndim > 0 to a scalar is deprecated, and will error in future. Ensure you extract a single element from your array before performing this operation. (Deprecated NumPy 1.25.)\n",
      "  k_[counter] , l_[counter]  = kk, ll\n",
      "/var/folders/tb/ynf00vf51q52gx0ngbt970v00000gn/T/ipykernel_36914/1449953493.py:15: DeprecationWarning: Conversion of an array with ndim > 0 to a scalar is deprecated, and will error in future. Ensure you extract a single element from your array before performing this operation. (Deprecated NumPy 1.25.)\n",
      "  kl[counter] =  np.sqrt(kk ** 2 + ll ** 2) # wavenumber\n"
     ]
    }
   ],
   "source": [
    "counter = 0\n",
    "exp = -2\n",
    "ssh_std = .1\n",
    "k0 = k_n.max() # flat at or below k0 \n",
    "\n",
    "p_diagonal = np.zeros([2 * M])\n",
    "kl, kl_plot = np.zeros(M), np.zeros(2*M)\n",
    "k_, l_ = np.zeros(len(k_n)*len(l_n)), np.zeros(len(k_n)*len(l_n))\n",
    "counter = 0\n",
    "R = 0.01 # noise = 1. cm\n",
    "\n",
    "for kk in k_n:\n",
    "    for ll in l_n:\n",
    "        k_[counter] , l_[counter]  = kk, ll\n",
    "        kl[counter] =  np.sqrt(kk ** 2 + ll ** 2) # wavenumber\n",
    "        kl_plot[2 * counter], kl_plot[2 * counter + 1] = kl[counter], kl[counter]\n",
    "        p_diagonal[2 * counter] = (kl[counter]+k0) ** exp \n",
    "        p_diagonal[2 * counter + 1] = (kl[counter]+k0) ** exp \n",
    "        counter += 1   \n",
    "\n",
    "P_matrix = np.zeros([2 * M, 2 * M])\n",
    "p_factor = .16/p_diagonal.sum() # variance of the model,  convert sum of variance from waven number to meter\n",
    "np.fill_diagonal(P_matrix[:],  R / p_diagonal / p_factor)"
   ]
  },
  {
   "cell_type": "code",
   "execution_count": 27,
   "id": "99e25de4-0b6e-4e7a-af6b-bb76c6984ae6",
   "metadata": {
    "tags": []
   },
   "outputs": [],
   "source": [
    "H_all = build_h_matrix(MSLA0, MModes, k_n, l_n, lon, lat, T_time[day0:], Psi, Rm, day0)"
   ]
  },
  {
   "cell_type": "code",
   "execution_count": 28,
   "id": "264b0272-7e62-4f41-9092-337c3ab1c74c",
   "metadata": {},
   "outputs": [
    {
     "name": "stderr",
     "output_type": "stream",
     "text": [
      "/var/folders/tb/ynf00vf51q52gx0ngbt970v00000gn/T/ipykernel_36914/2108238595.py:12: DeprecationWarning: Conversion of an array with ndim > 0 to a scalar is deprecated, and will error in future. Ensure you extract a single element from your array before performing this operation. (Deprecated NumPy 1.25.)\n",
      "  omega[kk, ll, mm] =  -(Beta * k_n[kk, mm]) / (k_n[kk, mm] ** 2 + l_n[ll, mm] ** 2 + Rm ** -2)\n"
     ]
    }
   ],
   "source": [
    "dlon = lon - lon.mean()\n",
    "dlat = lat - lat.mean()\n",
    "    \n",
    "H_cos, H_sin = np.zeros([len(SSHA_vector), M]), np.zeros([len(SSHA_vector), M])\n",
    "H_all1 = np.zeros([len(SSHA_vector), M * 2])\n",
    "omega = np.zeros([len(k_n), len(l_n), MModes])\n",
    "\n",
    "nn = 0 \n",
    "for kk in range(len(k_n)):\n",
    "    for ll in range(len(l_n)):\n",
    "        for mm in range(MModes):\n",
    "            omega[kk, ll, mm] =  -(Beta * k_n[kk, mm]) / (k_n[kk, mm] ** 2 + l_n[ll, mm] ** 2 + Rm ** -2)\n",
    "            for count in range(len(Iindex)):\n",
    "                # (data, model)\n",
    "                H_cos[count, nn] = Psi[0, mm] * np.cos(k_n[kk, mm] * dlon[int(Iindex[count])] + l_n[ll, mm] * dlat[int(Jindex[count])] - omega[kk, ll, mm] * T_time[int(Tindex[count])]) \n",
    "                H_sin[count, nn] = Psi[0, mm] * np.sin(k_n[kk, mm] * dlon[int(Iindex[count])] + l_n[ll, mm] * dlat[int(Jindex[count])] - omega[kk, ll, mm] * T_time[int(Tindex[count])])\n",
    "            nn += 1\n",
    "\n",
    "H_all1[:, 0::2] = H_cos \n",
    "H_all1[:, 1::2] = H_sin"
   ]
  },
  {
   "cell_type": "code",
   "execution_count": 29,
   "id": "65241444-b5d7-402a-a71b-7469f67c6911",
   "metadata": {},
   "outputs": [
    {
     "data": {
      "text/plain": [
       "array([[ True,  True,  True, ...,  True,  True,  True],\n",
       "       [ True,  True,  True, ...,  True,  True,  True],\n",
       "       [ True,  True,  True, ...,  True,  True,  True],\n",
       "       ...,\n",
       "       [ True,  True,  True, ...,  True,  True,  True],\n",
       "       [ True,  True,  True, ...,  True,  True,  True],\n",
       "       [ True,  True,  True, ...,  True,  True,  True]])"
      ]
     },
     "execution_count": 29,
     "metadata": {},
     "output_type": "execute_result"
    }
   ],
   "source": [
    "H_all == H_all1"
   ]
  },
  {
   "cell_type": "code",
   "execution_count": 30,
   "id": "d5db85ab-de08-45e8-becb-da6520082efb",
   "metadata": {},
   "outputs": [
    {
     "data": {
      "text/plain": [
       "((1600, 380), (1600, 380))"
      ]
     },
     "execution_count": 30,
     "metadata": {},
     "output_type": "execute_result"
    }
   ],
   "source": [
    "H_all.shape, H_all1.shape"
   ]
  },
  {
   "cell_type": "code",
   "execution_count": 31,
   "id": "7709f3af",
   "metadata": {},
   "outputs": [],
   "source": [
    "#plt.pcolor(H_all-H_all1, cmap = cmo.cm.amp)"
   ]
  },
  {
   "cell_type": "markdown",
   "id": "b80faabb-fc72-4604-86dd-6cf0d1d0dce5",
   "metadata": {
    "tags": []
   },
   "source": [
    "#### solve for amplitudes"
   ]
  },
  {
   "cell_type": "code",
   "execution_count": 32,
   "id": "bd6a3e9b-88b2-46d0-a685-d563b0237839",
   "metadata": {},
   "outputs": [],
   "source": [
    "amp, ssh_estimated = inversion(SSHA_vector, H_all1, P_matrix)# P_over_R)"
   ]
  },
  {
   "cell_type": "code",
   "execution_count": 33,
   "id": "1e18098b-622d-431c-9d27-295e50775d13",
   "metadata": {},
   "outputs": [
    {
     "data": {
      "text/plain": [
       "[<matplotlib.lines.Line2D at 0x12f675ad0>]"
      ]
     },
     "execution_count": 33,
     "metadata": {},
     "output_type": "execute_result"
    },
    {
     "data": {
      "image/png": "[encoded data removed]",
      "text/plain": [
       "<Figure size 640x480 with 1 Axes>"
      ]
     },
     "metadata": {},
     "output_type": "display_data"
    }
   ],
   "source": [
    "plt.plot(1/P_matrix.diagonal())\n",
    "plt.ylabel('amplitude (meters)')\n",
    "plt.plot(amp)"
   ]
  },
  {
   "cell_type": "markdown",
   "id": "11dc78fe-a5ec-44cc-b2e1-58c191fbd571",
   "metadata": {
    "tags": []
   },
   "source": [
    "### Fit AVISO data to Rossby wave model"
   ]
  },
  {
   "cell_type": "code",
   "execution_count": 34,
   "id": "869595e3",
   "metadata": {},
   "outputs": [
    {
     "data": {
      "text/plain": [
       "((380,), (40, 40, 150), (1600, 380))"
      ]
     },
     "execution_count": 34,
     "metadata": {},
     "output_type": "execute_result"
    }
   ],
   "source": [
    "amp.shape, SSHA_masked.shape, np.shape(H_all)"
   ]
  },
  {
   "cell_type": "code",
   "execution_count": null,
   "id": "efd251f1-09a6-4159-973d-f413230c6227",
   "metadata": {
    "tags": []
   },
   "outputs": [],
   "source": [
    "SSHA_predicted = np.zeros([time_range, MSLA0[:, :, 0:1].size])\n",
    "SSHA_true = np.zeros([time_range, MSLA0[:, :, 0:1].size])\n",
    "variance_explained_inverse  = np.zeros([time_range])\n",
    "MSLA_fwrd = np.zeros([MSLA0.shape[0], MSLA0.shape[1], time_range])\n",
    "for day in range(time_range):\n",
    "#for day in range(1):\n",
    "    # SSH data\n",
    "    MSLA = SSHA_masked[:, :, day0+day: day0+day+1]\n",
    "    # Build basis function H matrix\n",
    "    H_all = build_h_matrix(MSLA, MModes, k_n, l_n, lon, lat, T_time[day0:], Psi, Rm, day0 + day)\n",
    "    print(H_all.shape, amp.shape, MSLA.shape)\n",
    "    # forecast SSH\n",
    "    SSHA_predicted[day], SSHA_true[day], variance_explained_inverse[day] = forecast_ssh(MSLA, amp, H_all)\n",
    "    # reverse vector\n",
    "    MSLA_fwrd[:, :, day:day+1] = reverse_vector(MSLA, SSHA_predicted[day])\n",
    "\n",
    "    if (day < 1):\n",
    "        plt.figure(figsize = (15, 5))\n",
    "\n",
    "        plt.subplot(131)\n",
    "        plt.pcolormesh(lon, lat, MSLA[:, :, 0], cmap = cmo.cm.balance, vmin = -.15, vmax = .15) \n",
    "        plt.colorbar()\n",
    "        plt.xlabel('Longitude (\\N{DEGREE SIGN}W)', fontsize = 14)\n",
    "        plt.ylabel('Latitude (\\N{DEGREE SIGN}N)', fontsize = 14)\n",
    "        plt.title('a) AVISO data ' + str(date_time[day])[:10], fontsize = 14)\n",
    "\n",
    "        plt.subplot(132)\n",
    "        plt.pcolormesh(lon, lat, MSLA_fwrd[:, :, day], vmin = -.15, vmax = .15, cmap = cmo.cm.balance)\n",
    "        plt.colorbar()\n",
    "        plt.xlabel('Longitude (\\N{DEGREE SIGN}W)', fontsize = 14)\n",
    "        plt.ylabel('Latitude (\\N{DEGREE SIGN}N)', fontsize = 14)\n",
    "        plt.title('b) Rossby wave model, 450 waves', fontsize = 14)\n",
    "\n",
    "        residual = MSLA[:, :, 0] - MSLA_fwrd[:, :, day] \n",
    "        plt.subplot(133)\n",
    "        plt.pcolormesh(lon, lat, residual, cmap = cmo.cm.balance, vmin = -.15, vmax = .15)\n",
    "        plt.colorbar()\n",
    "        plt.xlabel('Longitude (\\N{DEGREE SIGN}W)', fontsize = 14)\n",
    "        plt.ylabel('Latitude (\\N{DEGREE SIGN}N)', fontsize = 14)\n",
    "        plt.title('c) Residual variance ' + str((variance_explained_inverse[day]) * 100)[:4] + '%', fontsize = 14)\n",
    "        plt.tight_layout()\n",
    "        plt.savefig('./forward_model/fwrd_ssh_' + str(date_time[day0+day])[:10] +'_' + str(skill.size) + 'waves.png', dpi = 300)\n",
    "        #plt.close()"
   ]
  },
  {
   "cell_type": "code",
   "execution_count": null,
   "id": "92991d55-ada1-4641-928f-e6a634fda5a5",
   "metadata": {
    "tags": []
   },
   "outputs": [],
   "source": [
    "ds_output = xr.Dataset(data_vars={'k_n' : k_n[:, 0],\n",
    "                                  'l_n' : l_n[:, 0],\n",
    "                                  'Amplitudes': amp,\n",
    "                                  'variance_explained': (('time'), 1-variance_explained_inverse),\n",
    "                                  'MSLA_forward' : (('YC', 'XC', 'time'), MSLA_fwrd[:, :, :time_range]),\n",
    "                                  'Rm': Rm,\n",
    "                                  'XC' : (('XC'), lon.data), \n",
    "                                  'YC' : (('YC'), lat.data),\n",
    "                                  'time': date_time[:time_range]},\n",
    "                      attrs = dict(description=('Data sample of the selected waves, amplitudes, estimated SSH anomalies and residual, fit with ' \n",
    "                                                + str(day1 - day0) + '-day prior data.')))"
   ]
  },
  {
   "cell_type": "code",
   "execution_count": null,
   "id": "12eed950-921a-4237-b87e-970583dcfe13",
   "metadata": {},
   "outputs": [],
   "source": [
    "'residual variance', variance_explained_inverse, date_time[:time_range]"
   ]
  },
  {
   "cell_type": "code",
   "execution_count": null,
   "id": "8cb6fdf0-5f4f-4e8a-b270-08143e5ac994",
   "metadata": {},
   "outputs": [],
   "source": [
    "plt.plot(date_time[:time_range], variance_explained_inverse[:] * 100)\n",
    "plt.ylabel('residual variance (%)')\n",
    "plt.title('residual')"
   ]
  },
  {
   "cell_type": "code",
   "execution_count": null,
   "id": "b5c3f627-0304-44c6-81b0-c2c4bd2592bc",
   "metadata": {
    "tags": []
   },
   "outputs": [],
   "source": [
    "ds_output.to_netcdf('./rossby_wave_estimate_' + str(date_time[0])[:10] +'_' + str(l_n.size * k_n.size) +'waves.nc')\n",
    "#ds_output.to_netcdf('./rossby_wave_estimate_' + str(date_time[0])[:10] +'_' + str(l_n.size * k_n.size) +'waves_data'+ str(int((day1 - day0)*5)) +'days.nc')"
   ]
  },
  {
   "cell_type": "markdown",
   "id": "b3638cc3-8ef2-4e85-969d-feb892bbc11c",
   "metadata": {
    "tags": []
   },
   "source": [
    "### Plot the Rossby wave model versus the AVISO data"
   ]
  },
  {
   "cell_type": "code",
   "execution_count": null,
   "id": "8242f48a-4971-442e-ac44-541bb23b3f13",
   "metadata": {},
   "outputs": [],
   "source": [
    "time = T_time[day0:day0+time_range]/86400"
   ]
  },
  {
   "cell_type": "code",
   "execution_count": null,
   "id": "c4559531-584c-4d19-bec7-1f5bead1c58d",
   "metadata": {},
   "outputs": [],
   "source": [
    "selected_lat = 28\n",
    "plt.figure(figsize = (10, 10))     \n",
    "SSHA_slice= SSHA_masked[selected_lat, :, day0:day0+time_range].T\n",
    "plt.subplot(311) \n",
    "plt.title('a) AVISO SSH Hovmöller plot: Latitude: ' + str(lat[selected_lat]) + '$^\\circ$N', fontsize = 12)\n",
    "plt.pcolormesh(lon, time, SSHA_slice, cmap = cmo.cm.balance, vmin = -.12, vmax = .12)\n",
    "plt.plot(lon, np.repeat(time[day1 - day0],  len(lon)))\n",
    "plt.colorbar()\n",
    "plt.ylabel('time (days)', fontsize = 12)\n",
    "plt.yticks(time[0::2], time[0::2] - time[0])\n",
    "\n",
    "plt.subplot(312) \n",
    "plt.title('b) Rossby wave Hovmöller plot: Latitude: ' + str(lat[selected_lat]) + '$^\\circ$N', fontsize = 12)\n",
    "plt.pcolormesh(lon, time, MSLA_fwrd[selected_lat, :, :time_range].T, cmap = cmo.cm.balance, vmin = -.12, vmax = .12)\n",
    "plt.plot(lon, np.repeat(time[day1 - day0], len(lon)))\n",
    "plt.colorbar()\n",
    "plt.xlabel('longitude ($^\\circ$W)', fontsize = 12)\n",
    "plt.ylabel('time (days)', fontsize = 12)\n",
    "plt.yticks(time[0::4], time[0::4] - time[0])\n",
    "\n",
    "plt.subplot(313) \n",
    "plt.title('c) Hovmöller plot difference: Latitude: ' + str(lat[selected_lat]) + '$^\\circ$N', fontsize = 12)\n",
    "plt.pcolormesh(lon, time, SSHA_slice - MSLA_fwrd[selected_lat, :, :time_range].T,cmap = cmo.cm.balance, vmin = -.12, vmax = .12)\n",
    "plt.plot(lon, np.repeat(time[day1 - day0], len(lon)))\n",
    "plt.colorbar()\n",
    "plt.xlabel('longitude ($^\\circ$W)', fontsize = 12)\n",
    "plt.ylabel('time (days)', fontsize = 12)\n",
    "plt.yticks(time[0::4], time[0::4] - time[0])\n",
    "\n",
    "plt.tight_layout()\n",
    "plt.savefig('./hovmoller/Hovmoller' +'_lat_' + str(selected_lat) + '.png', dpi = 300)"
   ]
  },
  {
   "cell_type": "code",
   "execution_count": null,
   "id": "a6485b66-9227-4119-b2ae-37dae9d39636",
   "metadata": {},
   "outputs": [],
   "source": [
    "selected_lat = 20\n",
    "plt.figure(figsize = (10, 10))\n",
    "\n",
    "SSHA_slice = SSHA_masked[ selected_lat, :, day0:day0+time_range].T\n",
    "plt.subplot(311) \n",
    "plt.title('a) AVISO SSH Hovmöller plot: Latitude: ' + str(lat[selected_lat]) + '$^\\circ$N', fontsize = 12)\n",
    "plt.pcolormesh(lon, time, SSHA_slice, cmap = cmo.cm.balance, vmin = -.12, vmax = .12)\n",
    "plt.plot(lon, np.repeat(time[day1 - day0], len(lon)))\n",
    "plt.colorbar()\n",
    "plt.ylabel('time (days)', fontsize = 12)\n",
    "plt.yticks(time[0::2], time[0::2] - time[0])\n",
    "\n",
    "\n",
    "plt.subplot(312) \n",
    "plt.title('b) Rossby wave Hovmöller plot: Latitude: ' \n",
    "          + str(lat[selected_lat]) + '$^\\circ$N', fontsize = 12)\n",
    "plt.pcolormesh(lon, time, MSLA_fwrd[selected_lat, :, :time_range].T, cmap = cmo.cm.balance, vmin = -.12, vmax = .12)\n",
    "plt.plot(lon, np.repeat(time[day1 - day0], len(lon)))\n",
    "plt.colorbar()\n",
    "plt.xlabel('longitude ($^\\circ$W)', fontsize = 12)\n",
    "plt.ylabel('time (days)', fontsize = 12)\n",
    "plt.yticks(time[0::4], time[0::4] - time[0])\n",
    "\n",
    "plt.subplot(313) \n",
    "plt.title('c) Hovmöller plot difference: Latitude: ' \n",
    "          + str(lat[selected_lat]) + '$^\\circ$N', fontsize = 12)\n",
    "plt.pcolormesh(lon, time, SSHA_slice - MSLA_fwrd[selected_lat, :, :time_range].T,\n",
    "               cmap = cmo.cm.balance, vmin = -.12, vmax = .12)\n",
    "plt.plot(lon, np.repeat(time[day1 - day0], len(lon)))\n",
    "plt.colorbar()\n",
    "plt.xlabel('longitude ($^\\circ$W)', fontsize = 12)\n",
    "plt.ylabel('time (days)', fontsize = 12)\n",
    "plt.yticks(time[0::4], time[0::4] - time[0])\n",
    "\n",
    "plt.tight_layout()\n",
    "plt.savefig('./hovmoller/Hovmoller' +'_lat_' + str(selected_lat) + '.png', dpi = 300)"
   ]
  },
  {
   "cell_type": "code",
   "execution_count": null,
   "id": "2544c225-944e-4757-a9dc-37bcb00a54e3",
   "metadata": {},
   "outputs": [],
   "source": [
    "selected_lat = 10\n",
    "plt.figure(figsize = (10, 10))\n",
    "\n",
    "plt.subplot(311) \n",
    "plt.title('a) AVISO SSH Hovmöller plot: Latitude: ' + str(lat[selected_lat]) + '$^\\circ$N', fontsize = 12)\n",
    "plt.pcolormesh(lon, time,  SSHA_masked[ selected_lat,:, day0:day0+time_range].T, cmap = cmo.cm.balance, vmin = -.12, vmax = .12)\n",
    "plt.plot(lon, np.repeat(time[day1 - day0], len(lon)))\n",
    "plt.colorbar()\n",
    "plt.ylabel('time (days)', fontsize = 12)\n",
    "plt.yticks(time[0::2], time[0::2] - time[0])\n",
    "\n",
    "\n",
    "plt.subplot(312) \n",
    "plt.title('b) Rossby wave Hovmöller plot: Latitude: ' \n",
    "          + str(lat[selected_lat]) + '$^\\circ$N', fontsize = 12)\n",
    "plt.pcolormesh(lon, time, MSLA_fwrd[ selected_lat, :, :time_range].T, cmap = cmo.cm.balance, vmin = -.12, vmax = .12)\n",
    "plt.plot(lon, np.repeat(time[day1 - day0], len(lon)))\n",
    "plt.colorbar()\n",
    "plt.xlabel('longitude ($^\\circ$W)', fontsize = 12)\n",
    "plt.ylabel('time (days)', fontsize = 12)\n",
    "plt.yticks(time[0::4], time[0::4] - time[0])\n",
    "\n",
    "plt.subplot(313) \n",
    "plt.title('c) Hovmöller plot difference: Latitude: ' \n",
    "          + str(lat[selected_lat]) + '$^\\circ$N', fontsize = 12)\n",
    "plt.pcolormesh(lon, time, SSHA_masked[ selected_lat, :, day0:day0+time_range].T - MSLA_fwrd[selected_lat, :, :time_range].T,\n",
    "               cmap = cmo.cm.balance, vmin = -.12, vmax = .12)\n",
    "plt.plot(lon, np.repeat(time[day1 - day0], len(lon)))\n",
    "plt.colorbar()\n",
    "plt.xlabel('longitude ($^\\circ$W)', fontsize = 12)\n",
    "plt.ylabel('time (days)', fontsize = 12)\n",
    "plt.yticks(time[0::4], time[0::4] - time[0])\n",
    "\n",
    "plt.tight_layout()\n",
    "plt.savefig('./hovmoller/Hovmoller' +'_lat_' + str(selected_lat) + '.png', dpi = 300)"
   ]
  },
  {
   "cell_type": "markdown",
   "id": "70d9b920-0960-495c-8fca-294ed3ef49ac",
   "metadata": {},
   "source": [
    "## Diagnostics"
   ]
  },
  {
   "cell_type": "markdown",
   "id": "2bff3ef2-867f-4b59-a995-a71b0642bb8d",
   "metadata": {
    "tags": []
   },
   "source": [
    "### Phase speed is faster for longer waves. the maximum zonal phase speed is Cx = $\\beta * R^2$. For those waves, the propagration speed for the ROssby waves: "
   ]
  },
  {
   "cell_type": "code",
   "execution_count": null,
   "id": "51cf68e2-3876-4327-8349-14bf8728bf38",
   "metadata": {},
   "outputs": [],
   "source": [
    "Beta * Rm ** -2, 'degree/s', Beta * Rm ** -2 * 1e5, 'm/s'"
   ]
  },
  {
   "cell_type": "code",
   "execution_count": null,
   "id": "7fdf500e-2c08-4a44-a06f-77636fd20bc9",
   "metadata": {},
   "outputs": [],
   "source": [
    "Beta * Rm ** -2  * 86400 * 20, 'degree per 20 days',Beta * Rm ** -2 * 1e5 * 86400 * 20 /1000, 'km'"
   ]
  },
  {
   "cell_type": "markdown",
   "id": "895c2020-6335-473a-a985-648f9ad5f3ed",
   "metadata": {
    "tags": []
   },
   "source": [
    "### Compare persistence error to forecast error: do wave dynamics predict SSH anomalies better than persistence? "
   ]
  },
  {
   "cell_type": "markdown",
   "id": "bdcf43be-219e-4f26-85b6-c0939ac1397c",
   "metadata": {},
   "source": [
    "## plot persistence versus prediction error"
   ]
  },
  {
   "cell_type": "code",
   "execution_count": null,
   "id": "8241e956-d3fe-4705-a781-81e1f9045512",
   "metadata": {},
   "outputs": [],
   "source": [
    "persistence = SSHA.data[:, :, day0:day0+time_range] - SSHA.data[:, :, day0:day0+1]\n",
    "prediction_err = MSLA_fwrd[:, :, :time_range] - SSHA.data[:, :, day0:day0+time_range]\n",
    "rms_persistence = np.zeros(persistence.shape[-1])\n",
    "rms_prediction_err = np.zeros(prediction_err.shape[-1])\n",
    "for t in range(persistence.shape[-1]):\n",
    "    #rms_persistence_err[t] = np.sqrt(np.mean(persistence_err[:, :, t] ** 2)) / np.sqrt(np.mean(SSHA[:, :, 0:1].data ** 2))\n",
    "    rms_persistence[t] = np.sqrt(np.mean(persistence[:, :, t] ** 2)) / np.sqrt(np.mean(SSHA[:, :, day0 + t :day0 + 1 + t].data ** 2)) \n",
    "    # day by day persistence\n",
    "    rms_prediction_err[t] = np.sqrt(np.mean(prediction_err[:, :, t] ** 2)) / np.sqrt(np.mean(SSHA[:, :, day0 + t].data ** 2))"
   ]
  },
  {
   "cell_type": "code",
   "execution_count": null,
   "id": "c96c6511-8efe-41b8-8457-9aa857968d8e",
   "metadata": {},
   "outputs": [],
   "source": [
    "rms_persistence"
   ]
  },
  {
   "cell_type": "code",
   "execution_count": null,
   "id": "18ceb244-efe1-4152-9e77-4fcc6cc27658",
   "metadata": {},
   "outputs": [],
   "source": [
    "plt.figure(figsize = (8, 4))\n",
    "plt.plot(time[:time_range],  rms_prediction_err[:time_range] * 100,  \n",
    "         '-*',linewidth = 2, color = 'r', label = 'Estimate error')\n",
    "plt.plot(time[:time_range], (rms_persistence[:time_range]) * 100,  \n",
    "         '-x',linewidth = 2, color = 'k', label = 'Persistence')\n",
    "plt.plot(time, np.repeat(100, len(time)),linestyle = '--',  color = 'y')\n",
    "plt.xticks(time[:time_range][0::4], time[:time_range][0::4] - time[0])\n",
    "plt.ylabel('Percentage (%)', fontsize = 13)\n",
    "plt.xlabel('days since ' + str(date_time[0])[:10], fontsize = 13)\n",
    "plt.title('Estimate error VS persistence', fontsize = 14)\n",
    "plt.legend()\n",
    "plt.tight_layout()\n",
    "plt.savefig('./prediction_vs_persistence/estimate_err_vs_persistence_' + str(date_time[day0])[:10] + '.png', dpi = 300)"
   ]
  },
  {
   "cell_type": "markdown",
   "id": "2457eed8-d5b3-4045-a24f-9b3a49593df2",
   "metadata": {},
   "source": [
    "### Make an ensemble of persistence"
   ]
  },
  {
   "cell_type": "code",
   "execution_count": null,
   "id": "b4b79009-fc96-4576-9caa-64f75567154a",
   "metadata": {
    "tags": []
   },
   "outputs": [],
   "source": [
    "persistence0 = SSHA.data[:, :, day0:day0+time_range] - SSHA.data[:, :, day0:day0+1]\n",
    "persistence1 = SSHA.data[:, :, day0:day0+time_range] - SSHA.data[:, :, day1:day1+1]\n",
    "prediction_err = MSLA_fwrd[:, :, :time_range] - SSHA.data[:, :, day0:day0+time_range]\n",
    "rms_persistence0 = np.zeros(persistence.shape[-1])\n",
    "rms_persistence1 = np.zeros(persistence.shape[-1])\n",
    "rms_prediction_err = np.zeros(prediction_err.shape[-1])\n",
    "\n",
    "for t in range(persistence.shape[-1]):\n",
    "    rms_persistence0[t] = np.sqrt(np.mean(persistence0[:, :, t] ** 2)) / np.sqrt(np.mean(SSHA[:, :, day0 + t :day0 + t + 1].data ** 2)) # day 0\n",
    "    rms_persistence1[t] = np.sqrt(np.mean(persistence1[:, :, t] ** 2)) / np.sqrt(np.mean(SSHA[:, :, day1 + t :day1 + t + 1].data ** 2)) # day 70\n",
    "    rms_prediction_err[t] = np.sqrt(np.mean(prediction_err[:, :, t] ** 2)) / np.sqrt(np.mean(SSHA[:, :, day1 + t :day1 + t + 1].data ** 2))\n",
    "    \n",
    "plt.figure(figsize = (8,4))\n",
    "plt.plot(time[:time_range],  rms_prediction_err[:time_range] * 100,  \n",
    "         '-*',linewidth = 2,  label = 'Estimate error from ' + str(date_time[day0])[:10])\n",
    "plt.plot(time[:time_range], (rms_persistence0[:time_range]) * 100,  \n",
    "         '-x',linewidth = 2,  label = 'Persistence from ' + str(date_time[day0])[:10])\n",
    "#plt.plot(time[:time_range], (rms_persistence1[:time_range]) * 100,  \n",
    "#         '-x',linewidth = 2, label = 'Persistence from ' + str(date_time[day1])[:10])\n",
    "plt.plot(time, np.repeat(100, len(time)),linestyle = '--',  color = 'y')\n",
    "plt.xticks(time[:time_range][0::4], time[:time_range][0::4] - time[0])\n",
    "plt.ylabel('Percentage (%)', fontsize = 13)\n",
    "plt.xlabel('days since ' + str(date_time[0])[:10], fontsize = 13)\n",
    "plt.legend()\n",
    "plt.tight_layout()\n",
    "plt.savefig('./prediction_vs_persistence/fwd_prediction_err_vs_persistence_' \n",
    "            + str(M) + '_waves_' + str(int((day1 - day0)*5)) + 'days.png', dpi = 300)"
   ]
  },
  {
   "cell_type": "code",
   "execution_count": null,
   "id": "3909e787-7b8f-4e7e-9eba-ea9fa9f0b0cc",
   "metadata": {},
   "outputs": [],
   "source": [
    "# SSHA_predicted = np.zeros([time_range, MSLA0[:, :, 0:1].size])\n",
    "# SSHA_true = np.zeros([time_range, MSLA0[:, :, 0:1].size])\n",
    "# variance_explained_inverse  = np.zeros(time_range)\n",
    "# MSLA_fwrd = np.zeros([MSLA0.shape[0], MSLA0.shape[1], time_range])\n",
    "\n",
    "# ind_list = list('abcdefghijklm')\n",
    "# count = 0\n",
    "# plt.figure(figsize = (15, 12))\n",
    "# for day in range(0, 12, 4):\n",
    "#     print(count)\n",
    "#     # SSH data\n",
    "#     MSLA = SSHA_masked[:, :, day0+day: day0+day+1]\n",
    "#     # Build basis function H matrix\n",
    "#     H_all = build_h_matrix(MSLA, MModes, k_n, l_n, lon, lat, T_time[day0:], Psi, Rm, day0 + day)\n",
    "#     # forecast SSH\n",
    "#     SSHA_predicted[day], SSHA_true[day], variance_explained_inverse[day] = forecast_ssh(MSLA, amp,  H_all)\n",
    "#     # reverse vector\n",
    "#     MSLA_fwrd[:, :, day:day+1] = reverse_vector(MSLA, SSHA_predicted[day])\n",
    "\n",
    "\n",
    "#     plt.subplot(3, 3, count + 1)\n",
    "#     plt.pcolormesh(lon, lat, MSLA[:, :, 0], cmap = cmo.cm.balance, vmin = -.15, vmax = .15) \n",
    "#     plt.colorbar()\n",
    "#     plt.xlabel('Longitude (\\N{DEGREE SIGN}W)', fontsize = 14)\n",
    "#     plt.ylabel('Latitude (\\N{DEGREE SIGN}N)', fontsize = 14)\n",
    "#     plt.title(ind_list[count] + ') AVISO data ' + str(date_time[day])[:10], fontsize = 14)\n",
    "\n",
    "#     plt.subplot(3, 3, count + 2)\n",
    "#     plt.pcolormesh(lon, lat, MSLA_fwrd[:, :, day], vmin = -.15, vmax = .15, cmap = cmo.cm.balance)\n",
    "#     plt.colorbar()\n",
    "#     plt.xlabel('Longitude (\\N{DEGREE SIGN}W)', fontsize = 14)\n",
    "#     plt.ylabel('Latitude (\\N{DEGREE SIGN}N)', fontsize = 14)\n",
    "#     plt.title(ind_list[count+1] + ') Idealized Rossby Wave Model, ' + str((1- variance_explained_inverse[day]) * 100)[:4] + '%',  fontsize = 14)\n",
    "\n",
    "#     residual = MSLA[:, :, 0] - MSLA_fwrd[:, :, day] \n",
    "#     plt.subplot(3, 3, count + 3)\n",
    "#     plt.pcolormesh(lon, lat, residual, cmap = cmo.cm.balance, vmin = -.15, vmax = .15)\n",
    "#     plt.colorbar()\n",
    "#     plt.xlabel('Longitude (\\N{DEGREE SIGN}W)', fontsize = 14)\n",
    "#     plt.ylabel('Latitude (\\N{DEGREE SIGN}N)', fontsize = 14)\n",
    "#     plt.title(ind_list[count+2] +') Residual variance ' + str((variance_explained_inverse[day]) * 100)[:4] + '%', fontsize = 14)\n",
    "#     count = count + 3\n",
    "#     plt.tight_layout()\n",
    "\n",
    "# plt.savefig('./fwrd_ssh_' + str(date_time[day0 + day])[:10] +'_' + str(skill.size) + 'waves.png', dpi = 300)"
   ]
  },
  {
   "cell_type": "code",
   "execution_count": null,
   "id": "3fab2fb8-e851-4625-96c3-bce8b256abc0",
   "metadata": {},
   "outputs": [],
   "source": []
  },
  {
   "cell_type": "code",
   "execution_count": null,
   "id": "26ca4f9c-dc0e-4904-9d37-71aa63765778",
   "metadata": {},
   "outputs": [],
   "source": []
  },
  {
   "cell_type": "code",
   "execution_count": null,
   "id": "bc0d3321-6dca-4d24-897f-a7cd87b8e43f",
   "metadata": {},
   "outputs": [],
   "source": []
  }
 ],
 "metadata": {
  "kernelspec": {
   "display_name": "Python 3 (ipykernel)",
   "language": "python",
   "name": "python3"
  },
  "language_info": {
   "codemirror_mode": {
    "name": "ipython",
    "version": 3
   },
   "file_extension": ".py",
   "mimetype": "text/x-python",
   "name": "python",
   "nbconvert_exporter": "python",
   "pygments_lexer": "ipython3",
   "version": "3.11.4"
  }
 },
 "nbformat": 4,
 "nbformat_minor": 5
}
