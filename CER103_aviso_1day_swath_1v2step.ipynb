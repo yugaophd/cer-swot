{
 "cells": [
  {
   "cell_type": "markdown",
   "id": "c6b479bc-dd59-4690-9f80-bc9e8b6d0be9",
   "metadata": {
    "tags": []
   },
   "source": [
    "# AVISO Inversion with all data and swath data, no error"
   ]
  },
  {
   "cell_type": "code",
   "execution_count": 1,
   "id": "69694b22-1973-4c65-9c44-870f99df3cc2",
   "metadata": {
    "tags": []
   },
   "outputs": [],
   "source": [
    "import numpy as np\n",
    "import scipy\n",
    "import gsw\n",
    "import xarray as xr\n",
    "import cmocean as cmo\n",
    "from numpy import linalg as LA\n",
    "from scipy import linalg\n",
    "import matplotlib.pyplot as plt\n",
    "import cartopy.crs as ccrs\n",
    "from tqdm import tqdm\n",
    "from aviso_rossby_wave import skill_matrix, build_h_matrix\n",
    "from aviso_rossby_wave import reverse_vector, forecast_ssh\n",
    "from aviso_rossby_wave import build_swath, inversion, inversion2, make_error_over_time"
   ]
  },
  {
   "cell_type": "markdown",
   "id": "33cf13f4-01b1-4a04-afc8-6c9a03e77544",
   "metadata": {},
   "source": [
    "## Model coefficients such as starting date, number of waves etc."
   ]
  },
  {
   "cell_type": "code",
   "execution_count": 2,
   "id": "4c7fcf81-e2e4-4587-85ed-c80c5813987e",
   "metadata": {},
   "outputs": [
    {
     "data": {
      "text/plain": [
       "array([0.0005, 0.0015, 0.0025, 0.0035, 0.0045, 0.0055, 0.0065, 0.0075,\n",
       "       0.0085, 0.0095, 0.0105, 0.0115, 0.0125, 0.0135, 0.0145, 0.0155,\n",
       "       0.0165, 0.0175, 0.0185, 0.0195, 0.0205, 0.0215, 0.0225, 0.0235,\n",
       "       0.0245, 0.0255, 0.0265, 0.0275, 0.0285, 0.0295])"
      ]
     },
     "execution_count": 2,
     "metadata": {},
     "output_type": "execute_result"
    }
   ],
   "source": [
    "alpha_std = np.arange(5e-4, 3.05e-2, 1e-3) # standard deviation of error paramters\n",
    "alpha_std "
   ]
  },
  {
   "cell_type": "code",
   "execution_count": 3,
   "id": "f0d485e9-52aa-4079-93ed-765f6e6397e1",
   "metadata": {},
   "outputs": [],
   "source": [
    "day0, day1 = 0, 40 # \n",
    "Tdim = day1 - day0\n",
    "time_range = (day1 - day0) * 2\n",
    "start_date = '2016-01-01' ## starting date\n",
    "n_waves = '190' #number of waves\n",
    "exp = 2 # P_over_R = K^-1\n",
    "mu, sigma = 0, alpha_std[3] # std of error amp"
   ]
  },
  {
   "cell_type": "markdown",
   "id": "51d1ff49-49cb-4a2a-a18d-274708bc6bed",
   "metadata": {},
   "source": [
    "## Subset 10 degree by 10 degree of ocean"
   ]
  },
  {
   "cell_type": "code",
   "execution_count": 4,
   "id": "caf43109-f9b7-45c7-a589-46396b460c23",
   "metadata": {},
   "outputs": [],
   "source": [
    "lonidx_west, lonidx_east  =  60, 100\n",
    "latidx_south, latidx_north = 34, 74"
   ]
  },
  {
   "cell_type": "code",
   "execution_count": 5,
   "id": "bbb4bc36-7cf7-436b-8972-6813471eedf8",
   "metadata": {
    "tags": []
   },
   "outputs": [],
   "source": [
    "avisso_ds = xr.open_dataset('./aviso_msla_ccs_1d.nc')\n",
    "SSHA = avisso_ds.msla[latidx_south:latidx_north,lonidx_west:lonidx_east, :]"
   ]
  },
  {
   "cell_type": "code",
   "execution_count": 6,
   "id": "01b3b6d0-8165-4b52-b86d-4d8c282d1807",
   "metadata": {},
   "outputs": [],
   "source": [
    "T_time = avisso_ds.time.data[day0:] * 86400 # in seconds\n",
    "date_time = avisso_ds.date_time.data[day0:]"
   ]
  },
  {
   "cell_type": "code",
   "execution_count": 7,
   "id": "d43ed46c-0678-4205-afcc-eec151387e2c",
   "metadata": {},
   "outputs": [],
   "source": [
    "SSHA = SSHA - SSHA.mean(axis = -1) # - SSHA.mean(axis = 0)"
   ]
  },
  {
   "cell_type": "code",
   "execution_count": 8,
   "id": "1229be99-1fa1-4767-86ca-b327350f1307",
   "metadata": {},
   "outputs": [],
   "source": [
    "lon, lat = (360 - avisso_ds.lon[lonidx_west:lonidx_east].data) * -1, avisso_ds.lat[latidx_south:latidx_north].data"
   ]
  },
  {
   "cell_type": "markdown",
   "id": "1bacc80c-4499-4193-a188-e0148f865060",
   "metadata": {},
   "source": [
    "#### Rossby wave vertical modes"
   ]
  },
  {
   "cell_type": "code",
   "execution_count": 9,
   "id": "0c6f6c2e-f7c0-415e-a806-4c85c6df4e77",
   "metadata": {},
   "outputs": [],
   "source": [
    "MModes = 1"
   ]
  },
  {
   "cell_type": "markdown",
   "id": "1635cbe4-aa7e-47de-a7bb-55a9a9936b10",
   "metadata": {},
   "source": [
    "### Inversion with selecetd swath data points"
   ]
  },
  {
   "cell_type": "code",
   "execution_count": 10,
   "id": "98c97cec-d7e1-44e3-9df4-cead42ed54c2",
   "metadata": {},
   "outputs": [],
   "source": [
    "strat_ds = xr.open_dataset('./stratification_sample_ccs.nc')"
   ]
  },
  {
   "cell_type": "markdown",
   "id": "021612da-cfa8-4d67-be99-03a4443cb5a9",
   "metadata": {},
   "source": [
    "### parameters"
   ]
  },
  {
   "cell_type": "code",
   "execution_count": 11,
   "id": "9540be9d-2836-435e-8ac7-96c50a7abbe0",
   "metadata": {},
   "outputs": [],
   "source": [
    "Phi0 = lat.mean() # central latitude (φ0)\n",
    "Omega = 7.27e-5 # Ω is the angular speed of the earth\n",
    "Earth_radius = 6.371e6 / 1e5 # meters\n",
    "Beta = 2 * Omega * np.cos(Phi0) / Earth_radius\n",
    "f0 = 2 * Omega * np.sin(Phi0) #1.0313e-4 # 45 N\n",
    "Psi = strat_ds.Psi.data"
   ]
  },
  {
   "cell_type": "markdown",
   "id": "39c8b26a-ebe2-4f3f-ae17-e2cf927b9aab",
   "metadata": {
    "tags": []
   },
   "source": [
    "#### Rossby wave estimate"
   ]
  },
  {
   "cell_type": "code",
   "execution_count": 12,
   "id": "34a1d2d0-9a23-44ee-9c04-14769126a49b",
   "metadata": {
    "tags": []
   },
   "outputs": [],
   "source": [
    "# wave_ds = xr.open_dataset('./rossby_wave_estimate_' + start_date + '_' + n_waves + 'waves.nc') # forward model - filtered AVISO\n",
    "wave_ds =  xr.open_dataset('rossby_wave_estimate_2016-01-01_190waves_data40days.nc')"
   ]
  },
  {
   "cell_type": "code",
   "execution_count": 13,
   "id": "54c8239c-42ca-4cc1-847e-672ea9d4d6c1",
   "metadata": {},
   "outputs": [],
   "source": [
    "l_n_orig, k_n_orig = wave_ds.l_n.data, wave_ds.k_n.data\n",
    "amp = wave_ds.Amplitudes.data\n",
    "time= wave_ds.time.data\n",
    "MSLA_fwd = wave_ds.MSLA_forward.data\n",
    "Rm = wave_ds.Rm.data # Rossby deformation radius, unit: degree"
   ]
  },
  {
   "cell_type": "code",
   "execution_count": 14,
   "id": "90556392-a5e1-421f-b994-5f3962c6d8eb",
   "metadata": {},
   "outputs": [],
   "source": [
    "l_n = l_n_orig.reshape(len(l_n_orig), MModes)\n",
    "k_n = k_n_orig.reshape(len(k_n_orig), MModes)"
   ]
  },
  {
   "cell_type": "markdown",
   "id": "918932a0-433b-4880-b6f7-543c45cc0e4d",
   "metadata": {},
   "source": [
    "#### assimilate multiple days of data"
   ]
  },
  {
   "cell_type": "code",
   "execution_count": 15,
   "id": "705e3683-cf23-4c26-a736-fa666f22420b",
   "metadata": {},
   "outputs": [],
   "source": [
    "MSLA0 = wave_ds.MSLA_forward.data[:, :, day0:day1] # Filtered SSH"
   ]
  },
  {
   "cell_type": "code",
   "execution_count": 16,
   "id": "c52d0b02-5f24-4b04-8049-d1729624ce42",
   "metadata": {
    "tags": []
   },
   "outputs": [],
   "source": [
    "### assess skill, get indices\n",
    "skill, SSHA_vector, Iindex, Jindex, Tindex = skill_matrix(MSLA0, Psi, k_n, l_n, MModes, Rm, lon, lat, T_time) # skill marrix"
   ]
  },
  {
   "cell_type": "markdown",
   "id": "5d998503-c5c6-4c36-b727-02c38b0fce2c",
   "metadata": {},
   "source": [
    "#### Number of models/waves"
   ]
  },
  {
   "cell_type": "code",
   "execution_count": 17,
   "id": "b4f7033b-e614-48da-998b-4be395126805",
   "metadata": {},
   "outputs": [],
   "source": [
    "M = k_n.size * l_n.size"
   ]
  },
  {
   "cell_type": "markdown",
   "id": "1fbf4331-0d05-47ec-b2d9-228888f4ecce",
   "metadata": {
    "tags": []
   },
   "source": [
    "#### Plot skill matrix"
   ]
  },
  {
   "cell_type": "code",
   "execution_count": 18,
   "id": "60d05cd6-d7b8-4299-bdf0-20849b5a2161",
   "metadata": {},
   "outputs": [],
   "source": [
    "kk, ll = np.meshgrid(k_n, l_n)"
   ]
  },
  {
   "cell_type": "markdown",
   "id": "ecf2d45f-982e-492f-b309-58e4132eecd5",
   "metadata": {
    "tags": []
   },
   "source": [
    "#### Build basis function H matrix"
   ]
  },
  {
   "cell_type": "code",
   "execution_count": 19,
   "id": "f668e49e-12bb-41d4-9b64-869fbbfdf63b",
   "metadata": {},
   "outputs": [
    {
     "name": "stderr",
     "output_type": "stream",
     "text": [
      "/var/folders/tb/ynf00vf51q52gx0ngbt970v00000gn/T/ipykernel_2816/1524257252.py:12: DeprecationWarning: Conversion of an array with ndim > 0 to a scalar is deprecated, and will error in future. Ensure you extract a single element from your array before performing this operation. (Deprecated NumPy 1.25.)\n",
      "  omega[kk, ll, mm] =  -(Beta * k_n[kk, mm]) / (k_n[kk, mm] ** 2 + l_n[ll, mm] ** 2 + Rm ** -2)\n"
     ]
    }
   ],
   "source": [
    "dlon = lon - lon.mean()\n",
    "dlat = lat - lat.mean()\n",
    "    \n",
    "H_cos, H_sin = np.zeros([len(SSHA_vector), M]), np.zeros([len(SSHA_vector), M])\n",
    "H_all = np.zeros([len(SSHA_vector), M * 2])\n",
    "omega = np.zeros([len(k_n), len(l_n), MModes])\n",
    "\n",
    "nn = 0 \n",
    "for kk in range(len(k_n)):\n",
    "    for ll in range(len(l_n)):\n",
    "        for mm in range(MModes):\n",
    "            omega[kk, ll, mm] =  -(Beta * k_n[kk, mm]) / (k_n[kk, mm] ** 2 + l_n[ll, mm] ** 2 + Rm ** -2)\n",
    "            for count in range(len(Iindex)):\n",
    "                # (data, model)\n",
    "                H_cos[count, nn] = Psi[0, mm] * np.cos(k_n[kk, mm] * dlon[int(Iindex[count])] + l_n[ll, mm] * dlat[int(Jindex[count])] - omega[kk, ll, mm] * T_time[int(Tindex[count])]) \n",
    "                H_sin[count, nn] = Psi[0, mm] * np.sin(k_n[kk, mm] * dlon[int(Iindex[count])] + l_n[ll, mm] * dlat[int(Jindex[count])] - omega[kk, ll, mm] * T_time[int(Tindex[count])])\n",
    "            nn += 1\n",
    "\n",
    "H_all[:, 0::2] = H_cos \n",
    "H_all[:, 1::2] = H_sin"
   ]
  },
  {
   "cell_type": "markdown",
   "id": "b5bec5fc-0675-4f76-b4ad-4c78926def35",
   "metadata": {
    "tags": []
   },
   "source": [
    "#### signal to noise ratio"
   ]
  },
  {
   "cell_type": "markdown",
   "id": "aceb845e-6a92-4b15-acb0-1ab6c063007f",
   "metadata": {},
   "source": [
    "Signal to noise ratio decreases in proportion to $k^{-1}$"
   ]
  },
  {
   "cell_type": "code",
   "execution_count": 20,
   "id": "01a95cba-1cb1-4c8b-9fd3-78877c68b6ae",
   "metadata": {},
   "outputs": [
    {
     "name": "stderr",
     "output_type": "stream",
     "text": [
      "/var/folders/tb/ynf00vf51q52gx0ngbt970v00000gn/T/ipykernel_2816/1271296567.py:14: DeprecationWarning: Conversion of an array with ndim > 0 to a scalar is deprecated, and will error in future. Ensure you extract a single element from your array before performing this operation. (Deprecated NumPy 1.25.)\n",
      "  k_[counter] , l_[counter]  = kk, ll\n",
      "/var/folders/tb/ynf00vf51q52gx0ngbt970v00000gn/T/ipykernel_2816/1271296567.py:15: DeprecationWarning: Conversion of an array with ndim > 0 to a scalar is deprecated, and will error in future. Ensure you extract a single element from your array before performing this operation. (Deprecated NumPy 1.25.)\n",
      "  kl[counter] =  np.sqrt(kk ** 2 + ll ** 2) # wavenumber\n"
     ]
    }
   ],
   "source": [
    "counter = 0\n",
    "exp = -2\n",
    "ssh_std = .1\n",
    "k0 = l_n.max() # flat at or below k0 \n",
    "\n",
    "p_diagonal = np.zeros([2 * M])\n",
    "kl, kl_plot = np.zeros(M), np.zeros(2*M)\n",
    "k_, l_ = np.zeros(len(l_n)*len(k_n)), np.zeros(len(l_n)*len(k_n))\n",
    "counter = 0\n",
    "R = 0.01 # noise = 1. cm\n",
    "\n",
    "for kk in l_n:\n",
    "    for ll in k_n:\n",
    "        k_[counter] , l_[counter]  = kk, ll\n",
    "        kl[counter] =  np.sqrt(kk ** 2 + ll ** 2) # wavenumber\n",
    "        kl_plot[2 * counter], kl_plot[2 * counter + 1] = kl[counter], kl[counter]\n",
    "        p_diagonal[2 * counter] = (kl[counter]+k0) ** exp \n",
    "        p_diagonal[2 * counter + 1] = (kl[counter]+k0) ** exp \n",
    "        counter += 1   \n",
    "\n",
    "P_matrix = np.zeros([2 * M, 2 * M])\n",
    "p_factor = .16/p_diagonal.sum() # variance of the model,  convert sum of variance from waven number to meter\n",
    "np.fill_diagonal(P_matrix[:],  R / p_diagonal / p_factor)"
   ]
  },
  {
   "cell_type": "markdown",
   "id": "e14285b7-6a31-4b5e-aa24-f5c4be15b2ae",
   "metadata": {},
   "source": [
    "#### build satellite swath"
   ]
  },
  {
   "cell_type": "code",
   "execution_count": 21,
   "id": "8b678963-29e9-4be4-a83e-3bf96cf74185",
   "metadata": {},
   "outputs": [],
   "source": [
    "swath_width, x_swath = 6, 20\n",
    "days = np.arange(day0, day1)"
   ]
  },
  {
   "cell_type": "code",
   "execution_count": 22,
   "id": "c4e18e32-7ed5-4de9-98e1-c5f92542702f",
   "metadata": {},
   "outputs": [],
   "source": [
    "xvalid_index, yvalid_index, tindex, yswath_index_left, yswath_index_right, y_mask_left, y_mask_right = build_swath(swath_width, x_swath, days, lon, lat)"
   ]
  },
  {
   "cell_type": "markdown",
   "id": "58240a23-c923-48fe-87c8-d96cd47ebfac",
   "metadata": {},
   "source": [
    "#### Add errors to the swaths"
   ]
  },
  {
   "cell_type": "code",
   "execution_count": 23,
   "id": "97aa1352-c1b7-44fb-a153-a602a71d00fb",
   "metadata": {},
   "outputs": [],
   "source": [
    "time_factor = np.arange(1, 1 + day1-day0)"
   ]
  },
  {
   "cell_type": "code",
   "execution_count": 24,
   "id": "9a2d447a-aadb-4e91-83dd-54755698f45b",
   "metadata": {},
   "outputs": [],
   "source": [
    "# generate error parameter with Gaussian distribution \n",
    "alpha = np.zeros([Tdim, 7, 2]) #np.random.normal(mu, sigma, Tdim * 7).reshape(Tdim, 7) #\n",
    "for nn in range(7):\n",
    "    alpha[:, nn:nn+1,:] = np.random.normal(mu, sigma, [Tdim,1,2]) #TEST"
   ]
  },
  {
   "cell_type": "code",
   "execution_count": 25,
   "id": "270d161e-218c-4dd3-a258-c02bda0d4999",
   "metadata": {},
   "outputs": [],
   "source": [
    "timing_err_valid, roll_err_valid, baseline_dilation_err_valid, phase_err_valid, xc1_valid, xc2_valid  = make_error_over_time(days, alpha, yswath_index_left, yswath_index_right, y_mask_left, y_mask_right)"
   ]
  },
  {
   "cell_type": "code",
   "execution_count": 26,
   "id": "616e4399-1218-44d6-86a5-310103d2e2a6",
   "metadata": {},
   "outputs": [
    {
     "data": {
      "text/plain": [
       "(0.0029472083595462706,\n",
       " 0.006617610359190088,\n",
       " 0.010977003949428077,\n",
       " 0.0075024552271429285)"
      ]
     },
     "execution_count": 26,
     "metadata": {},
     "output_type": "execute_result"
    }
   ],
   "source": [
    "# Compute the RMS for each variable\n",
    "rms_timing_err = np.sqrt(np.mean(timing_err_valid**2))\n",
    "rms_roll_err = np.sqrt(np.mean(roll_err_valid**2))\n",
    "rms_baseline_dilation_err = np.sqrt(np.mean(baseline_dilation_err_valid**2))\n",
    "rms_phase_err = np.sqrt(np.mean(phase_err_valid**2))\n",
    "rms_timing_err, rms_roll_err, rms_baseline_dilation_err, rms_phase_err"
   ]
  },
  {
   "cell_type": "markdown",
   "id": "8a96c1c1-b361-4cb0-b600-0f2c28fa6d98",
   "metadata": {
    "tags": []
   },
   "source": [
    "#### sample SSH, errors and add white noise "
   ]
  },
  {
   "cell_type": "code",
   "execution_count": 27,
   "id": "f94e605c-65fa-4cc9-8d63-331c81e2581f",
   "metadata": {},
   "outputs": [],
   "source": [
    "IND_TIMINGl = -7 -7\n",
    "IND_ROLLl = -6 -7\n",
    "IND_BASELINEl = -5 -7\n",
    "IND_PHASE3l, IND_PHASE4l, IND_PHASE5l, IND_PHASE6l = -4 -7, -3-7, -2-7, -1-7\n",
    "\n",
    "IND_TIMINGr = -7 \n",
    "IND_ROLLr = -6\n",
    "IND_BASELINEr = -5\n",
    "IND_PHASE3r, IND_PHASE4r, IND_PHASE5r, IND_PHASE6r = -4, -3, -2, -1"
   ]
  },
  {
   "cell_type": "markdown",
   "id": "c21fd32c-d59d-4ce3-8412-1b68eb7a52bd",
   "metadata": {},
   "source": [
    "#### Sub-sample the SSH, correlated errors and H matrix"
   ]
  },
  {
   "cell_type": "code",
   "execution_count": 28,
   "id": "ec9df5ee-e93e-4940-80c7-e23e049eda24",
   "metadata": {},
   "outputs": [],
   "source": [
    "#### Sub-sample the SSH, correlated errors and H matrix\n",
    "N = len(tindex) # number of data\n",
    "MSLA_swath = np.zeros(N)\n",
    "M = l_n.size * k_n.size\n",
    "nx, ny = len(lon), len(lat)\n",
    "H_swath = np.zeros([N, 2 * (M + Tdim * 7)]) # M: number of model\n",
    "IIndex = np.zeros(N) # N: Number of y data\n",
    "cor_err = np.zeros(N) # Correlated Error N: Number of y data\n",
    "Y_v = np.zeros(N)\n",
    "ssh = np.zeros(N)\n",
    "counter = 0\n",
    "mask=np.zeros([MSLA_fwd.shape[0],MSLA_fwd.shape[1],MSLA_fwd.shape[2]])\n",
    "\n",
    "for ii in range(N):\n",
    "    IIndex[ii] = nx * ny * tindex[ii] + xvalid_index[ii] + nx*yvalid_index[ii] # index in the vector space\n",
    "    ssh[ii] = MSLA_fwd[yvalid_index[ii], xvalid_index[ii], int(tindex[ii])]\n",
    "    cor_err[ii] = timing_err_valid.flatten()[ii] + roll_err_valid.flatten()[ii] + baseline_dilation_err_valid.flatten()[ii] + phase_err_valid.flatten()[ii]\n",
    "    MSLA_swath[ii] = ssh[ii] + cor_err[ii] # filtered AVISO SSH , no error along the satellite passings\n",
    "    mask[yvalid_index[ii], xvalid_index[ii], int(tindex[ii])]=1\n",
    "    for nn in range(M):\n",
    "        JIndex = 2 * MModes * nn # +  2 * mm # Model space\n",
    "        H_swath[ii, JIndex] = H_cos[IIndex[ii].astype(int), nn]\n",
    "        H_swath[ii, JIndex + 1] = H_sin[IIndex[ii].astype(int), nn]"
   ]
  },
  {
   "cell_type": "markdown",
   "id": "12d9c4f3-e89b-4e7e-80ea-3feae0a09377",
   "metadata": {},
   "source": [
    "# Important parameter: Root mean squared correlated error and ssh"
   ]
  },
  {
   "cell_type": "code",
   "execution_count": 29,
   "id": "15106ab9-6d56-4ee2-950c-24aebcaaf13a",
   "metadata": {},
   "outputs": [],
   "source": [
    "rms_err = np.sqrt(np.mean(cor_err**2))\n",
    "rms_ssh = np.sqrt(np.mean(ssh**2))"
   ]
  },
  {
   "cell_type": "code",
   "execution_count": 30,
   "id": "4ee88e75-91e0-4f11-a8a3-4f2b728fa14f",
   "metadata": {},
   "outputs": [],
   "source": [
    "left_valid = len(yswath_index_left.compressed().astype(int))\n",
    "right_valid = len(yswath_index_right.compressed().astype(int)) \n",
    "\n",
    "Valid_points = len(xvalid_index) // Tdim\n",
    "err_basis_func = np.zeros([Valid_points, 7*2])\n",
    "\n",
    "# since satellite tracks are the same for each day in this idealized case, don't loop through time steps\n",
    "# if time did progress, we would need to loop through carefully to build matrix for each day\n",
    "tt=0\n",
    "for ii in range(left_valid):\n",
    "    #timing error\n",
    "    err_basis_func[ii, IND_TIMINGl] = 1 #  alpha_timing, TIMING ERR, distance from nadir Xc\n",
    "    # roll error = alpha[1] * Xc^1\n",
    "    err_basis_func[ii, IND_ROLLl] = xc1_valid[tt, ii]  # alpha_roll, ROLL ERR, distance from nadir Xc\n",
    "    # baseline dialation error = alpha[2] * Xc^2\n",
    "    err_basis_func[ii, IND_BASELINEl] = xc2_valid[tt, ii]  # alpha_base, BASELINE DIALATION ERR, distance from nadir Xc \n",
    "    # phase error \n",
    "    H_neg = np.heaviside(-1 * xc1_valid[tt, ii], 1) #\n",
    "    H_pos = np.heaviside(xc1_valid[tt, ii], 1) # \n",
    "    err_basis_func[ii, IND_PHASE3l] = H_neg                 # alpha_phase3 * np.heaviside(xx - xc, 1)\n",
    "    err_basis_func[ii, IND_PHASE4l] = xc1_valid[tt, ii] * H_neg # alpha_phase4 * Xc * np.heaviside(xx - xc, 1)\n",
    "    err_basis_func[ii, IND_PHASE5l] = H_pos                 # alpha_phase5 * np.heaviside(xx + xc, 1)\n",
    "    err_basis_func[ii, IND_PHASE6l] = xc1_valid[tt, ii] * H_pos # alpha_phase6 * np.heaviside(xx + xc, 1)\n",
    "    \n",
    "for ii in range(left_valid,Valid_points):\n",
    "    #timing error\n",
    "    err_basis_func[ii, IND_TIMINGr] = 1 #  alpha_timing, TIMING ERR, distance from nadir Xc\n",
    "    # roll error = alpha[1] * Xc^1\n",
    "    err_basis_func[ii, IND_ROLLr] = xc1_valid[tt, ii]  # alpha_roll, ROLL ERR, distance from nadir Xc\n",
    "    # baseline dialation error = alpha[2] * Xc^2\n",
    "    err_basis_func[ii, IND_BASELINEr] = xc2_valid[tt, ii]  # alpha_base, BASELINE DIALATION ERR, distance from nadir Xc \n",
    "    # phase error \n",
    "    H_neg = np.heaviside(-1 * xc1_valid[tt, ii], 1) #\n",
    "    H_pos = np.heaviside(xc1_valid[tt, ii], 1) # \n",
    "    err_basis_func[ii, IND_PHASE3r] = H_neg                 # alpha_phase3 * np.heaviside(xx - xc, 1)\n",
    "    err_basis_func[ii, IND_PHASE4r] = xc1_valid[tt, ii] * H_neg # alpha_phase4 * Xc * np.heaviside(xx - xc, 1)\n",
    "    err_basis_func[ii, IND_PHASE5r] = H_pos                 # alpha_phase5 * np.heaviside(xx + xc, 1)\n",
    "    err_basis_func[ii, IND_PHASE6r] = xc1_valid[tt, ii] * H_pos # alpha_phase6 * np.heaviside(xx + xc, 1)"
   ]
  },
  {
   "cell_type": "code",
   "execution_count": 31,
   "id": "74993e33",
   "metadata": {},
   "outputs": [],
   "source": [
    "err_basis_func1=err_basis_func"
   ]
  },
  {
   "cell_type": "code",
   "execution_count": 32,
   "id": "aff2e869-acfc-4f4b-be54-47444c9490f8",
   "metadata": {
    "tags": []
   },
   "outputs": [],
   "source": [
    "### fill the error basis function part of the H matrix\n",
    "for tt in range(Tdim):\n",
    "    H_swath[tt*Valid_points:(tt+1)*Valid_points, 2 * M + tt * 7*2 : 2 * M + (tt+1) * 7*2] = err_basis_func"
   ]
  },
  {
   "cell_type": "markdown",
   "id": "a0cc7a4f-c16a-4746-8111-3a24d59b2d91",
   "metadata": {},
   "source": [
    "#### signal to noise ratio - R/P"
   ]
  },
  {
   "cell_type": "code",
   "execution_count": 33,
   "id": "b9182140-57b0-4599-bbe5-80f1c09de00c",
   "metadata": {},
   "outputs": [
    {
     "name": "stderr",
     "output_type": "stream",
     "text": [
      "/var/folders/tb/ynf00vf51q52gx0ngbt970v00000gn/T/ipykernel_2816/1931342398.py:13: DeprecationWarning: Conversion of an array with ndim > 0 to a scalar is deprecated, and will error in future. Ensure you extract a single element from your array before performing this operation. (Deprecated NumPy 1.25.)\n",
      "  k_[counter] , l_[counter]  = kk, ll\n",
      "/var/folders/tb/ynf00vf51q52gx0ngbt970v00000gn/T/ipykernel_2816/1931342398.py:14: DeprecationWarning: Conversion of an array with ndim > 0 to a scalar is deprecated, and will error in future. Ensure you extract a single element from your array before performing this operation. (Deprecated NumPy 1.25.)\n",
      "  kl[counter] =  np.sqrt(kk ** 2 + ll ** 2) # wavenumber\n"
     ]
    }
   ],
   "source": [
    "counter = 0\n",
    "exp = -2\n",
    "ssh_std = .1\n",
    "k0 = l_n.max() # flat at or below k0 \n",
    "p_diagonal = np.zeros([2 * M + Tdim * 7*2])\n",
    "kl, kl_plot = np.zeros(M), np.zeros(2*M)\n",
    "k_, l_ = np.zeros(len(l_n)*len(k_n)), np.zeros(len(l_n)*len(k_n))\n",
    "counter = 0\n",
    "R = 0.01 # noise = 10. cm (0.1 m), variance = 0.01 m^2\n",
    "\n",
    "for kk in l_n:\n",
    "    for ll in k_n:\n",
    "        k_[counter] , l_[counter]  = kk, ll\n",
    "        kl[counter] =  np.sqrt(kk ** 2 + ll ** 2) # wavenumber\n",
    "        kl_plot[2 * counter], kl_plot[2 * counter + 1] = kl[counter], kl[counter]\n",
    "        p_diagonal[2 * counter] = (kl[counter] + k0) ** exp  * p_factor\n",
    "        p_diagonal[2 * counter + 1] = (kl[counter] + k0) ** exp  * p_factor\n",
    "        counter += 1   \n",
    "\n",
    "p_diagonal[2*M:] = sigma ** 2 # errors\n",
    "\n",
    "P_matrix = np.zeros([2 * M + Tdim * 7*2, 2 * M +  Tdim * 7*2])\n",
    "\n",
    "np.fill_diagonal(P_matrix[:],  R / p_diagonal )"
   ]
  },
  {
   "cell_type": "code",
   "execution_count": 34,
   "id": "38876f0a-f1b9-4d6e-9c60-539d1c706f0f",
   "metadata": {},
   "outputs": [],
   "source": [
    "Y_vector = Y_v #.flatten()# Reshape Y_v to a 1D array\n",
    "H_matrix = H_swath #.reshapezz((Tdim * Valid_points, 2 * M + Tdim * 7*2))"
   ]
  },
  {
   "cell_type": "markdown",
   "id": "b73c3729-faf0-4b0d-bc46-0fc422521944",
   "metadata": {},
   "source": [
    "#### diagnostics: fit error to error basis functions"
   ]
  },
  {
   "cell_type": "markdown",
   "id": "e956b138-4b36-40ef-a1bb-697f03d1e1e4",
   "metadata": {
    "tags": []
   },
   "source": [
    "#### Solve for amplitudes"
   ]
  },
  {
   "cell_type": "code",
   "execution_count": 35,
   "id": "924c7efd-e864-4e3e-b367-1aae0aa92cba",
   "metadata": {},
   "outputs": [],
   "source": [
    "amp_swath, msla_estimated_swath = inversion(MSLA_swath, H_swath, P_matrix) # assimilate the filtered AVISO SSH + error"
   ]
  },
  {
   "cell_type": "markdown",
   "id": "7fe79a34-7988-464a-b965-d2d9430e2b56",
   "metadata": {
    "tags": []
   },
   "source": [
    "#### estimate the errors and ssh : H * amp"
   ]
  },
  {
   "cell_type": "code",
   "execution_count": 36,
   "id": "d5d39c74-3940-40fe-b93c-db9d880a55b4",
   "metadata": {},
   "outputs": [],
   "source": [
    "err_est_1step = np.matmul(H_matrix[:, -14*Tdim:], amp_swath[-14*Tdim:])\n",
    "ssh_est_1step = np.matmul(H_matrix[:, :-14*Tdim], amp_swath[:-14*Tdim])"
   ]
  },
  {
   "cell_type": "markdown",
   "id": "6c78935d-d325-44bc-a046-c37f3fd3124f",
   "metadata": {
    "tags": []
   },
   "source": [
    "# Important result: error estimate skill and ssh estimate skill of the entire time series"
   ]
  },
  {
   "cell_type": "code",
   "execution_count": 37,
   "id": "b256ab6e-e636-46cc-b737-cc6a91444314",
   "metadata": {},
   "outputs": [],
   "source": [
    "ssh_diff = ssh_est_1step - ssh\n",
    "err_diff = err_est_1step - cor_err\n",
    "ssh_diff1 = (np.mean(ssh_diff**2)) / (np.mean(ssh**2))\n",
    "err_diff1  = (np.mean(err_diff**2)) / (np.mean(cor_err**2))"
   ]
  },
  {
   "cell_type": "markdown",
   "id": "1f4f7ed9-a806-4acf-ad0a-ba2bba6b3454",
   "metadata": {},
   "source": [
    "#### Make predictions of SSH based on the estimated amplitudes:\n",
    "#### Swath data, with errors"
   ]
  },
  {
   "cell_type": "markdown",
   "id": "f61240a1-a388-4248-983f-5f7de11fc5c5",
   "metadata": {
    "tags": []
   },
   "source": [
    "#### True and estimated SSH and Errors"
   ]
  },
  {
   "cell_type": "code",
   "execution_count": 38,
   "id": "fbaf07cb-d86c-4d13-8771-dc9f9a0a3ae9",
   "metadata": {},
   "outputs": [],
   "source": [
    "err_map1 = np.zeros([len(lat), len(lon), Tdim])\n",
    "ssh_map1 = np.zeros([len(lat), len(lon), Tdim])\n",
    "ssh_true1 = np.zeros([len(lat), len(lon), Tdim])\n",
    "err_true1 = np.zeros([len(lat), len(lon), Tdim])\n",
    "lon_valid = np.ma.masked_all([len(lat), len(lon), Tdim])\n",
    "lat_valid = np.ma.masked_all([len(lat), len(lon), Tdim])\n",
    "for ii, idx in enumerate(xvalid_index):\n",
    "    tt=tindex[ii].astype(int)\n",
    "    err_map1[yvalid_index[ii], xvalid_index[ii], tt] = err_est_1step[ii] \n",
    "    ssh_map1[yvalid_index[ii], xvalid_index[ii], tt]  = ssh_est_1step[ii]\n",
    "    err_true1[yvalid_index[ii], xvalid_index[ii], tt] = cor_err[ii]\n",
    "    ssh_true1[yvalid_index[ii], xvalid_index[ii], tt] = ssh[ii]\n",
    "    lon_valid[yvalid_index[ii], xvalid_index[ii], tt] = lon[xvalid_index[ii]]\n",
    "    lat_valid[yvalid_index[ii], xvalid_index[ii], tt] = lat[yvalid_index[ii]]"
   ]
  },
  {
   "cell_type": "markdown",
   "id": "d9998482-4854-4074-9a21-b88c734313f5",
   "metadata": {},
   "source": [
    "#### Reverse the vectorization on the swaths"
   ]
  },
  {
   "cell_type": "code",
   "execution_count": 39,
   "id": "e8177d5c-db6f-4ea9-b3d0-3c252ef609a1",
   "metadata": {},
   "outputs": [],
   "source": [
    "ssh_diff1=np.zeros([Tdim])\n",
    "err_diff1=np.zeros([Tdim])\n",
    "nslice=450\n",
    "for tt in range(Tdim):\n",
    "    ssh_diff = ssh_est_1step[tt*nslice:(tt+1)*nslice] - ssh[tt*nslice:(tt+1)*nslice]\n",
    "    err_diff = err_est_1step[tt*nslice:(tt+1)*nslice] - cor_err[tt*nslice:(tt+1)*nslice]\n",
    "    ssh_diff1[tt] = (np.mean(ssh_diff**2)) / (np.mean(ssh**2))\n",
    "    err_diff1[tt]  = (np.mean(err_diff**2)) / (np.mean(cor_err**2))"
   ]
  },
  {
   "cell_type": "code",
   "execution_count": 40,
   "id": "c0f11841-cd41-49e8-95b7-29f04ea21910",
   "metadata": {
    "tags": []
   },
   "outputs": [
    {
     "data": {
      "text/plain": [
       "(array([0.13807054, 0.04960349, 0.05674676, 0.17473244, 0.2735509 ,\n",
       "        0.11277032, 0.06639241, 0.19257591, 0.10618829, 0.12233077,\n",
       "        0.14604563, 0.03810278, 0.16690366, 0.08899284, 0.17547323,\n",
       "        0.05623924, 0.16115122, 0.03662699, 0.06100037, 0.11974599,\n",
       "        0.0604146 , 0.08363223, 0.11574598, 0.04713739, 0.01919965,\n",
       "        0.12778313, 0.0153326 , 0.03343083, 0.04321159, 0.12261495,\n",
       "        0.07422628, 0.13831201, 0.13668405, 0.08118271, 0.12582786,\n",
       "        0.10475227, 0.17559413, 0.03084109, 0.11504205, 0.31986145]),\n",
       " 40.0)"
      ]
     },
     "execution_count": 40,
     "metadata": {},
     "output_type": "execute_result"
    }
   ],
   "source": [
    "err_diff1, err_est_1step.size/450"
   ]
  },
  {
   "cell_type": "code",
   "execution_count": 41,
   "id": "399197bb-c8c1-4849-8365-059f80140cfa",
   "metadata": {},
   "outputs": [
    {
     "data": {
      "image/png": "[encoded data removed]",
      "text/plain": [
       "<Figure size 1000x1200 with 12 Axes>"
      ]
     },
     "metadata": {},
     "output_type": "display_data"
    }
   ],
   "source": [
    "fig = plt.figure(figsize = (10, 12))\n",
    "\n",
    "n=4\n",
    "plt.subplot(321)\n",
    "plt.pcolormesh(lon, lat, err_true1[:,:,n] + ssh_true1[:,:,n], cmap = cmo.cm.balance, vmin = -.2, vmax = .2)\n",
    "plt.colorbar()\n",
    "plt.xlabel('Longitude (\\N{DEGREE SIGN}W)', fontsize = 14)\n",
    "plt.ylabel('Latitude (\\N{DEGREE SIGN}N)', fontsize = 14)\n",
    "plt.title('a) True error + true SSH', fontsize = 14)\n",
    "\n",
    "\n",
    "plt.subplot(323)\n",
    "plt.pcolormesh(lon, lat, ssh_map1[:,:,n], vmin = -.2, vmax = .2, cmap = cmo.cm.balance)\n",
    "plt.colorbar()\n",
    "plt.xlabel('Longitude (\\N{DEGREE SIGN}W)', fontsize = 14)\n",
    "plt.ylabel('Latitude (\\N{DEGREE SIGN}N)', fontsize = 14)\n",
    "plt.title('c) SSH estimate, 1-stage ' + str((1- ssh_diff1[n]) * 100)[:5] + '%', fontsize = 14)\n",
    "\n",
    "plt.subplot(325)\n",
    "plt.pcolormesh(lon, lat, ssh_true1[:,:,n] - ssh_map1[:,:,n], cmap = cmo.cm.balance,  vmin = -.2, vmax = .2)\n",
    "plt.colorbar()\n",
    "plt.xlabel('Longitude (\\N{DEGREE SIGN}W)', fontsize = 14)\n",
    "plt.ylabel('Latitude (\\N{DEGREE SIGN}N)', fontsize = 14)\n",
    "plt.title('e) True SSH - SSH estimate, ' + str(ssh_diff1[n] * 100)[:5] + '%', fontsize = 14)\n",
    "\n",
    "plt.subplot(322)\n",
    "plt.pcolormesh(lon, lat, err_true1[:,:,n], cmap = cmo.cm.balance,  vmin = -.02, vmax = .02)\n",
    "plt.colorbar()\n",
    "plt.xlabel('Longitude (\\N{DEGREE SIGN}W)', fontsize = 14)\n",
    "plt.ylabel('Latitude (\\N{DEGREE SIGN}N)', fontsize = 14)\n",
    "plt.title('b) True error', fontsize = 14)\n",
    "\n",
    "plt.subplot(324)\n",
    "plt.pcolormesh(lon, lat, err_map1[:,:,n], cmap = cmo.cm.balance, vmin = -.02, vmax = .02)\n",
    "plt.colorbar()\n",
    "plt.xlabel('Longitude (\\N{DEGREE SIGN}W)', fontsize = 14)\n",
    "plt.ylabel('Latitude (\\N{DEGREE SIGN}N)', fontsize = 14)\n",
    "plt.title('d) Error estimate ' +  str((1- err_diff1[n]) * 100)[:4] + '%', fontsize = 14)\n",
    "\n",
    "plt.subplot(326)\n",
    "plt.pcolormesh(lon, lat, err_true1[:,:,n] - err_map1[:,:,n], cmap = cmo.cm.balance, vmin = -.02, vmax = .02)\n",
    "plt.colorbar()\n",
    "plt.xlabel('Longitude (\\N{DEGREE SIGN}W)', fontsize = 14)\n",
    "plt.ylabel('Latitude (\\N{DEGREE SIGN}N)', fontsize = 14)\n",
    "plt.title('f) True Error - Error estimate, ' + str(err_diff1[n] * 100)[:4] + '%' , fontsize = 14)\n",
    "\n",
    "plt.tight_layout()\n",
    "plt.savefig('aviso_ssh_estimate_'+ str(date_time[0])[:10] + '_1stage.png', dpi = 300)"
   ]
  },
  {
   "cell_type": "code",
   "execution_count": 42,
   "id": "d903a2e9-8e42-4929-ab84-12ae7aecaa22",
   "metadata": {
    "tags": []
   },
   "outputs": [
    {
     "data": {
      "text/plain": [
       "(40,)"
      ]
     },
     "execution_count": 42,
     "metadata": {},
     "output_type": "execute_result"
    }
   ],
   "source": [
    "err_diff1.shape"
   ]
  },
  {
   "cell_type": "code",
   "execution_count": 43,
   "id": "68e765f0",
   "metadata": {},
   "outputs": [
    {
     "data": {
      "text/plain": [
       "Text(0.5, 1.0, 'c) true SSH')"
      ]
     },
     "execution_count": 43,
     "metadata": {},
     "output_type": "execute_result"
    },
    {
     "data": {
      "image/png": "[encoded data removed]",
      "text/plain": [
       "<Figure size 1000x400 with 6 Axes>"
      ]
     },
     "metadata": {},
     "output_type": "display_data"
    }
   ],
   "source": [
    "fig = plt.figure(figsize = (10, 4))\n",
    "\n",
    "n=4\n",
    "plt.subplot(131)\n",
    "plt.pcolormesh(lon, lat, err_true1[:,:,n] + ssh_true1[:,:,n], cmap = cmo.cm.balance, vmin = -.2, vmax = .2)\n",
    "plt.colorbar()\n",
    "plt.xlabel('Longitude (\\N{DEGREE SIGN}W)', fontsize = 14)\n",
    "plt.ylabel('Latitude (\\N{DEGREE SIGN}N)', fontsize = 14)\n",
    "plt.title('a) True error + true SSH', fontsize = 14)\n",
    "\n",
    "plt.subplot(132)\n",
    "plt.pcolormesh(lon, lat, ssh_true1[:,:,n], cmap = cmo.cm.balance, vmin = -.2, vmax = .2)\n",
    "plt.colorbar()\n",
    "plt.xlabel('Longitude (\\N{DEGREE SIGN}W)', fontsize = 14)\n",
    "plt.ylabel('Latitude (\\N{DEGREE SIGN}N)', fontsize = 14)\n",
    "plt.title('b) true SSH', fontsize = 14)\n",
    "\n",
    "plt.subplot(133)\n",
    "plt.pcolormesh(lon, lat, MSLA_fwd[:,:,n], cmap = cmo.cm.balance, vmin = -.2, vmax = .2)\n",
    "plt.colorbar()\n",
    "plt.xlabel('Longitude (\\N{DEGREE SIGN}W)', fontsize = 14)\n",
    "plt.ylabel('Latitude (\\N{DEGREE SIGN}N)', fontsize = 14)\n",
    "plt.title('c) true SSH', fontsize = 14)"
   ]
  },
  {
   "cell_type": "markdown",
   "id": "c950ee69-6e75-4ac1-9ded-ba6911d11765",
   "metadata": {},
   "source": [
    "#### Make predictions of SSH based on the estimated amplitudes:\n",
    "#### is the extrapolation skill good?"
   ]
  },
  {
   "cell_type": "code",
   "execution_count": 44,
   "id": "d8e68284-811e-4e3e-85e0-672f04071bb8",
   "metadata": {
    "tags": []
   },
   "outputs": [
    {
     "name": "stdout",
     "output_type": "stream",
     "text": [
      "2016-01-01T00:00:00.000000000\n",
      "2016-01-02T00:00:00.000000000\n",
      "2016-01-03T00:00:00.000000000\n",
      "2016-01-04T00:00:00.000000000\n",
      "2016-01-05T00:00:00.000000000\n",
      "2016-01-06T00:00:00.000000000\n",
      "2016-01-07T00:00:00.000000000\n",
      "2016-01-08T00:00:00.000000000\n",
      "2016-01-09T00:00:00.000000000\n",
      "2016-01-10T00:00:00.000000000\n",
      "2016-01-11T00:00:00.000000000\n",
      "2016-01-12T00:00:00.000000000\n",
      "2016-01-13T00:00:00.000000000\n",
      "2016-01-14T00:00:00.000000000\n",
      "2016-01-15T00:00:00.000000000\n",
      "2016-01-16T00:00:00.000000000\n",
      "2016-01-17T00:00:00.000000000\n",
      "2016-01-18T00:00:00.000000000\n",
      "2016-01-19T00:00:00.000000000\n",
      "2016-01-20T00:00:00.000000000\n",
      "2016-01-21T00:00:00.000000000\n",
      "2016-01-22T00:00:00.000000000\n",
      "2016-01-23T00:00:00.000000000\n",
      "2016-01-24T00:00:00.000000000\n",
      "2016-01-25T00:00:00.000000000\n",
      "2016-01-26T00:00:00.000000000\n",
      "2016-01-27T00:00:00.000000000\n",
      "2016-01-28T00:00:00.000000000\n",
      "2016-01-29T00:00:00.000000000\n",
      "2016-01-30T00:00:00.000000000\n",
      "2016-01-31T00:00:00.000000000\n",
      "2016-02-01T00:00:00.000000000\n",
      "2016-02-02T00:00:00.000000000\n",
      "2016-02-03T00:00:00.000000000\n",
      "2016-02-04T00:00:00.000000000\n",
      "2016-02-05T00:00:00.000000000\n",
      "2016-02-06T00:00:00.000000000\n",
      "2016-02-07T00:00:00.000000000\n",
      "2016-02-08T00:00:00.000000000\n",
      "2016-02-09T00:00:00.000000000\n",
      "2016-02-10T00:00:00.000000000\n",
      "2016-02-11T00:00:00.000000000\n",
      "2016-02-12T00:00:00.000000000\n",
      "2016-02-13T00:00:00.000000000\n",
      "2016-02-14T00:00:00.000000000\n",
      "2016-02-15T00:00:00.000000000\n",
      "2016-02-16T00:00:00.000000000\n",
      "2016-02-17T00:00:00.000000000\n",
      "2016-02-18T00:00:00.000000000\n",
      "2016-02-19T00:00:00.000000000\n",
      "2016-02-20T00:00:00.000000000\n",
      "2016-02-21T00:00:00.000000000\n",
      "2016-02-22T00:00:00.000000000\n",
      "2016-02-23T00:00:00.000000000\n",
      "2016-02-24T00:00:00.000000000\n",
      "2016-02-25T00:00:00.000000000\n",
      "2016-02-26T00:00:00.000000000\n",
      "2016-02-27T00:00:00.000000000\n",
      "2016-02-28T00:00:00.000000000\n",
      "2016-02-29T00:00:00.000000000\n",
      "2016-03-01T00:00:00.000000000\n",
      "2016-03-02T00:00:00.000000000\n",
      "2016-03-03T00:00:00.000000000\n",
      "2016-03-04T00:00:00.000000000\n",
      "2016-03-05T00:00:00.000000000\n",
      "2016-03-06T00:00:00.000000000\n",
      "2016-03-07T00:00:00.000000000\n",
      "2016-03-08T00:00:00.000000000\n",
      "2016-03-09T00:00:00.000000000\n",
      "2016-03-10T00:00:00.000000000\n",
      "2016-03-11T00:00:00.000000000\n",
      "2016-03-12T00:00:00.000000000\n",
      "2016-03-13T00:00:00.000000000\n",
      "2016-03-14T00:00:00.000000000\n",
      "2016-03-15T00:00:00.000000000\n",
      "2016-03-16T00:00:00.000000000\n",
      "2016-03-17T00:00:00.000000000\n",
      "2016-03-18T00:00:00.000000000\n",
      "2016-03-19T00:00:00.000000000\n",
      "2016-03-20T00:00:00.000000000\n"
     ]
    }
   ],
   "source": [
    "SSHA_predicted = np.zeros([time_range, MSLA0[:, :, 0:1].size])\n",
    "SSHA_true = np.zeros([time_range, MSLA0[:, :, 0:1].size])\n",
    "residual_iter = np.zeros(time_range)\n",
    "MSLA_inverse = np.zeros([MSLA0.shape[0], MSLA0.shape[1], time_range])\n",
    "for day in range(0, time_range):\n",
    "    print(date_time[day])\n",
    "    MSLA = MSLA_fwd[:, :, day:day+1] \n",
    "    H_all = build_h_matrix(MSLA, MModes, k_n, l_n, lon, lat, T_time, Psi, Rm, day0 - day0 + day)\n",
    "    SSHA_predicted[day], SSHA_true[day], residual_iter[day] = forecast_ssh(MSLA, amp_swath[:380], H_all)\n",
    "    MSLA_inverse[:, :, day:day+1] = reverse_vector(MSLA, SSHA_predicted[day])\n",
    "    \n",
    "#     plt.figure(figsize = (15, 5))\n",
    "\n",
    "#     plt.subplot(131)\n",
    "#     plt.pcolormesh(lon, lat, MSLA[:, :, 0], cmap = cmo.cm.balance, vmin = -.15, vmax = .15) #MSLA_fwd[:, :, day]\n",
    "#     plt.colorbar()\n",
    "#     plt.xlabel('Longitude (\\N{DEGREE SIGN}W)', fontsize = 14)\n",
    "#     plt.ylabel('Latitude (\\N{DEGREE SIGN}N)', fontsize = 14)\n",
    "#     plt.title('a) AVISO forward model ' + str(date_time[day])[:10], fontsize = 14)\n",
    "\n",
    "#     plt.subplot(132)\n",
    "#     plt.pcolormesh(lon, lat, MSLA_inverse[:, :, day], vmin = -.15, vmax = .15, cmap = cmo.cm.balance)\n",
    "#     plt.colorbar()\n",
    "#     plt.xlabel('Longitude (\\N{DEGREE SIGN}W)', fontsize = 14)\n",
    "#     plt.ylabel('Latitude (\\N{DEGREE SIGN}N)', fontsize = 14)\n",
    "#     plt.title('b) 1-stage inversion, swath data', fontsize = 14)\n",
    "\n",
    "#     residual = MSLA[:, :, 0] - MSLA_inverse[:, :, day] \n",
    "#     plt.subplot(133)\n",
    "#     plt.plot(lon_valid, lat_valid, 'x', color = 'gray')\n",
    "#     plt.pcolormesh(lon, lat, residual, cmap = cmo.cm.balance, vmin = -.15, vmax = .15)\n",
    "#     plt.colorbar()\n",
    "#     plt.xlabel('Longitude (\\N{DEGREE SIGN}W)', fontsize = 14)\n",
    "#     plt.ylabel('Latitude (\\N{DEGREE SIGN}N)', fontsize = 14)\n",
    "#     plt.title('c) Residual variance ' +  str(residual_iter[day] * 100)[:4] + '%', fontsize = 14)\n",
    "    \n",
    "#     plt.tight_layout()\n",
    "#     #plt.close()\n",
    "#     plt.savefig('inversion/ssh_1step_' + str(date_time[day])[:10] +'_' + str(skill.size) + 'waves.png', dpi = 300)"
   ]
  },
  {
   "cell_type": "code",
   "execution_count": 45,
   "id": "590d054f-c69f-4274-a6e0-de6664f0d6fb",
   "metadata": {},
   "outputs": [
    {
     "data": {
      "text/plain": [
       "<Figure size 1500x1200 with 0 Axes>"
      ]
     },
     "metadata": {},
     "output_type": "display_data"
    }
   ],
   "source": [
    "SSHA_predicted = np.zeros([time_range, MSLA0[:, :, 0:1].size])\n",
    "SSHA_true = np.zeros([time_range, MSLA0[:, :, 0:1].size])\n",
    "variance_explained_inverse  = np.zeros(time_range)\n",
    "MSLA_fwrd = np.zeros([MSLA0.shape[0], MSLA0.shape[1], time_range])\n",
    "\n",
    "ind_list = list('abcdefghijklm')\n",
    "count = 0\n",
    "plt.figure(figsize = (15, 12))\n",
    "for day in range(time_range):\n",
    "    # SSH data\n",
    "    MSLA = MSLA_fwd[:, :, day0+day: day0+day+1]\n",
    "    # Build basis function H matrix\n",
    "    H_all = build_h_matrix(MSLA, MModes, k_n, l_n, lon, lat, T_time[day0:], Psi, Rm, day0 - day0 + day)\n",
    "    # forecast SSH\n",
    "    SSHA_predicted[day], SSHA_true[day], variance_explained_inverse[day] = forecast_ssh(MSLA, amp_swath[:380],  H_all)\n",
    "    # reverse vector\n",
    "    MSLA_fwrd[:, :, day:day+1] = reverse_vector(MSLA, SSHA_predicted[day])\n",
    "    \n",
    "#     if (day % 4 ==0):\n",
    "#         plt.subplot(3, 3, count + 1)\n",
    "#         plt.pcolormesh(lon, lat, MSLA[:, :, 0], cmap = cmo.cm.balance, vmin = -.2, vmax = .2) \n",
    "#         plt.colorbar()\n",
    "#         plt.xlabel('Longitude (\\N{DEGREE SIGN}W)', fontsize = 14)\n",
    "#         plt.ylabel('Latitude (\\N{DEGREE SIGN}N)', fontsize = 14)\n",
    "#         plt.title(ind_list[count] + ') AVISO forward model ' + str(date_time[day])[:10], fontsize = 14)\n",
    "\n",
    "#         plt.subplot(3, 3, count + 2)\n",
    "#         plt.pcolormesh(lon, lat, MSLA_fwrd[:, :, day], vmin = -.2, vmax = .2, cmap = cmo.cm.balance)\n",
    "#         plt.colorbar()\n",
    "#         plt.xlabel('Longitude (\\N{DEGREE SIGN}W)', fontsize = 14)\n",
    "#         plt.ylabel('Latitude (\\N{DEGREE SIGN}N)', fontsize = 14)\n",
    "#         plt.title(ind_list[count+1] + ') 1-stage inversion with swath data', fontsize = 14)\n",
    "\n",
    "#         residual = MSLA[:, :, 0] - MSLA_fwrd[:, :, day] \n",
    "#         plt.subplot(3, 3, count + 3)\n",
    "#         plt.pcolormesh(lon, lat, residual, cmap = cmo.cm.balance, vmin = -.2, vmax = .2)\n",
    "#         plt.colorbar()\n",
    "#         plt.xlabel('Longitude (\\N{DEGREE SIGN}W)', fontsize = 14)\n",
    "#         plt.ylabel('Latitude (\\N{DEGREE SIGN}N)', fontsize = 14)\n",
    "#         plt.title(ind_list[count+2] +') Residual variance ' \n",
    "#                   + str((variance_explained_inverse[day]) * 100)[:4] + '%', fontsize = 14)\n",
    "#         count = count + 3\n",
    "#         plt.tight_layout()\n",
    "\n",
    "# plt.savefig('./ssh_swath' + str(date_time[day0 + day])[:10] +'_' + str(skill.size) + 'waves_1stage.png', dpi = 300)"
   ]
  },
  {
   "cell_type": "code",
   "execution_count": 46,
   "id": "5ee20e56",
   "metadata": {},
   "outputs": [],
   "source": [
    "# compute residual variance in and out of track\n",
    "var_in=np.zeros(time_range)\n",
    "var_out=np.zeros(time_range)\n",
    "for i in range(time_range):\n",
    "    msla_in=np.ma.masked_where(mask[:,:,0]==0,MSLA_fwd[:,:,i])\n",
    "    msla_out=np.ma.masked_where(mask[:,:,0]==1,MSLA_fwd[:,:,i])\n",
    "    var_in[i]=np.mean(np.mean((MSLA_fwrd[:,:,i] - msla_in)**2,axis=1),axis=0)/(np.mean(np.mean(msla_in**2,axis=1),axis=0))\n",
    "    var_out[i]=np.mean(np.mean((MSLA_fwrd[:,:,i] - msla_out)**2,axis=1),axis=0)/(np.mean(np.mean(msla_out**2,axis=1),axis=0))"
   ]
  },
  {
   "cell_type": "code",
   "execution_count": 47,
   "id": "c1058a1b",
   "metadata": {},
   "outputs": [],
   "source": [
    "# # compute residual variance in and out of track\n",
    "# var_in_only=np.zeros(time_range)\n",
    "# for i in range(time_range):\n",
    "#     msla_in2 = np.ma.masked_where(mask[:,:,0]==0,MSLA_fwd[:,:,i])\n",
    "#     var_in_only[i]=np.mean(np.mean((ssh_map1[:,:,i] - msla_in2)**2,axis=1),axis=0)/(np.mean(np.mean(msla_in2**2,axis=1),axis=0))"
   ]
  },
  {
   "cell_type": "code",
   "execution_count": 48,
   "id": "6b4dee89-04e1-4af9-a513-fca1f2c454ac",
   "metadata": {
    "tags": []
   },
   "outputs": [
    {
     "ename": "NameError",
     "evalue": "name 'msla_in2' is not defined",
     "output_type": "error",
     "traceback": [
      "\u001b[0;31m---------------------------------------------------------------------------\u001b[0m",
      "\u001b[0;31mNameError\u001b[0m                                 Traceback (most recent call last)",
      "Cell \u001b[0;32mIn[48], line 1\u001b[0m\n\u001b[0;32m----> 1\u001b[0m ssh_map1\u001b[38;5;241m.\u001b[39mshape, \u001b[43mmsla_in2\u001b[49m\u001b[38;5;241m.\u001b[39mshape\n",
      "\u001b[0;31mNameError\u001b[0m: name 'msla_in2' is not defined"
     ]
    }
   ],
   "source": [
    "ssh_map1.shape, msla_in2.shape"
   ]
  },
  {
   "cell_type": "code",
   "execution_count": null,
   "id": "c53aa0b7",
   "metadata": {},
   "outputs": [],
   "source": [
    "z=np.ma.masked_where(mask[:,:,0]==0,MSLA_fwd[:,:,0])\n",
    "np.ma.compressed(z).shape"
   ]
  },
  {
   "cell_type": "markdown",
   "id": "86c9f5e6-356b-4886-b9bd-29f6c53667a3",
   "metadata": {
    "tags": []
   },
   "source": [
    "###  Ambiguity test "
   ]
  },
  {
   "cell_type": "markdown",
   "id": "67755cbe-9e7a-49a8-b84d-5012bb5eafd4",
   "metadata": {},
   "source": [
    "#### basis function correlation matrix: assessing whether the basis functions are orthogonal"
   ]
  },
  {
   "cell_type": "markdown",
   "id": "7c3ff3d1-e063-47a3-ad38-0962e5e95b39",
   "metadata": {},
   "source": [
    "#### the proterier covariance matrix of the difference between the estimated and the true model parameters is"
   ]
  },
  {
   "cell_type": "markdown",
   "id": "17c8f546-9ff5-4f07-ad9f-144427b82651",
   "metadata": {
    "tags": []
   },
   "source": [
    "### Two-stage approach: reconstructing the SSH separately from solving the correlated error"
   ]
  },
  {
   "cell_type": "markdown",
   "id": "76e048d5-8872-480e-a967-d52648194260",
   "metadata": {
    "tags": []
   },
   "source": [
    "#### First step: fit errors"
   ]
  },
  {
   "cell_type": "markdown",
   "id": "431075a0-cfc4-49de-aafa-bfadd7613d0b",
   "metadata": {},
   "source": [
    "#### Sub-sample the SSH, correlated errors and H matrix"
   ]
  },
  {
   "cell_type": "code",
   "execution_count": null,
   "id": "c6e07062-1b07-4271-b38d-0e29dc853d14",
   "metadata": {},
   "outputs": [],
   "source": [
    "H_v1 = H_matrix[:, -7 * Tdim*2:]"
   ]
  },
  {
   "cell_type": "code",
   "execution_count": null,
   "id": "783e3ce5-cb4d-456a-ba43-bb9fcfb76ff0",
   "metadata": {},
   "outputs": [],
   "source": [
    "P_over_R1 = P_matrix[-7* Tdim*2:, -7* Tdim*2:]#.mean(axis = 0)"
   ]
  },
  {
   "cell_type": "code",
   "execution_count": null,
   "id": "8c230fc5-b6df-480c-9ad4-71cd80e25d40",
   "metadata": {},
   "outputs": [],
   "source": [
    "HTH = np.matmul(H_v1.T, H_v1)"
   ]
  },
  {
   "cell_type": "code",
   "execution_count": null,
   "id": "dafbb794-1f25-4949-888c-0bdafc8155ae",
   "metadata": {},
   "outputs": [],
   "source": [
    "HRH = HTH + P_over_R1 # P: uncertainty in model, R: uncertainty in data\n",
    "D = np.matmul(LA.inv(HRH), H_v1.T)   "
   ]
  },
  {
   "cell_type": "code",
   "execution_count": null,
   "id": "7e5ab020-8beb-46f6-950b-6202ca91ca75",
   "metadata": {},
   "outputs": [],
   "source": [
    "amp_err = np.matmul(D, MSLA_swath)"
   ]
  },
  {
   "cell_type": "markdown",
   "id": "96acee64-252e-470e-bebc-b58562f06c7c",
   "metadata": {},
   "source": [
    "#### correlated error estimate"
   ]
  },
  {
   "cell_type": "code",
   "execution_count": null,
   "id": "c4f52bd8-9720-4ec2-8289-21fbe3c0c388",
   "metadata": {},
   "outputs": [],
   "source": [
    "#### estimate the correlated error\n",
    "err_est_2step = np.matmul(H_v1, amp_err)"
   ]
  },
  {
   "cell_type": "markdown",
   "id": "30400314-f175-4ed1-bef5-23a49b68e593",
   "metadata": {},
   "source": [
    "#### SSH + correlated errors - estimated correlated errors"
   ]
  },
  {
   "cell_type": "code",
   "execution_count": null,
   "id": "e37c1b5b-2b97-4fe4-9b8a-901f73c39659",
   "metadata": {},
   "outputs": [],
   "source": [
    "tau_ssh = MSLA_swath - err_est_2step"
   ]
  },
  {
   "cell_type": "markdown",
   "id": "524ea369-1bfb-42d6-a162-eb826d171f74",
   "metadata": {},
   "source": [
    "#### second step: fit residual to rossby wave models"
   ]
  },
  {
   "cell_type": "code",
   "execution_count": null,
   "id": "6d865462-53ae-41df-b7e0-df8e1bc6a83f",
   "metadata": {},
   "outputs": [],
   "source": [
    "H_v = H_swath[:, :-7 * Tdim*2]\n",
    "HTH = np.matmul(H_v.T, H_v)\n",
    "HRH = np.zeros(HTH.shape)\n",
    "HRH = HTH +  P_matrix[:-7 * Tdim*2, :-7 * Tdim*2]\n",
    "D = np.matmul(LA.inv(HRH), H_v.T)\n",
    "eig, vec = LA.eig(HRH)"
   ]
  },
  {
   "cell_type": "markdown",
   "id": "ddf9b82a-41a5-478f-9f74-d2944e76e894",
   "metadata": {
    "tags": []
   },
   "source": [
    "#### Soution with noise, 2 step approach"
   ]
  },
  {
   "cell_type": "code",
   "execution_count": null,
   "id": "e517b67d-818f-4d34-81df-925b3426b77f",
   "metadata": {},
   "outputs": [],
   "source": [
    "amp_swath_2step = np.matmul(D, tau_ssh)"
   ]
  },
  {
   "cell_type": "markdown",
   "id": "50f8cc3c-735c-4a1d-9c17-2237954cc28b",
   "metadata": {
    "tags": []
   },
   "source": [
    "#### Prediction with new amplitudes in the next 40 days"
   ]
  },
  {
   "cell_type": "code",
   "execution_count": null,
   "id": "262eabe2-4c7e-4c40-9e61-81ef3a0c7b52",
   "metadata": {},
   "outputs": [],
   "source": [
    "ssh_est_2step = np.matmul(H_v, amp_swath_2step)"
   ]
  },
  {
   "cell_type": "markdown",
   "id": "1e1df7fe-1788-4bf8-a4c5-f6e62d545b94",
   "metadata": {
    "tags": []
   },
   "source": [
    "# Important result: 2-stage error estimate skill and ssh estimate skill"
   ]
  },
  {
   "cell_type": "code",
   "execution_count": null,
   "id": "c512c2d9-9e29-45ee-8490-ea37a7b23457",
   "metadata": {},
   "outputs": [],
   "source": [
    "ssh_diff2=np.zeros([time_range])\n",
    "err_diff2=np.zeros([time_range])\n",
    "nslice=450\n",
    "for tt in range(time_range):\n",
    "    ssh_diff = ssh_est_2step[tt*nslice:(tt+1)*nslice] - ssh[tt*nslice:(tt+1)*nslice]\n",
    "    err_diff = err_est_2step[tt*nslice:(tt+1)*nslice] - cor_err[tt*nslice:(tt+1)*nslice]\n",
    "    ssh_diff2[tt] = (np.mean(ssh_diff**2)) / (np.mean(ssh**2))\n",
    "    err_diff2[tt]  = (np.mean(err_diff**2)) / (np.mean(cor_err**2))"
   ]
  },
  {
   "cell_type": "code",
   "execution_count": null,
   "id": "02d8a044-f92a-4c44-9c60-9e6ac1fb4e24",
   "metadata": {},
   "outputs": [],
   "source": [
    "plt.figure(figsize = (8, 8))\n",
    "plt.subplot(311)\n",
    "plt.plot(amp_swath[:], '*', label = 'amp estimate (1 step)')\n",
    "plt.plot(np.append(amp[:], alpha), '.', label = 'true amp')\n",
    "#plt.plot(np.sqrt(P_matrix.diagonal()[:]), label = 'Prior')\n",
    "plt.ylabel('meters')\n",
    "plt.legend()\n",
    "plt.title('model parameters, err std' + str(sigma))\n",
    "\n",
    "plt.subplot(312)\n",
    "plt.plot(ssh[:nslice], label = 'ssh')\n",
    "plt.plot(ssh_est_2step[:nslice], label = 'ssh estimate')\n",
    "plt.legend()\n",
    "\n",
    "plt.subplot(313)\n",
    "plt.plot(cor_err[:nslice], label = ' true err')\n",
    "plt.plot(err_est_2step[:nslice], label= ' estimate err')\n",
    "plt.plot(cor_err[:nslice] - err_est_2step[:nslice], label= 'cor_err- estimate err')\n",
    "plt.legend()\n",
    "plt.tight_layout()\n",
    "plt.savefig('ssh_err_est_err_std'+ str(sigma) +'.png')"
   ]
  },
  {
   "cell_type": "code",
   "execution_count": null,
   "id": "3497a5cc-710a-4784-bb42-0130cec514e3",
   "metadata": {
    "tags": []
   },
   "outputs": [],
   "source": [
    "err_map2 = np.zeros([ny, nx, time_range])\n",
    "ssh_true2 = np.zeros([ny, nx, time_range])\n",
    "ssh_2step = np.zeros([ny, nx, time_range])\n",
    "err_true2 = np.zeros([ny, nx, time_range])\n",
    "for ii, idx in enumerate(xvalid_index):\n",
    "    tt = tindex[ii].astype(int)\n",
    "    err_map2[yvalid_index[ii], xvalid_index[ii], tt] = err_est_2step[ii] \n",
    "    ssh_true2[yvalid_index[ii], xvalid_index[ii], tt] = ssh[ii]\n",
    "    err_true2[yvalid_index[ii], xvalid_index[ii], tt] = cor_err[ii]\n",
    "    ssh_2step[yvalid_index[ii], xvalid_index[ii], tt] = ssh_est_2step[ii]"
   ]
  },
  {
   "cell_type": "code",
   "execution_count": null,
   "id": "a9d88789",
   "metadata": {},
   "outputs": [],
   "source": [
    "ssh_diff2=np.zeros([time_range])\n",
    "err_diff2=np.zeros([time_range])\n",
    "nslice=450\n",
    "for tt in range(time_range):\n",
    "    ssh_diff = ssh_est_2step[tt*nslice:(tt+1)*nslice] - ssh[tt*nslice:(tt+1)*nslice]\n",
    "    err_diff = err_est_2step[tt*nslice:(tt+1)*nslice] - cor_err[tt*nslice:(tt+1)*nslice]\n",
    "    ssh_diff2[tt] = (np.mean(ssh_diff**2)) / (np.mean(ssh**2))\n",
    "    err_diff2[tt]  = (np.mean(err_diff**2)) / (np.mean(cor_err**2))"
   ]
  },
  {
   "cell_type": "code",
   "execution_count": null,
   "id": "253e7eb8-66a0-4df1-a3c3-9ef102654f44",
   "metadata": {},
   "outputs": [],
   "source": [
    "ssh_diff_2step = (np.mean((ssh_true2 - ssh_2step) ** 2 ))/ (np.mean((ssh_true2) ** 2 ))\n",
    "err_diff_2step = (np.mean((err_true2 - err_map2) ** 2 ))/ (np.mean((err_true2) ** 2 ))"
   ]
  },
  {
   "cell_type": "code",
   "execution_count": null,
   "id": "dcef2490-518f-4d48-a4c2-180334c16398",
   "metadata": {},
   "outputs": [],
   "source": [
    "fig = plt.figure(figsize = (15, 15))\n",
    "\n",
    "n=4\n",
    "plt.subplot(431)\n",
    "plt.pcolormesh(lon, lat, ssh_true1[:,:,n], cmap = cmo.cm.balance, vmin = -.2, vmax = .2)\n",
    "plt.colorbar()\n",
    "plt.xlabel('Longitude (\\N{DEGREE SIGN}W)', fontsize = 14)\n",
    "plt.ylabel('Latitude (\\N{DEGREE SIGN}N)', fontsize = 14)\n",
    "plt.title('a) True SSH', fontsize = 14)\n",
    "\n",
    "\n",
    "plt.subplot(432)\n",
    "plt.pcolormesh(lon, lat, ssh_map1[:,:,n], vmin = -.2, vmax = .2, cmap = cmo.cm.balance)\n",
    "plt.colorbar() \n",
    "plt.xlabel('Longitude (\\N{DEGREE SIGN}W)', fontsize = 14)\n",
    "plt.ylabel('Latitude (\\N{DEGREE SIGN}N)', fontsize = 14)\n",
    "plt.title('b) SSH estimate, 1-stage ' + str((1- ssh_diff1[n]) * 100)[:5] + '%', fontsize = 14)\n",
    "\n",
    "plt.subplot(433)\n",
    "plt.pcolormesh(lon, lat, ssh_2step[:,:,n], vmin = -.2, vmax = .2, cmap = cmo.cm.balance)\n",
    "plt.colorbar()\n",
    "plt.xlabel('Longitude (\\N{DEGREE SIGN}W)', fontsize = 14)\n",
    "plt.ylabel('Latitude (\\N{DEGREE SIGN}N)', fontsize = 14)\n",
    "plt.title('c) SSH estimate, 2-stage,  ' + str((1- ssh_diff_2step) * 100)[:5] + '%', fontsize = 14)\n",
    "\n",
    "plt.subplot(434)\n",
    "plt.pcolormesh(lon, lat, err_true1[:,:,n], cmap = cmo.cm.balance,  vmin = -.02, vmax = .02)\n",
    "plt.colorbar()\n",
    "plt.xlabel('Longitude (\\N{DEGREE SIGN}W)', fontsize = 14)\n",
    "plt.ylabel('Latitude (\\N{DEGREE SIGN}N)', fontsize = 14)\n",
    "plt.title('d) True error', fontsize = 14)\n",
    "\n",
    "plt.subplot(435)\n",
    "plt.pcolormesh(lon, lat, err_map1[:,:,n], cmap = cmo.cm.balance, vmin = -.02, vmax = .02)\n",
    "plt.colorbar()\n",
    "plt.xlabel('Longitude (\\N{DEGREE SIGN}W)', fontsize = 14)\n",
    "plt.ylabel('Latitude (\\N{DEGREE SIGN}N)', fontsize = 14)\n",
    "plt.title('e) Error estimate, 1-stage ' +  str((1- err_diff1[n]) * 100)[:4] + '%', fontsize = 14)\n",
    "\n",
    "plt.subplot(436)\n",
    "plt.pcolormesh(lon, lat, err_map2[:,:,n], cmap = cmo.cm.balance,  vmin = -.02, vmax = .02)\n",
    "plt.colorbar()\n",
    "plt.xlabel('Longitude (\\N{DEGREE SIGN}W)', fontsize = 14)\n",
    "plt.ylabel('Latitude (\\N{DEGREE SIGN}N)', fontsize = 14)\n",
    "plt.title('f) Error estimate, 2-stage '+ str((1- err_diff_2step) * 100)[:5] + '%', fontsize = 14)\n",
    "\n",
    "plt.subplot(437)\n",
    "plt.pcolormesh(lon, lat, err_true1[:,:,n] + ssh_true1[:,:,n], cmap = cmo.cm.balance, vmin = -.2, vmax = .2)\n",
    "plt.colorbar()\n",
    "plt.xlabel('Longitude (\\N{DEGREE SIGN}W)', fontsize = 14)\n",
    "plt.ylabel('Latitude (\\N{DEGREE SIGN}N)', fontsize = 14)\n",
    "plt.title('g) True error + true SSH', fontsize = 14)\n",
    "\n",
    "plt.subplot(438)\n",
    "plt.pcolormesh(lon, lat, ssh_true1[:,:,n] - ssh_map1[:,:,n], cmap = cmo.cm.balance,  vmin = -.02, vmax = .02)\n",
    "plt.colorbar()\n",
    "plt.xlabel('Longitude (\\N{DEGREE SIGN}W)', fontsize = 14)\n",
    "plt.ylabel('Latitude (\\N{DEGREE SIGN}N)', fontsize = 14)\n",
    "plt.title('h) True SSH - SSH estimate, 1-stage ' + str(ssh_diff1[n] * 100)[:5] + '%', fontsize = 14)\n",
    "\n",
    "plt.subplot(4, 3, 9)\n",
    "plt.pcolormesh(lon, lat, ssh_true2[:,:,n] - ssh_2step[:,:,n], cmap = cmo.cm.balance,  vmin = -.02, vmax = .02)\n",
    "plt.colorbar()\n",
    "plt.xlabel('Longitude (\\N{DEGREE SIGN}W)', fontsize = 14)\n",
    "plt.ylabel('Latitude (\\N{DEGREE SIGN}N)', fontsize = 14)\n",
    "plt.title('i) True SSH - SSH estimate, 2-stage ' + str(ssh_diff_2step * 100)[:4]  + '%', fontsize = 14)\n",
    "\n",
    "plt.subplot(4, 3, 11)\n",
    "plt.pcolormesh(lon, lat, err_true1[:,:,n] - err_map1[:,:,n], cmap = cmo.cm.balance, vmin = -.02, vmax = .02)\n",
    "plt.colorbar()\n",
    "plt.xlabel('Longitude (\\N{DEGREE SIGN}W)', fontsize = 14)\n",
    "plt.ylabel('Latitude (\\N{DEGREE SIGN}N)', fontsize = 14)\n",
    "plt.title('j) True Error - Error estimate, 1-stage ' + str(err_diff1 * 100)[:4] + '%' , fontsize = 14)\n",
    "\n",
    "plt.subplot(4,3,12)\n",
    "plt.pcolormesh(lon, lat, err_true2[:,:,n] - err_map2[:,:,n], cmap = cmo.cm.balance,  vmin = -.02, vmax = .02)\n",
    "plt.colorbar()\n",
    "plt.xlabel('Longitude (\\N{DEGREE SIGN}W)', fontsize = 14)\n",
    "plt.ylabel('Latitude (\\N{DEGREE SIGN}N)', fontsize = 14)\n",
    "plt.title('k) True Error - Error estimate, 2-stage ' + str(err_diff_2step * 100)[:4] + '%' , fontsize = 14)\n",
    "\n",
    "plt.tight_layout()\n",
    "plt.savefig('aviso_ssh_estimate_'+ str(date_time[0])[:10] + '_1stage.png', dpi = 300)"
   ]
  },
  {
   "cell_type": "code",
   "execution_count": null,
   "id": "573d5e11-551d-44d8-9ad5-5985c0ce33cb",
   "metadata": {},
   "outputs": [],
   "source": [
    "fig = plt.figure(figsize = (10, 12))\n",
    "\n",
    "\n",
    "plt.subplot(321)\n",
    "plt.pcolormesh(lon, lat, err_true1[:,:,n] + ssh_true1[:,:,n], cmap = cmo.cm.balance, vmin = -.2, vmax = .2)\n",
    "plt.colorbar()\n",
    "plt.xlabel('Longitude (\\N{DEGREE SIGN}W)', fontsize = 14)\n",
    "plt.ylabel('Latitude (\\N{DEGREE SIGN}N)', fontsize = 14)\n",
    "plt.title('a) True error + true SSH', fontsize = 14)\n",
    "\n",
    "\n",
    "plt.subplot(323)\n",
    "plt.pcolormesh(lon, lat, ssh_2step[:,:,n], vmin = -.2, vmax = .2, cmap = cmo.cm.balance)\n",
    "plt.colorbar()\n",
    "plt.xlabel('Longitude (\\N{DEGREE SIGN}W)', fontsize = 14)\n",
    "plt.ylabel('Latitude (\\N{DEGREE SIGN}N)', fontsize = 14)\n",
    "plt.title('c) SSH estimate, 2-stage,  ' + str((1- ssh_diff_2step) * 100)[:5] + '%', fontsize = 14)\n",
    "\n",
    "plt.subplot(325)\n",
    "plt.pcolormesh(lon, lat, ssh_true2[:,:,n] - ssh_2step[:,:,n], cmap = cmo.cm.balance,  vmin = -.02, vmax = .02)\n",
    "plt.colorbar()\n",
    "plt.xlabel('Longitude (\\N{DEGREE SIGN}W)', fontsize = 14)\n",
    "plt.ylabel('Latitude (\\N{DEGREE SIGN}N)', fontsize = 14)\n",
    "plt.title('e) True SSH - SSH estimate, ' + str(ssh_diff_2step * 100)[:4]  + '%', fontsize = 14)\n",
    "\n",
    "\n",
    "plt.subplot(322)\n",
    "plt.pcolormesh(lon, lat, err_true2[:,:,n], cmap = cmo.cm.balance, vmin = -.02, vmax = .02)\n",
    "plt.colorbar()\n",
    "plt.xlabel('Longitude (\\N{DEGREE SIGN}W)', fontsize = 14)\n",
    "plt.ylabel('Latitude (\\N{DEGREE SIGN}N)', fontsize = 14)\n",
    "plt.title('b) True error', fontsize = 14)\n",
    "\n",
    "plt.subplot(324)\n",
    "plt.pcolormesh(lon, lat, err_map2[:,:,n], cmap = cmo.cm.balance,  vmin = -.02, vmax = .02)\n",
    "plt.colorbar()\n",
    "plt.xlabel('Longitude (\\N{DEGREE SIGN}W)', fontsize = 14)\n",
    "plt.ylabel('Latitude (\\N{DEGREE SIGN}N)', fontsize = 14)\n",
    "plt.title('d) Error estimate, '+ str((1- err_diff_2step) * 100)[:5] + '%', fontsize = 14)\n",
    "\n",
    "plt.subplot(326)\n",
    "plt.pcolormesh(lon, lat, err_true2[:,:,n] - err_map2[:,:,n], cmap = cmo.cm.balance,  vmin = -.02, vmax = .02)\n",
    "plt.colorbar()\n",
    "plt.xlabel('Longitude (\\N{DEGREE SIGN}W)', fontsize = 14)\n",
    "plt.ylabel('Latitude (\\N{DEGREE SIGN}N)', fontsize = 14)\n",
    "plt.title('f) True Error - Error estimate, ' + str(err_diff_2step * 100)[:4] + '%' , fontsize = 14)\n",
    "\n",
    "plt.tight_layout()\n",
    "plt.savefig('aviso_ssh_estimate_'+ str(date_time[0])[:10] + '_2stage.png', dpi = 300)"
   ]
  },
  {
   "cell_type": "code",
   "execution_count": null,
   "id": "26afd11a-3e61-4883-b129-1d2bcd2dadc5",
   "metadata": {
    "tags": []
   },
   "outputs": [],
   "source": [
    "SSHA_predicted = np.zeros([time_range, MSLA.size])\n",
    "SSHA_true = np.zeros([time_range, MSLA.size])\n",
    "residual_iter = np.zeros(time_range)\n",
    "MSLA_inverse = np.zeros([MSLA.shape[0], MSLA.shape[1], time_range])\n",
    "for day in range(time_range):\n",
    "    MSLA = MSLA_fwd[:, :, day:day+1]\n",
    "    SSHA_predicted[day], SSHA_true[day], residual_iter[day] = forecast_ssh(MSLA, amp_swath_2step, H_all)\n",
    "    MSLA_inverse[:, :, day:day+1] = reverse_vector(MSLA, SSHA_predicted[day])\n",
    "\n",
    "#     plt.subplot(131)\n",
    "#     plt.pcolormesh(lon, lat, MSLA_fwd[:, :, day], cmap = cmo.cm.balance, vmin = -.15, vmax = .15)\n",
    "#     plt.colorbar()\n",
    "#     plt.xlabel('Longitude (\\N{DEGREE SIGN}W)', fontsize = 14)\n",
    "#     plt.ylabel('Latitude (\\N{DEGREE SIGN}N)', fontsize = 14)\n",
    "#     plt.title('a) AVISO forward model ' + str(date_time[day])[:10], fontsize = 14)\n",
    "\n",
    "#     plt.subplot(132)\n",
    "#     plt.pcolormesh(lon, lat, MSLA_inverse[:, :, day], vmin = -.15, vmax = .15, cmap = cmo.cm.balance)\n",
    "#     plt.colorbar()\n",
    "#     plt.xlabel('Longitude (\\N{DEGREE SIGN}W)', fontsize = 14)\n",
    "#     plt.ylabel('Latitude (\\N{DEGREE SIGN}N)', fontsize = 14)\n",
    "#     plt.title('b) 2-step inversion, swath data', fontsize = 14)\n",
    "\n",
    "#     residual =   MSLA_fwd[:, :, day] - MSLA_inverse[:, :, day]\n",
    "#     plt.subplot(133)\n",
    "#     plt.pcolormesh(lon, lat, residual, cmap = cmo.cm.balance, vmin = -.15, vmax = .15)\n",
    "#     plt.colorbar()\n",
    "#     plt.xlabel('Longitude (\\N{DEGREE SIGN}W)', fontsize = 14)\n",
    "#     plt.ylabel('Latitude (\\N{DEGREE SIGN}N)', fontsize = 14)\n",
    "#     #plt.plot(lon[xvalid_index], lat[yvalid_index], 'x', color = 'gray')\n",
    "#     plt.plot(lon_valid, lat_valid , 'x', color = 'gray')\n",
    "#     plt.title('c) Residual variance ' + str(residual_iter[day] * 100)[:4] + '%', fontsize = 14)\n",
    "\n",
    "#     plt.tight_layout()\n",
    "#     plt.savefig('inversion/inversion_2step_' + str(date_time[day])[:10] +'_with_corr_err_' + str(skill.size) + 'waves_2step.png', dpi = 100)"
   ]
  },
  {
   "cell_type": "code",
   "execution_count": null,
   "id": "1f934803-b347-48a1-97d4-26df47ba032c",
   "metadata": {},
   "outputs": [],
   "source": [
    "SSHA_predicted = np.zeros([time_range, MSLA0[:, :, 0:1].size])\n",
    "SSHA_predicted1 = np.zeros([time_range, MSLA0[:, :, 0:1].size])\n",
    "SSHA_true1 = np.zeros([time_range, MSLA0[:, :, 0:1].size])\n",
    "SSHA_true = np.zeros([time_range, MSLA0[:, :, 0:1].size])\n",
    "variance_explained_inverse2  = np.zeros(time_range)\n",
    "variance_explained_inverse1  = np.zeros(time_range)\n",
    "MSLA_fwrd = np.zeros([MSLA0.shape[0], MSLA0.shape[1], time_range])\n",
    "\n",
    "ind_list = list('abcdefghijklm')\n",
    "count = 0\n",
    "plt.figure(figsize = (15, 12))\n",
    "for day in range(time_range):\n",
    "\n",
    "    # SSH data\n",
    "    #MSLA = SSHA_masked[:, :, day0+day: day0+day+1]\n",
    "    MSLA = MSLA_fwd[:, :, day0+day: day0+day+1]\n",
    "    # Build basis function H matrix\n",
    "    H_all = build_h_matrix(MSLA, MModes, k_n, l_n, lon, lat, T_time[day0:], Psi, Rm, day0 - day0 + day)\n",
    "    \n",
    "    # forecast SSH\n",
    "    SSHA_predicted1[day], SSHA_true1[day], variance_explained_inverse1[day] = forecast_ssh(MSLA, amp_swath[:380],  H_all)\n",
    "    SSHA_predicted[day], SSHA_true[day], variance_explained_inverse2[day] = forecast_ssh(MSLA, amp_swath_2step,  H_all)\n",
    "    # reverse vector\n",
    "    MSLA_fwrd[:, :, day:day+1] = reverse_vector(MSLA, SSHA_predicted[day])\n",
    "\n",
    "    if (day % 4 ==0 and day < 12):\n",
    "        plt.subplot(3, 3, count + 1)\n",
    "        plt.pcolormesh(lon, lat, MSLA[:, :, 0], cmap = cmo.cm.balance, vmin = -.15, vmax = .15) \n",
    "        plt.colorbar()\n",
    "        plt.xlabel('Longitude (\\N{DEGREE SIGN}W)', fontsize = 14)\n",
    "        plt.ylabel('Latitude (\\N{DEGREE SIGN}N)', fontsize = 14)\n",
    "        plt.title(ind_list[count] + ') AVISO forward model ' + str(date_time[day])[:10], fontsize = 14)\n",
    "\n",
    "        plt.subplot(3, 3, count + 2)\n",
    "        plt.pcolormesh(lon, lat, MSLA_fwrd[:, :, day], vmin = -.15, vmax = .15, cmap = cmo.cm.balance)\n",
    "        plt.colorbar()\n",
    "        plt.xlabel('Longitude (\\N{DEGREE SIGN}W)', fontsize = 14)\n",
    "        plt.ylabel('Latitude (\\N{DEGREE SIGN}N)', fontsize = 14)\n",
    "        plt.title(ind_list[count+1] + ') 2-stage inversion with swath data', fontsize = 14)\n",
    "\n",
    "        residual = MSLA[:, :, 0] - MSLA_fwrd[:, :, day] \n",
    "        plt.subplot(3, 3, count + 3)\n",
    "        plt.pcolormesh(lon, lat, residual, cmap = cmo.cm.balance, vmin = -.15, vmax = .15)\n",
    "        plt.colorbar()\n",
    "        plt.xlabel('Longitude (\\N{DEGREE SIGN}W)', fontsize = 14)\n",
    "        plt.ylabel('Latitude (\\N{DEGREE SIGN}N)', fontsize = 14)\n",
    "        plt.title(ind_list[count+2] +') Residual variance ' \n",
    "                  + str((variance_explained_inverse[day]) * 100)[:4] + '%', fontsize = 14)\n",
    "        count = count + 3\n",
    "        plt.tight_layout()\n",
    "\n",
    "plt.savefig('./ssh_swath' + str(date_time[day0 + day])[:10] +'_2stage.png', dpi = 300)"
   ]
  },
  {
   "cell_type": "markdown",
   "id": "5d29ae50-4f77-4c43-9325-5cbd76dbaf65",
   "metadata": {},
   "source": [
    "# Important parameter: Root mean squared correlated error and ssh"
   ]
  },
  {
   "cell_type": "code",
   "execution_count": null,
   "id": "486b51de-98e6-41f0-a0c4-4d76823f83f5",
   "metadata": {},
   "outputs": [],
   "source": [
    "rms_err = np.sqrt(np.mean(cor_err**2))\n",
    "rms_ssh = np.sqrt(np.mean(ssh**2))\n",
    "sigma, rms_err, rms_err/ rms_ssh "
   ]
  },
  {
   "cell_type": "code",
   "execution_count": null,
   "id": "91750ee9",
   "metadata": {},
   "outputs": [],
   "source": [
    "# compute residual variance in and out of track\n",
    "var_in2=np.zeros(time_range)\n",
    "var_out2=np.zeros(time_range)\n",
    "for i in range(time_range):\n",
    "    msla_in=np.ma.masked_where(mask[:,:,0]==0, MSLA_fwd[:,:,i]) # mask in track points\n",
    "    msla_out=np.ma.masked_where(mask[:,:,0]==1, MSLA_fwd[:,:,i]) # mask off track points\n",
    "    var_in2[i]=np.mean(np.mean((MSLA_fwrd[:,:,i]-msla_in)**2,axis=1),axis=0)/(np.mean(np.mean(msla_in**2,axis=1),axis=0))\n",
    "    var_out2[i]=np.mean(np.mean((MSLA_fwrd[:,:,i]-msla_out)**2,axis=1),axis=0)/(np.mean(np.mean(msla_out**2,axis=1),axis=0))"
   ]
  },
  {
   "cell_type": "code",
   "execution_count": null,
   "id": "b22ca72d",
   "metadata": {},
   "outputs": [],
   "source": [
    "var_in_raw_2=np.zeros(time_range)\n",
    "test_diff_2=np.zeros(time_range)\n",
    "for i in range(time_range):\n",
    "    msla_in=np.ma.masked_where(mask[:,:,0]==0,MSLA_fwd[:,:,i])\n",
    "    msla_test=np.ma.masked_where(mask[:,:,0]==0,MSLA_fwrd[:,:,i])\n",
    "    var_in_raw_2[i]=np.mean(np.mean((ssh_2step[:,:,i]- msla_in)**2,axis=1),axis=0)/(np.mean(np.mean(msla_in**2,axis=1),axis=0))\n",
    "    test_diff_2[i]=np.mean(np.mean((ssh_2step[:,:,i]-msla_test)**2,axis=1),axis=0)/(np.mean(np.mean(msla_test**2,axis=1),axis=0))"
   ]
  },
  {
   "cell_type": "code",
   "execution_count": null,
   "id": "c1c553fc-7af2-4a96-b5d7-e4cdde5af679",
   "metadata": {
    "tags": []
   },
   "outputs": [],
   "source": [
    "import matplotlib.pyplot as plt\n",
    "\n",
    "# Set figure size and aspect ratio for landscape orientation\n",
    "fig, ax = plt.subplots(figsize=(10, 5))\n",
    "\n",
    "# Define a color sequence for lines for better visibility and differentiation\n",
    "colors = ['blue', 'orange', 'red', 'purple', 'brown', 'pink', 'gray', 'cyan', 'olive', 'navy']\n",
    "\n",
    "# Line plots\n",
    "ax.plot(time, var_in, label='In-swath Residual Variance (1 step)', linewidth=1.5, color=colors[0])\n",
    "ax.plot(time, var_out, label='Out-of-swath Residual Variance (1 step)', linewidth=1.5, color=colors[1])\n",
    "ax.plot(time, var_in2, label='In-swath Residual Variance (2 step)', linewidth=1.5, color=colors[2])\n",
    "ax.plot(time, var_out2, label='Out-of-swath Residual Variance (2 step)', linewidth=1.5, color=colors[3])\n",
    "ax.plot(time, variance_explained_inverse1[0:], label='Total Residual Variance (1 step)', linewidth=1.5, color=colors[8])\n",
    "ax.plot(time, variance_explained_inverse2[0:], label='Total Residual Variance (2 step)', linewidth=1.5, color=colors[9])\n",
    "\n",
    "# Dashed vertical line at x = 40\n",
    "ax.axvline(time[40], color='gray', linestyle='--', label=\"Forecast Start\")\n",
    "\n",
    "# Adjust plot properties for better clarity\n",
    "ax.set_title('SSH Residual Variance Analysis', fontsize=16, fontweight='bold')\n",
    "ax.set_xlabel('Time - Days since 2016-01-01', fontsize=14)\n",
    "ax.set_ylabel('Variance', fontsize=14)\n",
    "ax.grid(True, which='both', linestyle='--', linewidth=0.5)\n",
    "\n",
    "# Adjust legend position and size\n",
    "box = ax.get_position()\n",
    "ax.set_position([box.x0, box.y0, box.width * 0.75, box.height])\n",
    "ax.legend(loc='best', fontsize = 10)\n",
    "#ax.legend(loc='center left', bbox_to_anchor=(1, 0.5), fontsize=10)\n",
    "\n",
    "plt.tight_layout()\n",
    "plt.savefig('residual_variance.png', dpi=300)\n",
    "plt.show()\n"
   ]
  },
  {
   "cell_type": "code",
   "execution_count": null,
   "id": "d9eb21f6-28d1-4143-8958-99b2d29cfbee",
   "metadata": {
    "tags": []
   },
   "outputs": [],
   "source": [
    "import matplotlib.pyplot as plt\n",
    "\n",
    "# Set figure size and aspect ratio for landscape orientation\n",
    "fig, ax = plt.subplots(figsize=(10, 5))\n",
    "\n",
    "# Define a color sequence for lines for better visibility and differentiation\n",
    "colors = ['blue', 'orange', 'red', 'purple', 'brown', 'pink', 'gray', 'cyan', 'olive', 'navy']\n",
    "\n",
    "# Line plots\n",
    "ax.plot(time, var_in, label='In-swath Residual Variance (1 stage)', linewidth=1.5, color=colors[0])\n",
    "ax.plot(time, var_out, label='Out-of-swath Residual Variance (1 stage)', linewidth=1.5, color=colors[1])\n",
    "ax.plot(time, var_in2, label='In-swath Residual Variance (2 stage)', linewidth=1.5, color=colors[2])\n",
    "ax.plot(time, var_out2, label='Out-of-swath Residual Variance (2 stage)', linewidth=1.5, color=colors[3])\n",
    "ax.plot(time, variance_explained_inverse1[0:], label='Total Residual Variance (1 stage)', linewidth=1.5, color=colors[8])\n",
    "ax.plot(time, variance_explained_inverse2[0:], label='Total Residual Variance (2 stage)', linewidth=1.5, color=colors[9])\n",
    "\n",
    "# Dashed vertical line at x = 40\n",
    "ax.axvline(time[40], color='gray', linestyle='--', label=\"Forecast Start\")\n",
    "\n",
    "# Adjust plot properties for better clarity\n",
    "ax.set_title('Residual Variance Analysis', fontsize=16, fontweight='bold')\n",
    "ax.set_xlabel('Time - Days since 2016-01-01', fontsize=14)\n",
    "ax.set_ylabel('Variance', fontsize=14)\n",
    "ax.grid(True, which='both', linestyle='--', linewidth=0.5)\n",
    "\n",
    "# Adjust legend position and size\n",
    "box = ax.get_position()\n",
    "ax.set_position([box.x0, box.y0, box.width * 0.75, box.height])\n",
    "ax.legend(loc='best', fontsize = 8)\n",
    "# ax.legend(loc='center left', bbox_to_anchor=(1, 0.5), fontsize=10)\n",
    "\n",
    "plt.tight_layout()\n",
    "plt.savefig('residual_variance.png', dpi=300)\n",
    "plt.show()\n"
   ]
  },
  {
   "cell_type": "markdown",
   "id": "66ecf48d",
   "metadata": {},
   "source": [
    "Note that \"in swath\" and \"residual\" solutions should match but don't because of double counting of crossover points."
   ]
  },
  {
   "cell_type": "markdown",
   "id": "0a3354af-3a81-4caa-b79b-c8dcf90e5b6d",
   "metadata": {
    "tags": []
   },
   "source": [
    "# Important result: 2-stage error estimate skill and ssh estimate skill"
   ]
  },
  {
   "cell_type": "code",
   "execution_count": null,
   "id": "a8be2351",
   "metadata": {},
   "outputs": [],
   "source": [
    "(1-ssh_diff2.mean()) * 100, (1 - err_diff2.mean()) * 100"
   ]
  },
  {
   "cell_type": "markdown",
   "id": "558e0b5c-83bb-46c0-ad5f-5ac579ba2600",
   "metadata": {
    "tags": []
   },
   "source": [
    "# Important result: 1-stage error estimate skill and ssh estimate skill"
   ]
  },
  {
   "cell_type": "code",
   "execution_count": null,
   "id": "53edb1fb-9eca-41c9-9376-d6528f626efc",
   "metadata": {},
   "outputs": [],
   "source": [
    "(1 - ssh_diff1.mean()) * 100, (1 - err_diff1.mean()) * 100 #, (1 - ssh_diff_percent.mean()) * 100"
   ]
  },
  {
   "cell_type": "code",
   "execution_count": null,
   "id": "cebc43a1-1595-4c00-b840-4f9a5e68ec42",
   "metadata": {},
   "outputs": [],
   "source": []
  },
  {
   "cell_type": "code",
   "execution_count": null,
   "id": "9fb6ad0e-058b-454a-9ed9-7e7484289364",
   "metadata": {},
   "outputs": [],
   "source": []
  },
  {
   "cell_type": "code",
   "execution_count": null,
   "id": "b7e5ef07-ebe4-4782-bf23-c3c34540cb05",
   "metadata": {},
   "outputs": [],
   "source": []
  }
 ],
 "metadata": {
  "kernelspec": {
   "display_name": "Python 3 (ipykernel)",
   "language": "python",
   "name": "python3"
  },
  "language_info": {
   "codemirror_mode": {
    "name": "ipython",
    "version": 3
   },
   "file_extension": ".py",
   "mimetype": "text/x-python",
   "name": "python",
   "nbconvert_exporter": "python",
   "pygments_lexer": "ipython3",
   "version": "3.10.13"
  }
 },
 "nbformat": 4,
 "nbformat_minor": 5
}
