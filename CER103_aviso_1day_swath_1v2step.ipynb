{
 "cells": [
  {
   "cell_type": "markdown",
   "id": "c6b479bc-dd59-4690-9f80-bc9e8b6d0be9",
   "metadata": {
    "tags": []
   },
   "source": [
    "# AVISO Inversion with all data and swath data, no error"
   ]
  },
  {
   "cell_type": "code",
   "execution_count": 1,
   "id": "69694b22-1973-4c65-9c44-870f99df3cc2",
   "metadata": {
    "tags": []
   },
   "outputs": [],
   "source": [
    "import numpy as np\n",
    "import scipy\n",
    "import gsw\n",
    "import xarray as xr\n",
    "import cmocean as cmo\n",
    "from numpy import linalg as LA\n",
    "from scipy import linalg\n",
    "import matplotlib.pyplot as plt\n",
    "import cartopy.crs as ccrs\n",
    "from tqdm import tqdm\n",
    "from aviso_rossby_wave import skill_matrix, build_h_matrix\n",
    "from aviso_rossby_wave import reverse_vector, forecast_ssh\n",
    "from aviso_rossby_wave import build_swath, inversion, inversion2, make_error_over_time"
   ]
  },
  {
   "cell_type": "markdown",
   "id": "33cf13f4-01b1-4a04-afc8-6c9a03e77544",
   "metadata": {},
   "source": [
    "## Model coefficients such as starting date, number of waves etc."
   ]
  },
  {
   "cell_type": "code",
   "execution_count": 2,
   "id": "4c7fcf81-e2e4-4587-85ed-c80c5813987e",
   "metadata": {},
   "outputs": [
    {
     "data": {
      "text/plain": [
       "array([0.0005, 0.0015, 0.0025, 0.0035, 0.0045, 0.0055, 0.0065, 0.0075,\n",
       "       0.0085, 0.0095, 0.0105, 0.0115, 0.0125, 0.0135, 0.0145, 0.0155,\n",
       "       0.0165, 0.0175, 0.0185, 0.0195, 0.0205, 0.0215, 0.0225, 0.0235,\n",
       "       0.0245, 0.0255, 0.0265, 0.0275, 0.0285, 0.0295])"
      ]
     },
     "execution_count": 2,
     "metadata": {},
     "output_type": "execute_result"
    }
   ],
   "source": [
    "alpha_std = np.arange(5e-4, 3.05e-2, 1e-3) # standard deviation of error paramters\n",
    "alpha_std "
   ]
  },
  {
   "cell_type": "code",
   "execution_count": 3,
   "id": "f0d485e9-52aa-4079-93ed-765f6e6397e1",
   "metadata": {},
   "outputs": [],
   "source": [
    "day0, day1 = 0, 10 # \n",
    "Tdim = day1 - day0\n",
    "start_date = '2016-06-01' ## starting date\n",
    "n_waves = '190' #number of waves\n",
    "exp = 2 # P_over_R = K^-1\n",
    "mu, sigma = 0, alpha_std[3] # std of error amp"
   ]
  },
  {
   "cell_type": "markdown",
   "id": "51d1ff49-49cb-4a2a-a18d-274708bc6bed",
   "metadata": {},
   "source": [
    "## Subset 10 degree by 10 degree of ocean"
   ]
  },
  {
   "cell_type": "code",
   "execution_count": 4,
   "id": "caf43109-f9b7-45c7-a589-46396b460c23",
   "metadata": {},
   "outputs": [],
   "source": [
    "lonidx_west, lonidx_east  =  60, 100\n",
    "latidx_south, latidx_north = 34, 74"
   ]
  },
  {
   "cell_type": "code",
   "execution_count": 5,
   "id": "bbb4bc36-7cf7-436b-8972-6813471eedf8",
   "metadata": {
    "tags": []
   },
   "outputs": [],
   "source": [
    "avisso_ds = xr.open_dataset('./aviso_msla_ccs_5d.nc')\n",
    "SSHA = avisso_ds.msla[latidx_south:latidx_north,lonidx_west:lonidx_east, :]"
   ]
  },
  {
   "cell_type": "code",
   "execution_count": 6,
   "id": "01b3b6d0-8165-4b52-b86d-4d8c282d1807",
   "metadata": {},
   "outputs": [],
   "source": [
    "T_time = avisso_ds.time.data[day0:] * 86400 # in seconds\n",
    "date_time = avisso_ds.date_time.data[day0:]"
   ]
  },
  {
   "cell_type": "code",
   "execution_count": 7,
   "id": "d43ed46c-0678-4205-afcc-eec151387e2c",
   "metadata": {},
   "outputs": [],
   "source": [
    "SSHA = SSHA - SSHA.mean(axis = 0) # - SSHA.mean(axis = 0)"
   ]
  },
  {
   "cell_type": "code",
   "execution_count": 8,
   "id": "1229be99-1fa1-4767-86ca-b327350f1307",
   "metadata": {},
   "outputs": [],
   "source": [
    "lon, lat = (360 - avisso_ds.lon[lonidx_west:lonidx_east].data) * -1, avisso_ds.lat[latidx_south:latidx_north].data"
   ]
  },
  {
   "cell_type": "code",
   "execution_count": 9,
   "id": "d74acb6a-cf74-4cd2-a303-4bfd0ff404ab",
   "metadata": {},
   "outputs": [
    {
     "data": {
      "text/plain": [
       "<matplotlib.colorbar.Colorbar at 0x13c609330>"
      ]
     },
     "execution_count": 9,
     "metadata": {},
     "output_type": "execute_result"
    },
    {
     "data": {
      "image/png": "[encoded data removed]",
      "text/plain": [
       "<Figure size 432x288 with 2 Axes>"
      ]
     },
     "metadata": {
      "needs_background": "light"
     },
     "output_type": "display_data"
    }
   ],
   "source": [
    "plt.pcolormesh(lon, lat, SSHA[:, :, 0], vmin = -.15, vmax = .15, cmap = cmo.cm.balance)\n",
    "plt.colorbar()"
   ]
  },
  {
   "cell_type": "markdown",
   "id": "1bacc80c-4499-4193-a188-e0148f865060",
   "metadata": {},
   "source": [
    "#### Rossby wave vertical modes"
   ]
  },
  {
   "cell_type": "code",
   "execution_count": 10,
   "id": "0c6f6c2e-f7c0-415e-a806-4c85c6df4e77",
   "metadata": {},
   "outputs": [],
   "source": [
    "MModes = 1"
   ]
  },
  {
   "cell_type": "markdown",
   "id": "1635cbe4-aa7e-47de-a7bb-55a9a9936b10",
   "metadata": {},
   "source": [
    "### Inversion with selecetd swath data points"
   ]
  },
  {
   "cell_type": "code",
   "execution_count": 11,
   "id": "98c97cec-d7e1-44e3-9df4-cead42ed54c2",
   "metadata": {},
   "outputs": [],
   "source": [
    "strat_ds = xr.open_dataset('./stratification_sample_ccs.nc')"
   ]
  },
  {
   "cell_type": "markdown",
   "id": "021612da-cfa8-4d67-be99-03a4443cb5a9",
   "metadata": {},
   "source": [
    "### parameters"
   ]
  },
  {
   "cell_type": "code",
   "execution_count": 12,
   "id": "9540be9d-2836-435e-8ac7-96c50a7abbe0",
   "metadata": {},
   "outputs": [],
   "source": [
    "Phi0 = lat.mean() # central latitude (φ0)\n",
    "Omega = 7.27e-5 # Ω is the angular speed of the earth\n",
    "Earth_radius = 6.371e6 / 1e5 # meters\n",
    "Beta = 2 * Omega * np.cos(Phi0) / Earth_radius\n",
    "f0 = 2 * Omega * np.sin(Phi0) #1.0313e-4 # 45 N\n",
    "Psi = strat_ds.Psi.data"
   ]
  },
  {
   "cell_type": "markdown",
   "id": "61601723-da87-475f-8a6c-84146c7ceac8",
   "metadata": {},
   "source": [
    "### the aviso data is sampled at 5-day intervals\n",
    "#### use the 60-day data of the forward model (filtered AVISO data)"
   ]
  },
  {
   "cell_type": "markdown",
   "id": "39c8b26a-ebe2-4f3f-ae17-e2cf927b9aab",
   "metadata": {
    "tags": []
   },
   "source": [
    "#### Rossby wave estimate"
   ]
  },
  {
   "cell_type": "code",
   "execution_count": 13,
   "id": "34a1d2d0-9a23-44ee-9c04-14769126a49b",
   "metadata": {
    "tags": []
   },
   "outputs": [
    {
     "ename": "ValueError",
     "evalue": "did not find a match in any of xarray's currently installed IO backends ['netcdf4', 'h5netcdf', 'scipy']. Consider explicitly selecting one of the installed engines via the ``engine`` parameter, or installing additional IO dependencies, see:\nhttps://docs.xarray.dev/en/stable/getting-started-guide/installing.html\nhttps://docs.xarray.dev/en/stable/user-guide/io.html",
     "output_type": "error",
     "traceback": [
      "\u001b[0;31m---------------------------------------------------------------------------\u001b[0m",
      "\u001b[0;31mValueError\u001b[0m                                Traceback (most recent call last)",
      "Input \u001b[0;32mIn [13]\u001b[0m, in \u001b[0;36m<cell line: 2>\u001b[0;34m()\u001b[0m\n\u001b[1;32m      1\u001b[0m \u001b[38;5;66;03m# wave_ds = xr.open_dataset('./rossby_wave_estimate_' + start_date + '_' + n_waves + 'waves.nc') # forward model - filtered AVISO\u001b[39;00m\n\u001b[0;32m----> 2\u001b[0m wave_ds \u001b[38;5;241m=\u001b[39m  \u001b[43mxr\u001b[49m\u001b[38;5;241;43m.\u001b[39;49m\u001b[43mopen_dataset\u001b[49m\u001b[43m(\u001b[49m\u001b[38;5;124;43m'\u001b[39;49m\u001b[38;5;124;43mrossby_wave_estimate_2016-06-01_190waves_data50days.nc\u001b[39;49m\u001b[38;5;124;43m'\u001b[39;49m\u001b[43m)\u001b[49m\n",
      "File \u001b[0;32m~/opt/miniconda3/envs/tst_env/lib/python3.10/site-packages/xarray/backends/api.py:479\u001b[0m, in \u001b[0;36mopen_dataset\u001b[0;34m(filename_or_obj, engine, chunks, cache, decode_cf, mask_and_scale, decode_times, decode_timedelta, use_cftime, concat_characters, decode_coords, drop_variables, backend_kwargs, *args, **kwargs)\u001b[0m\n\u001b[1;32m    476\u001b[0m     kwargs\u001b[38;5;241m.\u001b[39mupdate(backend_kwargs)\n\u001b[1;32m    478\u001b[0m \u001b[38;5;28;01mif\u001b[39;00m engine \u001b[38;5;129;01mis\u001b[39;00m \u001b[38;5;28;01mNone\u001b[39;00m:\n\u001b[0;32m--> 479\u001b[0m     engine \u001b[38;5;241m=\u001b[39m \u001b[43mplugins\u001b[49m\u001b[38;5;241;43m.\u001b[39;49m\u001b[43mguess_engine\u001b[49m\u001b[43m(\u001b[49m\u001b[43mfilename_or_obj\u001b[49m\u001b[43m)\u001b[49m\n\u001b[1;32m    481\u001b[0m backend \u001b[38;5;241m=\u001b[39m plugins\u001b[38;5;241m.\u001b[39mget_backend(engine)\n\u001b[1;32m    483\u001b[0m decoders \u001b[38;5;241m=\u001b[39m _resolve_decoders_kwargs(\n\u001b[1;32m    484\u001b[0m     decode_cf,\n\u001b[1;32m    485\u001b[0m     open_backend_dataset_parameters\u001b[38;5;241m=\u001b[39mbackend\u001b[38;5;241m.\u001b[39mopen_dataset_parameters,\n\u001b[0;32m   (...)\u001b[0m\n\u001b[1;32m    491\u001b[0m     decode_coords\u001b[38;5;241m=\u001b[39mdecode_coords,\n\u001b[1;32m    492\u001b[0m )\n",
      "File \u001b[0;32m~/opt/miniconda3/envs/tst_env/lib/python3.10/site-packages/xarray/backends/plugins.py:148\u001b[0m, in \u001b[0;36mguess_engine\u001b[0;34m(store_spec)\u001b[0m\n\u001b[1;32m    140\u001b[0m \u001b[38;5;28;01melse\u001b[39;00m:\n\u001b[1;32m    141\u001b[0m     error_msg \u001b[38;5;241m=\u001b[39m (\n\u001b[1;32m    142\u001b[0m         \u001b[38;5;124m\"\u001b[39m\u001b[38;5;124mfound the following matches with the input file in xarray\u001b[39m\u001b[38;5;124m'\u001b[39m\u001b[38;5;124ms IO \u001b[39m\u001b[38;5;124m\"\u001b[39m\n\u001b[1;32m    143\u001b[0m         \u001b[38;5;124mf\u001b[39m\u001b[38;5;124m\"\u001b[39m\u001b[38;5;124mbackends: \u001b[39m\u001b[38;5;132;01m{\u001b[39;00mcompatible_engines\u001b[38;5;132;01m}\u001b[39;00m\u001b[38;5;124m. But their dependencies may not be installed, see:\u001b[39m\u001b[38;5;130;01m\\n\u001b[39;00m\u001b[38;5;124m\"\u001b[39m\n\u001b[1;32m    144\u001b[0m         \u001b[38;5;124m\"\u001b[39m\u001b[38;5;124mhttps://docs.xarray.dev/en/stable/user-guide/io.html \u001b[39m\u001b[38;5;130;01m\\n\u001b[39;00m\u001b[38;5;124m\"\u001b[39m\n\u001b[1;32m    145\u001b[0m         \u001b[38;5;124m\"\u001b[39m\u001b[38;5;124mhttps://docs.xarray.dev/en/stable/getting-started-guide/installing.html\u001b[39m\u001b[38;5;124m\"\u001b[39m\n\u001b[1;32m    146\u001b[0m     )\n\u001b[0;32m--> 148\u001b[0m \u001b[38;5;28;01mraise\u001b[39;00m \u001b[38;5;167;01mValueError\u001b[39;00m(error_msg)\n",
      "\u001b[0;31mValueError\u001b[0m: did not find a match in any of xarray's currently installed IO backends ['netcdf4', 'h5netcdf', 'scipy']. Consider explicitly selecting one of the installed engines via the ``engine`` parameter, or installing additional IO dependencies, see:\nhttps://docs.xarray.dev/en/stable/getting-started-guide/installing.html\nhttps://docs.xarray.dev/en/stable/user-guide/io.html"
     ]
    }
   ],
   "source": [
    "# wave_ds = xr.open_dataset('./rossby_wave_estimate_' + start_date + '_' + n_waves + 'waves.nc') # forward model - filtered AVISO\n",
    "wave_ds =  xr.open_dataset('rossby_wave_estimate_2016-06-01_190waves_data50days.nc')"
   ]
  },
  {
   "cell_type": "code",
   "execution_count": null,
   "id": "54c8239c-42ca-4cc1-847e-672ea9d4d6c1",
   "metadata": {},
   "outputs": [],
   "source": [
    "l_n_orig, k_n_orig = wave_ds.l_n.data, wave_ds.k_n.data\n",
    "amp = wave_ds.Amplitudes.data\n",
    "time= wave_ds.time.data\n",
    "MSLA_fwd = wave_ds.MSLA_forward.data\n",
    "Rm = wave_ds.Rm.data # Rossby deformation radius, unit: degree"
   ]
  },
  {
   "cell_type": "code",
   "execution_count": null,
   "id": "90556392-a5e1-421f-b994-5f3962c6d8eb",
   "metadata": {},
   "outputs": [],
   "source": [
    "l_n = l_n_orig.reshape(len(l_n_orig), MModes)\n",
    "k_n = k_n_orig.reshape(len(k_n_orig), MModes)"
   ]
  },
  {
   "cell_type": "code",
   "execution_count": null,
   "id": "f3be4805-a85e-429a-935c-dda8ece3ac54",
   "metadata": {},
   "outputs": [],
   "source": [
    "wave_ds.MSLA_forward[:, :, 0].plot()"
   ]
  },
  {
   "cell_type": "markdown",
   "id": "918932a0-433b-4880-b6f7-543c45cc0e4d",
   "metadata": {},
   "source": [
    "#### assimilate multiple days of data"
   ]
  },
  {
   "cell_type": "code",
   "execution_count": null,
   "id": "705e3683-cf23-4c26-a736-fa666f22420b",
   "metadata": {},
   "outputs": [],
   "source": [
    "MSLA0 = wave_ds.MSLA_forward.data[:, :, day0:day1] # Filtered SSH"
   ]
  },
  {
   "cell_type": "code",
   "execution_count": null,
   "id": "c52d0b02-5f24-4b04-8049-d1729624ce42",
   "metadata": {
    "tags": []
   },
   "outputs": [],
   "source": [
    "### assess skill, get indices\n",
    "skill, SSHA_vector, Iindex, Jindex, Tindex = skill_matrix(MSLA0, Psi, l_n, k_n, MModes, Rm, lon, lat, T_time) # skill marrix"
   ]
  },
  {
   "cell_type": "markdown",
   "id": "5d998503-c5c6-4c36-b727-02c38b0fce2c",
   "metadata": {},
   "source": [
    "#### Number of models/waves"
   ]
  },
  {
   "cell_type": "code",
   "execution_count": null,
   "id": "b4f7033b-e614-48da-998b-4be395126805",
   "metadata": {},
   "outputs": [],
   "source": [
    "M = k_n.size * l_n.size"
   ]
  },
  {
   "cell_type": "markdown",
   "id": "1fbf4331-0d05-47ec-b2d9-228888f4ecce",
   "metadata": {
    "tags": []
   },
   "source": [
    "#### Plot skill matrix"
   ]
  },
  {
   "cell_type": "code",
   "execution_count": null,
   "id": "60d05cd6-d7b8-4299-bdf0-20849b5a2161",
   "metadata": {},
   "outputs": [],
   "source": [
    "kk, ll = np.meshgrid(l_n, k_n)"
   ]
  },
  {
   "cell_type": "code",
   "execution_count": null,
   "id": "aa71595c-9ca3-4a72-b823-b755a20cf288",
   "metadata": {
    "tags": []
   },
   "outputs": [],
   "source": [
    "# better plot: not saturated, maybe magnitude + log\n",
    "plt.figure(figsize = (8, 8))\n",
    "plt.pcolor(kk, ll, skill[:, :, 0], cmap = cmo.cm.amp, vmin = 0, vmax = 0.1)\n",
    "plt.xlabel('K wavenumber', fontsize = 14)\n",
    "plt.ylabel('L wavenumber', fontsize = 14)\n",
    "plt.colorbar(orientation = 'horizontal')\n",
    "plt.title('skill of each wavenumber', fontsize = 14)\n",
    "plt.savefig('./skill_matrix_KLwaves_' + str(M) + '.png')"
   ]
  },
  {
   "cell_type": "markdown",
   "id": "ecf2d45f-982e-492f-b309-58e4132eecd5",
   "metadata": {
    "tags": []
   },
   "source": [
    "#### Build basis function H matrix"
   ]
  },
  {
   "cell_type": "code",
   "execution_count": null,
   "id": "f668e49e-12bb-41d4-9b64-869fbbfdf63b",
   "metadata": {},
   "outputs": [],
   "source": [
    "dlon = lon - lon.mean()\n",
    "dlat = lat - lat.mean()\n",
    "    \n",
    "H_cos, H_sin = np.zeros([len(SSHA_vector), M]), np.zeros([len(SSHA_vector), M])\n",
    "H_all = np.zeros([len(SSHA_vector), M * 2])\n",
    "omega = np.zeros([len(l_n), len(k_n), MModes])\n",
    "\n",
    "nn = 0 \n",
    "for kk in range(len(l_n)):\n",
    "    for ll in range(len(k_n)):\n",
    "        for mm in range(MModes):\n",
    "            omega[kk, ll, mm] =  -(Beta * l_n[kk, mm]) / (l_n[kk, mm] ** 2 + k_n[ll, mm] ** 2 + Rm ** -2)\n",
    "            for count in range(len(Iindex)):\n",
    "                # (data, model)\n",
    "                H_cos[count, nn] = Psi[0, mm] * np.cos(k_n[ll, mm] * dlon[int(Iindex[count])] + l_n[kk, mm] * dlat[int(Jindex[count])] - omega[kk, ll, mm] * T_time[int(Tindex[count])]) \n",
    "                H_sin[count, nn] = Psi[0, mm] * np.sin(k_n[ll, mm] * dlon[int(Iindex[count])] + l_n[kk, mm] * dlat[int(Jindex[count])] - omega[kk, ll, mm] * T_time[int(Tindex[count])])\n",
    "            nn += 1\n",
    "\n",
    "H_all[:, 0::2] = H_cos \n",
    "H_all[:, 1::2] = H_sin"
   ]
  },
  {
   "cell_type": "markdown",
   "id": "b5bec5fc-0675-4f76-b4ad-4c78926def35",
   "metadata": {
    "tags": []
   },
   "source": [
    "#### signal to noise ratio"
   ]
  },
  {
   "cell_type": "markdown",
   "id": "aceb845e-6a92-4b15-acb0-1ab6c063007f",
   "metadata": {},
   "source": [
    "Signal to noise ratio decreases in proportion to $k^{-1}$"
   ]
  },
  {
   "cell_type": "code",
   "execution_count": null,
   "id": "01a95cba-1cb1-4c8b-9fd3-78877c68b6ae",
   "metadata": {},
   "outputs": [],
   "source": [
    "counter = 0\n",
    "exp = -2\n",
    "ssh_std = .1\n",
    "k0 = l_n.max() # flat at or below k0 \n",
    "\n",
    "p_diagonal = np.zeros([2 * M])\n",
    "kl, kl_plot = np.zeros(M), np.zeros(2*M)\n",
    "k_, l_ = np.zeros(len(l_n)*len(k_n)), np.zeros(len(l_n)*len(k_n))\n",
    "counter = 0\n",
    "R = 0.01 # noise = 1. cm\n",
    "\n",
    "for kk in l_n:\n",
    "    for ll in k_n:\n",
    "        k_[counter] , l_[counter]  = kk, ll\n",
    "        kl[counter] =  np.sqrt(kk ** 2 + ll ** 2) # wavenumber\n",
    "        kl_plot[2 * counter], kl_plot[2 * counter + 1] = kl[counter], kl[counter]\n",
    "        p_diagonal[2 * counter] = (kl[counter]+k0) ** exp \n",
    "        p_diagonal[2 * counter + 1] = (kl[counter]+k0) ** exp \n",
    "        counter += 1   \n",
    "\n",
    "P_matrix = np.zeros([2 * M, 2 * M])\n",
    "p_factor = .16/p_diagonal.sum() # variance of the model,  convert sum of variance from waven number to meter\n",
    "np.fill_diagonal(P_matrix[:],  R / p_diagonal / p_factor)"
   ]
  },
  {
   "cell_type": "code",
   "execution_count": null,
   "id": "dceeba2e-9339-4a29-b1eb-8b7eeed53537",
   "metadata": {},
   "outputs": [],
   "source": [
    "plt.plot(1/P_matrix.diagonal())\n",
    "plt.plot(amp)"
   ]
  },
  {
   "cell_type": "markdown",
   "id": "e14285b7-6a31-4b5e-aa24-f5c4be15b2ae",
   "metadata": {},
   "source": [
    "#### build satellite swath"
   ]
  },
  {
   "cell_type": "code",
   "execution_count": null,
   "id": "8b678963-29e9-4be4-a83e-3bf96cf74185",
   "metadata": {},
   "outputs": [],
   "source": [
    "swath_width, x_swath = 6, 20\n",
    "days = np.arange(day0, day1)"
   ]
  },
  {
   "cell_type": "code",
   "execution_count": null,
   "id": "c4e18e32-7ed5-4de9-98e1-c5f92542702f",
   "metadata": {},
   "outputs": [],
   "source": [
    "xvalid_index, yvalid_index, tindex, yswath_index_left, yswath_index_right, y_mask_left, y_mask_right = build_swath(swath_width, x_swath, days, lon, lat)"
   ]
  },
  {
   "cell_type": "markdown",
   "id": "58240a23-c923-48fe-87c8-d96cd47ebfac",
   "metadata": {},
   "source": [
    "#### Add errors to the swaths"
   ]
  },
  {
   "cell_type": "code",
   "execution_count": null,
   "id": "97aa1352-c1b7-44fb-a153-a602a71d00fb",
   "metadata": {},
   "outputs": [],
   "source": [
    "time_factor = np.arange(1, 1 + day1-day0)"
   ]
  },
  {
   "cell_type": "code",
   "execution_count": null,
   "id": "9a2d447a-aadb-4e91-83dd-54755698f45b",
   "metadata": {},
   "outputs": [],
   "source": [
    "# generate error parameter with Gaussian distribution \n",
    "alpha = np.zeros([Tdim, 7]) #np.random.normal(mu, sigma, Tdim * 7).reshape(Tdim, 7) #\n",
    "for nn in range(7):\n",
    "    alpha[:, nn] = np.random.normal(mu, sigma, Tdim) #TEST"
   ]
  },
  {
   "cell_type": "code",
   "execution_count": null,
   "id": "270d161e-218c-4dd3-a258-c02bda0d4999",
   "metadata": {},
   "outputs": [],
   "source": [
    "timing_err_valid, roll_err_valid, baseline_dilation_err_valid, phase_err_valid, xc1_valid, xc2_valid  = make_error_over_time(days, alpha, yswath_index_left, yswath_index_right, y_mask_left, y_mask_right)"
   ]
  },
  {
   "cell_type": "code",
   "execution_count": null,
   "id": "616e4399-1218-44d6-86a5-310103d2e2a6",
   "metadata": {},
   "outputs": [],
   "source": [
    "# Compute the RMS for each variable\n",
    "rms_timing_err = np.sqrt(np.mean(timing_err_valid**2))\n",
    "rms_roll_err = np.sqrt(np.mean(roll_err_valid**2))\n",
    "rms_baseline_dilation_err = np.sqrt(np.mean(baseline_dilation_err_valid**2))\n",
    "rms_phase_err = np.sqrt(np.mean(phase_err_valid**2))\n",
    "rms_timing_err, rms_roll_err, rms_baseline_dilation_err, rms_phase_err"
   ]
  },
  {
   "cell_type": "markdown",
   "id": "8a96c1c1-b361-4cb0-b600-0f2c28fa6d98",
   "metadata": {
    "tags": []
   },
   "source": [
    "#### sample SSH, errors and add white noise "
   ]
  },
  {
   "cell_type": "code",
   "execution_count": null,
   "id": "f94e605c-65fa-4cc9-8d63-331c81e2581f",
   "metadata": {},
   "outputs": [],
   "source": [
    "IND_TIMING = -7 \n",
    "IND_ROLL = -6\n",
    "IND_BASELINE = -5\n",
    "IND_PHASE3, IND_PHASE4, IND_PHASE5, IND_PHASE6 = -4, -3, -2, -1"
   ]
  },
  {
   "cell_type": "markdown",
   "id": "c21fd32c-d59d-4ce3-8412-1b68eb7a52bd",
   "metadata": {},
   "source": [
    "#### Sub-sample the SSH, correlated errors and H matrix"
   ]
  },
  {
   "cell_type": "code",
   "execution_count": null,
   "id": "ec9df5ee-e93e-4940-80c7-e23e049eda24",
   "metadata": {},
   "outputs": [],
   "source": [
    "#### Sub-sample the SSH, correlated errors and H matrix\n",
    "N = len(tindex) # number of data\n",
    "MSLA_swath = np.zeros(N)\n",
    "M = l_n.size * k_n.size\n",
    "nx, ny = len(lon), len(lat)\n",
    "H_swath = np.zeros([N, 2 * M + Tdim * 7]) # M: number of model\n",
    "IIndex = np.zeros(N) # N: Number of y data\n",
    "cor_err = np.zeros(N) # Correlated Error N: Number of y data\n",
    "Y_v = np.zeros(N)\n",
    "ssh = np.zeros(N)\n",
    "counter = 0\n",
    "\n",
    "for ii in range(N):\n",
    "    IIndex[ii] = nx * ny * tindex[ii] + ny * xvalid_index[ii] + yvalid_index[ii] # index in the vector space\n",
    "    ssh[ii] = MSLA_fwd[xvalid_index[ii], yvalid_index[ii], int(tindex[ii])]\n",
    "    cor_err[ii] = timing_err_valid.flatten()[ii] + roll_err_valid.flatten()[ii] + baseline_dilation_err_valid.flatten()[ii] + phase_err_valid.flatten()[ii]\n",
    "    MSLA_swath[ii] = ssh[ii] + cor_err[ii] # filtered AVISO SSH , no error along the satellite passings\n",
    "    for nn in range(M):\n",
    "        JIndex = 2 * MModes * nn # +  2 * mm # Model space\n",
    "        H_swath[ii, JIndex] = H_cos[IIndex[ii].astype(int), nn]\n",
    "        H_swath[ii, JIndex + 1] = H_sin[IIndex[ii].astype(int), nn]"
   ]
  },
  {
   "cell_type": "code",
   "execution_count": null,
   "id": "d6df238b-f235-4d9c-92ab-e8be6e71ff47",
   "metadata": {},
   "outputs": [],
   "source": [
    "cor_err.max(), cor_err.min()"
   ]
  },
  {
   "cell_type": "markdown",
   "id": "12d9c4f3-e89b-4e7e-80ea-3feae0a09377",
   "metadata": {},
   "source": [
    "# Important parameter: Root mean squared correlated error and ssh"
   ]
  },
  {
   "cell_type": "code",
   "execution_count": null,
   "id": "15106ab9-6d56-4ee2-950c-24aebcaaf13a",
   "metadata": {},
   "outputs": [],
   "source": [
    "rms_err = np.sqrt(np.mean(cor_err**2))\n",
    "rms_ssh = np.sqrt(np.mean(ssh**2))\n",
    "rms_err, rms_ssh, rms_err/ rms_ssh * 100"
   ]
  },
  {
   "cell_type": "code",
   "execution_count": null,
   "id": "4ee88e75-91e0-4f11-a8a3-4f2b728fa14f",
   "metadata": {},
   "outputs": [],
   "source": [
    "Valid_points = len(xvalid_index) // Tdim\n",
    "err_basis_func = np.zeros([Valid_points, 7])\n",
    "for tt in range(Tdim):\n",
    "    for ii in range(Valid_points):\n",
    "        #timing error\n",
    "        err_basis_func[ii, IND_TIMING] = 1 #  alpha_timing, TIMING ERR, distance from nadir Xc\n",
    "        # roll error = alpha[1] * Xc^1\n",
    "        err_basis_func[ii, IND_ROLL] = xc1_valid[tt, ii]  # alpha_roll, ROLL ERR, distance from nadir Xc\n",
    "        # baseline dialation error = alpha[2] * Xc^2\n",
    "        err_basis_func[ii, IND_BASELINE] = xc2_valid[tt, ii]  # alpha_base, BASELINE DIALATION ERR, distance from nadir Xc \n",
    "        # phase error \n",
    "        H_neg = np.heaviside(-1 * xc1_valid[tt, ii], 1) #\n",
    "        H_pos = np.heaviside(xc1_valid[tt, ii], 1) # \n",
    "        err_basis_func[ii, IND_PHASE3] = H_neg                 # alpha_phase3 * np.heaviside(xx - xc, 1)\n",
    "        err_basis_func[ii, IND_PHASE4] = xc1_valid[tt, ii] * H_neg # alpha_phase4 * Xc * np.heaviside(xx - xc, 1)\n",
    "        err_basis_func[ii, IND_PHASE5] = H_pos                 # alpha_phase5 * np.heaviside(xx + xc, 1)\n",
    "        err_basis_func[ii, IND_PHASE6] = xc1_valid[tt, ii] * H_pos # alpha_phase6 * np.heaviside(xx + xc, 1)"
   ]
  },
  {
   "cell_type": "code",
   "execution_count": null,
   "id": "aff2e869-acfc-4f4b-be54-47444c9490f8",
   "metadata": {
    "tags": []
   },
   "outputs": [],
   "source": [
    "### fill the error basis function part of the H matrix\n",
    "for tt in range(Tdim):\n",
    "    H_swath[tt*Valid_points:(tt+1)*Valid_points, 2 * M + tt * 7 : 2 * M + (tt+1) * 7] = err_basis_func"
   ]
  },
  {
   "cell_type": "markdown",
   "id": "a0cc7a4f-c16a-4746-8111-3a24d59b2d91",
   "metadata": {},
   "source": [
    "#### signal to noise ratio - R/P"
   ]
  },
  {
   "cell_type": "code",
   "execution_count": null,
   "id": "b9182140-57b0-4599-bbe5-80f1c09de00c",
   "metadata": {},
   "outputs": [],
   "source": [
    "counter = 0\n",
    "exp = -2\n",
    "ssh_std = .1\n",
    "k0 = l_n.max() # flat at or below k0 \n",
    "p_diagonal = np.zeros([2 * M + Tdim * 7])\n",
    "kl, kl_plot = np.zeros(M), np.zeros(2*M)\n",
    "k_, l_ = np.zeros(len(l_n)*len(k_n)), np.zeros(len(l_n)*len(k_n))\n",
    "counter = 0\n",
    "R = 0.01 # noise = 10. cm (0.1 m), variance = 0.01 m^2\n",
    "\n",
    "for kk in l_n:\n",
    "    for ll in k_n:\n",
    "        k_[counter] , l_[counter]  = kk, ll\n",
    "        kl[counter] =  np.sqrt(kk ** 2 + ll ** 2) # wavenumber\n",
    "        kl_plot[2 * counter], kl_plot[2 * counter + 1] = kl[counter], kl[counter]\n",
    "        p_diagonal[2 * counter] = (kl[counter] + k0) ** exp  * p_factor\n",
    "        p_diagonal[2 * counter + 1] = (kl[counter] + k0) ** exp  * p_factor\n",
    "        counter += 1   \n",
    "\n",
    "p_diagonal[2*M:] = sigma ** 2 # errors\n",
    "\n",
    "P_matrix = np.zeros([2 * M + Tdim * 7, 2 * M +  Tdim * 7])\n",
    "\n",
    "np.fill_diagonal(P_matrix[:],  R / p_diagonal )"
   ]
  },
  {
   "cell_type": "code",
   "execution_count": null,
   "id": "38876f0a-f1b9-4d6e-9c60-539d1c706f0f",
   "metadata": {},
   "outputs": [],
   "source": [
    "Y_vector = Y_v #.flatten()# Reshape Y_v to a 1D array\n",
    "H_matrix = H_swath #.reshapezz((Tdim * Valid_points, 2 * M + Tdim * 7))"
   ]
  },
  {
   "cell_type": "markdown",
   "id": "b73c3729-faf0-4b0d-bc46-0fc422521944",
   "metadata": {},
   "source": [
    "#### diagnostics: fit error to error basis functions"
   ]
  },
  {
   "cell_type": "markdown",
   "id": "e956b138-4b36-40ef-a1bb-697f03d1e1e4",
   "metadata": {
    "tags": []
   },
   "source": [
    "#### Solve for amplitudes"
   ]
  },
  {
   "cell_type": "code",
   "execution_count": null,
   "id": "924c7efd-e864-4e3e-b367-1aae0aa92cba",
   "metadata": {},
   "outputs": [],
   "source": [
    "amp_swath, msla_estimated_swath = inversion(MSLA_swath, H_swath, P_matrix) # assimilate the filtered AVISO SSH + error"
   ]
  },
  {
   "cell_type": "code",
   "execution_count": null,
   "id": "45dd5eed-a499-4631-856b-2fc1c0e24546",
   "metadata": {},
   "outputs": [],
   "source": [
    "amp_swath.shape, msla_estimated_swath.shape"
   ]
  },
  {
   "cell_type": "markdown",
   "id": "7fe79a34-7988-464a-b965-d2d9430e2b56",
   "metadata": {
    "tags": []
   },
   "source": [
    "#### estimate the errors and ssh : H * amp"
   ]
  },
  {
   "cell_type": "code",
   "execution_count": null,
   "id": "d5d39c74-3940-40fe-b93c-db9d880a55b4",
   "metadata": {},
   "outputs": [],
   "source": [
    "err_est_1step = np.matmul(H_matrix[:, -7*Tdim:], amp_swath[-7*Tdim:])\n",
    "ssh_est_1step = np.matmul(H_matrix[:, :-7*Tdim], amp_swath[:-7*Tdim])"
   ]
  },
  {
   "cell_type": "markdown",
   "id": "6c78935d-d325-44bc-a046-c37f3fd3124f",
   "metadata": {
    "tags": []
   },
   "source": [
    "# Important result: error estimate skill and ssh estimate skill of the entire time series"
   ]
  },
  {
   "cell_type": "code",
   "execution_count": null,
   "id": "b256ab6e-e636-46cc-b737-cc6a91444314",
   "metadata": {},
   "outputs": [],
   "source": [
    "ssh_diff = ssh_est_1step - ssh\n",
    "err_diff = err_est_1step - cor_err\n",
    "ssh_diff1 = np.sqrt(np.mean(ssh_diff**2)) / np.sqrt(np.mean(ssh**2))\n",
    "err_diff1  = np.sqrt(np.mean(err_diff**2)) / np.sqrt(np.mean(cor_err**2))"
   ]
  },
  {
   "cell_type": "code",
   "execution_count": null,
   "id": "3db07089-825b-4d78-b5ca-ed95e2537e51",
   "metadata": {},
   "outputs": [],
   "source": [
    "(1 - ssh_diff1.mean()) * 100, (1 - err_diff1.mean()) * 100 "
   ]
  },
  {
   "cell_type": "markdown",
   "id": "1f4f7ed9-a806-4acf-ad0a-ba2bba6b3454",
   "metadata": {},
   "source": [
    "#### Make predictions of SSH based on the estimated amplitudes:\n",
    "#### Swath data, with errors"
   ]
  },
  {
   "cell_type": "code",
   "execution_count": null,
   "id": "77e00a62-821c-497d-97e8-51462e4f857b",
   "metadata": {},
   "outputs": [],
   "source": [
    "plt.figure(figsize = (8, 8))\n",
    "plt.subplot(311)\n",
    "plt.plot(amp_swath[:], '*', label = 'amp estimate')\n",
    "plt.plot(np.append(amp[:], alpha), '.', label = 'true amp')\n",
    "#plt.plot(np.sqrt(P_matrix.diagonal()[:]), label = 'Prior')\n",
    "plt.ylabel('meters')\n",
    "plt.legend()\n",
    "plt.title('model parameters, err std=' + str(sigma))\n",
    "\n",
    "plt.subplot(312)\n",
    "plt.plot(ssh[:400], label = 'ssh')\n",
    "plt.plot(ssh_est_1step[:400], label = 'ssh estimate')\n",
    "plt.legend()\n",
    "\n",
    "plt.subplot(313)\n",
    "plt.plot(cor_err[:400], label = ' true err')\n",
    "plt.plot(err_est_1step[:400], label= ' estimate err')\n",
    "plt.plot(cor_err[:400] - err_est_1step[:400], label= 'cor_err- estimate err')\n",
    "plt.legend()\n",
    "plt.tight_layout()\n",
    "plt.savefig('ssh_err_est_err_std'+ str(sigma) +'.png')"
   ]
  },
  {
   "cell_type": "markdown",
   "id": "f61240a1-a388-4248-983f-5f7de11fc5c5",
   "metadata": {
    "tags": []
   },
   "source": [
    "#### True and estimated SSH and Errors"
   ]
  },
  {
   "cell_type": "code",
   "execution_count": null,
   "id": "fbaf07cb-d86c-4d13-8771-dc9f9a0a3ae9",
   "metadata": {},
   "outputs": [],
   "source": [
    "err_map1 = np.zeros([len(lon), len(lat)])\n",
    "ssh_map1 = np.zeros([len(lon), len(lat)])\n",
    "ssh_true1 = np.zeros([len(lon), len(lat)])\n",
    "err_true1 = np.zeros([len(lon), len(lat)])\n",
    "lon_valid = np.ma.masked_all([len(lon), len(lat)])\n",
    "lat_valid = np.ma.masked_all([len(lon), len(lat)])\n",
    "for ii, idx in enumerate(xvalid_index):\n",
    "    err_map1[xvalid_index[ii], yvalid_index[ii]] = err_est_1step[ii] \n",
    "    ssh_map1[xvalid_index[ii], yvalid_index[ii]]  = ssh_est_1step[ii]\n",
    "    err_true1[xvalid_index[ii], yvalid_index[ii]] = cor_err[ii]\n",
    "    ssh_true1[xvalid_index[ii], yvalid_index[ii]] = ssh[ii]\n",
    "    lon_valid[xvalid_index[ii], yvalid_index[ii]] = lon[yvalid_index[ii]]\n",
    "    lat_valid[xvalid_index[ii], yvalid_index[ii]] = lat[xvalid_index[ii]]"
   ]
  },
  {
   "cell_type": "markdown",
   "id": "d9998482-4854-4074-9a21-b88c734313f5",
   "metadata": {},
   "source": [
    "#### Reverse the vectorization on the swaths"
   ]
  },
  {
   "cell_type": "code",
   "execution_count": null,
   "id": "e8177d5c-db6f-4ea9-b3d0-3c252ef609a1",
   "metadata": {},
   "outputs": [],
   "source": [
    "ssh_diff = ssh_est_1step - ssh\n",
    "err_diff = err_est_1step - cor_err\n",
    "ssh_diff1 = np.sqrt(np.mean(ssh_diff**2)) / np.sqrt(np.mean(ssh**2))\n",
    "err_diff1  = np.sqrt(np.mean(err_diff**2)) / np.sqrt(np.mean(cor_err**2))"
   ]
  },
  {
   "cell_type": "code",
   "execution_count": null,
   "id": "399197bb-c8c1-4849-8365-059f80140cfa",
   "metadata": {},
   "outputs": [],
   "source": [
    "fig = plt.figure(figsize = (10, 12))\n",
    "\n",
    "\n",
    "plt.subplot(321)\n",
    "plt.pcolormesh(lon, lat, err_true1 + ssh_true1, cmap = cmo.cm.balance, vmin = -.2, vmax = .2)\n",
    "plt.colorbar()\n",
    "plt.xlabel('Longitude (\\N{DEGREE SIGN}W)', fontsize = 14)\n",
    "plt.ylabel('Latitude (\\N{DEGREE SIGN}N)', fontsize = 14)\n",
    "plt.title('a) True error + true SSH', fontsize = 14)\n",
    "\n",
    "\n",
    "plt.subplot(323)\n",
    "plt.pcolormesh(lon, lat, ssh_map1, vmin = -.2, vmax = .2, cmap = cmo.cm.balance)\n",
    "plt.colorbar()\n",
    "plt.xlabel('Longitude (\\N{DEGREE SIGN}W)', fontsize = 14)\n",
    "plt.ylabel('Latitude (\\N{DEGREE SIGN}N)', fontsize = 14)\n",
    "plt.title('c) SSH estimate, 1-stage ' + str((1- ssh_diff1) * 100)[:5] + '%', fontsize = 14)\n",
    "\n",
    "plt.subplot(325)\n",
    "plt.pcolormesh(lon, lat, ssh_true1 - ssh_map1, cmap = cmo.cm.balance,  vmin = -.02, vmax = .02)\n",
    "plt.colorbar()\n",
    "plt.xlabel('Longitude (\\N{DEGREE SIGN}W)', fontsize = 14)\n",
    "plt.ylabel('Latitude (\\N{DEGREE SIGN}N)', fontsize = 14)\n",
    "plt.title('e) True SSH - SSH estimate, ' + str(ssh_diff1 * 100)[:5] + '%', fontsize = 14)\n",
    "\n",
    "plt.subplot(322)\n",
    "plt.pcolormesh(lon, lat, err_true1, cmap = cmo.cm.balance,  vmin = -.02, vmax = .02)\n",
    "plt.colorbar()\n",
    "plt.xlabel('Longitude (\\N{DEGREE SIGN}W)', fontsize = 14)\n",
    "plt.ylabel('Latitude (\\N{DEGREE SIGN}N)', fontsize = 14)\n",
    "plt.title('b) True error', fontsize = 14)\n",
    "\n",
    "plt.subplot(324)\n",
    "plt.pcolormesh(lon, lat, err_map1, cmap = cmo.cm.balance, vmin = -.02, vmax = .02)\n",
    "plt.colorbar()\n",
    "plt.xlabel('Longitude (\\N{DEGREE SIGN}W)', fontsize = 14)\n",
    "plt.ylabel('Latitude (\\N{DEGREE SIGN}N)', fontsize = 14)\n",
    "plt.title('d) Error estimate ' +  str((1- err_diff1) * 100)[:4] + '%', fontsize = 14)\n",
    "\n",
    "plt.subplot(326)\n",
    "plt.pcolormesh(lon, lat, err_true1 - err_map1, cmap = cmo.cm.balance, vmin = -.02, vmax = .02)\n",
    "plt.colorbar()\n",
    "plt.xlabel('Longitude (\\N{DEGREE SIGN}W)', fontsize = 14)\n",
    "plt.ylabel('Latitude (\\N{DEGREE SIGN}N)', fontsize = 14)\n",
    "plt.title('f) True Error - Error estimate, ' + str(err_diff1 * 100)[:4] + '%' , fontsize = 14)\n",
    "\n",
    "plt.tight_layout()\n",
    "plt.savefig('aviso_ssh_estimate_'+ str(date_time[0])[:10] + '_1stage.png', dpi = 300)"
   ]
  },
  {
   "cell_type": "markdown",
   "id": "c950ee69-6e75-4ac1-9ded-ba6911d11765",
   "metadata": {},
   "source": [
    "#### Make predictions of SSH based on the estimated amplitudes:\n",
    "#### is the extrapolation skill good?"
   ]
  },
  {
   "cell_type": "code",
   "execution_count": null,
   "id": "4a008a20-cd81-4405-93eb-9a571468c814",
   "metadata": {},
   "outputs": [],
   "source": [
    "time_range = (day1 - day0) * 2 ## 8-16 "
   ]
  },
  {
   "cell_type": "code",
   "execution_count": null,
   "id": "b35da2ad-2695-4ba6-8e0a-07f72331e860",
   "metadata": {},
   "outputs": [],
   "source": [
    "amp_swath[:-7].shape, H_all.shape"
   ]
  },
  {
   "cell_type": "code",
   "execution_count": null,
   "id": "d8e68284-811e-4e3e-85e0-672f04071bb8",
   "metadata": {
    "tags": []
   },
   "outputs": [],
   "source": [
    "# SSHA_predicted = np.zeros([time_range, MSLA0[:, :, 0:1].size])\n",
    "# SSHA_true = np.zeros([time_range, MSLA0[:, :, 0:1].size])\n",
    "# residual_iter = np.zeros(time_range)\n",
    "# MSLA_inverse = np.zeros([MSLA0.shape[0], MSLA0.shape[1], time_range])\n",
    "# for day in range(0, time_range):\n",
    "#     print(date_time[day])\n",
    "#     MSLA = MSLA_fwd[:, :, day:day+1] \n",
    "#     H_all = build_h_matrix(MSLA, MModes, l_n, k_n, lon, lat, T_time, Psi, Rm, day0 + day)\n",
    "#     SSHA_predicted[day], SSHA_true[day], residual_iter[day] = forecast_ssh(MSLA, amp_swath[:380], H_all)\n",
    "#     MSLA_inverse[:, :, day:day+1] = reverse_vector(MSLA, SSHA_predicted[day])\n",
    "    \n",
    "#     plt.figure(figsize = (15, 5))\n",
    "\n",
    "#     plt.subplot(131)\n",
    "#     plt.pcolormesh(lon, lat, MSLA[:, :, 0], cmap = cmo.cm.balance, vmin = -.15, vmax = .15) #MSLA_fwd[:, :, day]\n",
    "#     plt.colorbar()\n",
    "#     plt.xlabel('Longitude (\\N{DEGREE SIGN}W)', fontsize = 14)\n",
    "#     plt.ylabel('Latitude (\\N{DEGREE SIGN}N)', fontsize = 14)\n",
    "#     plt.title('a) AVISO forward model ' + str(date_time[day])[:10], fontsize = 14)\n",
    "\n",
    "#     plt.subplot(132)\n",
    "#     plt.pcolormesh(lon, lat, MSLA_inverse[:, :, day], vmin = -.15, vmax = .15, cmap = cmo.cm.balance)\n",
    "#     plt.colorbar()\n",
    "#     plt.xlabel('Longitude (\\N{DEGREE SIGN}W)', fontsize = 14)\n",
    "#     plt.ylabel('Latitude (\\N{DEGREE SIGN}N)', fontsize = 14)\n",
    "#     plt.title('b) 1-stage inversion, swath data', fontsize = 14)\n",
    "\n",
    "#     residual = MSLA[:, :, 0] - MSLA_inverse[:, :, day] \n",
    "#     plt.subplot(133)\n",
    "#     plt.plot(lon_valid, lat_valid, 'x', color = 'gray')\n",
    "#     plt.pcolormesh(lon, lat, residual, cmap = cmo.cm.balance, vmin = -.15, vmax = .15)\n",
    "#     plt.colorbar()\n",
    "#     plt.xlabel('Longitude (\\N{DEGREE SIGN}W)', fontsize = 14)\n",
    "#     plt.ylabel('Latitude (\\N{DEGREE SIGN}N)', fontsize = 14)\n",
    "#     plt.title('c) Residual variance ' +  str(residual_iter[day] * 100)[:4] + '%', fontsize = 14)\n",
    "    \n",
    "#     plt.tight_layout()\n",
    "#     #plt.close()\n",
    "#     plt.savefig('inversion/ssh_1step_' + str(date_time[day])[:10] +'_' + str(skill.size) + 'waves.png', dpi = 300)"
   ]
  },
  {
   "cell_type": "code",
   "execution_count": null,
   "id": "590d054f-c69f-4274-a6e0-de6664f0d6fb",
   "metadata": {},
   "outputs": [],
   "source": [
    "SSHA_predicted = np.zeros([time_range, MSLA0[:, :, 0:1].size])\n",
    "SSHA_true = np.zeros([time_range, MSLA0[:, :, 0:1].size])\n",
    "variance_explained_inverse  = np.zeros(time_range)\n",
    "MSLA_fwrd = np.zeros([MSLA0.shape[0], MSLA0.shape[1], time_range])\n",
    "\n",
    "ind_list = list('abcdefghijklm')\n",
    "count = 0\n",
    "plt.figure(figsize = (15, 12))\n",
    "for day in range(0, 12, 4):\n",
    "    print(count)\n",
    "    # SSH data\n",
    "    #MSLA = SSHA_masked[:, :, day0+day: day0+day+1]\n",
    "    MSLA = MSLA_fwd[:, :, day0+day: day0+day+1]\n",
    "    # Build basis function H matrix\n",
    "    H_all = build_h_matrix(MSLA, MModes, l_n, k_n, lon, lat, T_time[day0:], Psi, Rm, day0 + day)\n",
    "    # forecast SSH\n",
    "    SSHA_predicted[day], SSHA_true[day], variance_explained_inverse[day] = forecast_ssh(MSLA, amp_swath[:380],  H_all)\n",
    "    # reverse vector\n",
    "    MSLA_fwrd[:, :, day:day+1] = reverse_vector(MSLA, SSHA_predicted[day])\n",
    "\n",
    "    plt.subplot(3, 3, count + 1)\n",
    "    plt.pcolormesh(lon, lat, MSLA[:, :, 0], cmap = cmo.cm.balance, vmin = -.15, vmax = .15) \n",
    "    plt.colorbar()\n",
    "    plt.xlabel('Longitude (\\N{DEGREE SIGN}W)', fontsize = 14)\n",
    "    plt.ylabel('Latitude (\\N{DEGREE SIGN}N)', fontsize = 14)\n",
    "    plt.title(ind_list[count] + ') AVISO forward model ' + str(date_time[day])[:10], fontsize = 14)\n",
    "\n",
    "    plt.subplot(3, 3, count + 2)\n",
    "    plt.pcolormesh(lon, lat, MSLA_fwrd[:, :, day], vmin = -.15, vmax = .15, cmap = cmo.cm.balance)\n",
    "    plt.colorbar()\n",
    "    plt.xlabel('Longitude (\\N{DEGREE SIGN}W)', fontsize = 14)\n",
    "    plt.ylabel('Latitude (\\N{DEGREE SIGN}N)', fontsize = 14)\n",
    "    plt.title(ind_list[count+1] + ') 1-stage inversion with swath data', fontsize = 14)\n",
    "\n",
    "    residual = MSLA[:, :, 0] - MSLA_fwrd[:, :, day] \n",
    "    plt.subplot(3, 3, count + 3)\n",
    "    plt.pcolormesh(lon, lat, residual, cmap = cmo.cm.balance, vmin = -.15, vmax = .15)\n",
    "    plt.colorbar()\n",
    "    plt.xlabel('Longitude (\\N{DEGREE SIGN}W)', fontsize = 14)\n",
    "    plt.ylabel('Latitude (\\N{DEGREE SIGN}N)', fontsize = 14)\n",
    "    plt.title(ind_list[count+2] +') Residual variance ' \n",
    "              + str((variance_explained_inverse[day]) * 100)[:4] + '%', fontsize = 14)\n",
    "    count = count + 3\n",
    "    plt.tight_layout()\n",
    "\n",
    "plt.savefig('./ssh_swath' + str(date_time[day0 + day])[:10] +'_' + str(skill.size) + 'waves_1stage.png', dpi = 300)"
   ]
  },
  {
   "cell_type": "markdown",
   "id": "86c9f5e6-356b-4886-b9bd-29f6c53667a3",
   "metadata": {
    "tags": []
   },
   "source": [
    "###  Ambiguity test "
   ]
  },
  {
   "cell_type": "markdown",
   "id": "67755cbe-9e7a-49a8-b84d-5012bb5eafd4",
   "metadata": {},
   "source": [
    "#### basis function correlation matrix: assessing whether the basis functions are orthogonal"
   ]
  },
  {
   "cell_type": "code",
   "execution_count": null,
   "id": "ec7d76ac-9db4-41d4-9960-11a7385432c3",
   "metadata": {},
   "outputs": [],
   "source": [
    "import pandas as pd\n",
    "import seaborn as sns\n",
    "# collect data\n",
    "data = H_matrix[:, -7:]\n",
    "# form dataframe\n",
    "dataframe = pd.DataFrame(data, columns=['TIMING',  'ROLL', 'BASE', 'PHASE3', 'PHASE4', 'PHASE5', 'PHASE6'])\n",
    "cov_matrix = dataframe.cov()"
   ]
  },
  {
   "cell_type": "code",
   "execution_count": null,
   "id": "da1e7e82-439d-4972-b8d5-4f19c35d9b05",
   "metadata": {},
   "outputs": [],
   "source": [
    "corr_matrix = dataframe.corr()"
   ]
  },
  {
   "cell_type": "code",
   "execution_count": null,
   "id": "0fec3d14-30f1-424d-9cc8-9068cc56cc01",
   "metadata": {},
   "outputs": [],
   "source": [
    "plt.figure(figsize = (10, 8))\n",
    "sns.heatmap(corr_matrix, annot = True, cmap = cmo.cm.balance, vmin = -1, vmax = 1)\n",
    "plt.xticks(range(7), ['TIMING',  'ROLL', 'BASE', 'PHASE3', 'PHASE4', 'PHASE5', 'PHASE6'])\n",
    "plt.yticks(range(7), ['TIMING',  'ROLL', 'BASE', 'PHASE3', 'PHASE4', 'PHASE5', 'PHASE6'])\n",
    "plt.title('Basis Function Correlation Matrix', fontsize = 14)\n",
    "plt.savefig('./H_corr_matrix.png')"
   ]
  },
  {
   "cell_type": "markdown",
   "id": "7c3ff3d1-e063-47a3-ad38-0962e5e95b39",
   "metadata": {},
   "source": [
    "#### the proterier covariance matrix of the difference between the estimated and the true model parameters is"
   ]
  },
  {
   "cell_type": "code",
   "execution_count": null,
   "id": "4162f9e0-0d38-49cb-9846-52e8907eb472",
   "metadata": {},
   "outputs": [],
   "source": [
    "HTH = np.matmul(H_matrix[-7:, -7:].T, H_matrix[-7:, -7:])\n",
    "\n",
    "HRH = HTH + P_matrix[-7:, -7:] #0.81 * sigma #, P: uncertainty in model, R: uncertainty in data\n",
    "\n",
    "COV = LA.inv(HRH + LA.inv(P_matrix[-7:, -7:]))"
   ]
  },
  {
   "cell_type": "code",
   "execution_count": null,
   "id": "e52e2967-fff4-405d-9709-4825e91093c1",
   "metadata": {},
   "outputs": [],
   "source": [
    "def correlation_from_covariance(covariance):\n",
    "    \n",
    "    v = np.sqrt(np.diag(covariance))\n",
    "    outer_v = np.outer(v, v)\n",
    "    correlation = covariance / outer_v\n",
    "    correlation[covariance == 0] = 0\n",
    "    \n",
    "    return correlation"
   ]
  },
  {
   "cell_type": "code",
   "execution_count": null,
   "id": "cd054cdc-0fa9-48af-91f5-3c794d4b38a2",
   "metadata": {},
   "outputs": [],
   "source": [
    "COR = correlation_from_covariance(COV)"
   ]
  },
  {
   "cell_type": "code",
   "execution_count": null,
   "id": "6db5c36b-5920-498e-9ce0-3bb316eaaa67",
   "metadata": {
    "tags": []
   },
   "outputs": [],
   "source": [
    "plt.figure(figsize = (10, 8))\n",
    "sns.heatmap(COV, annot = True, cmap = cmo.cm.balance, vmin = -.05, vmax = .05)\n",
    "plt.xticks(range(7), ['TIMING',  'ROLL', 'BASE', 'PHASE3', 'PHASE4', 'PHASE5', 'PHASE6'])\n",
    "plt.yticks(range(7), ['TIMING',  'ROLL', 'BASE', 'PHASE3', 'PHASE4', 'PHASE5', 'PHASE6'])\n",
    "#plt.title('Model Parameter Covariance Matrix $<(x-\\hat{x})(x-\\hat{x})^T> = (H^{T}R^{-1}H + P^{-1})^{-1}$', fontsize = 14)\n",
    "plt.title('Model Parameter Covariance Matrix $<(x-\\hat{x})(x-\\hat{x})^T> $', fontsize = 14)\n",
    "plt.savefig('./cov_matrix.png')"
   ]
  },
  {
   "cell_type": "code",
   "execution_count": null,
   "id": "f8b02573-d757-4bc8-aad4-019e5f66589a",
   "metadata": {},
   "outputs": [],
   "source": [
    "plt.figure(figsize = (10, 8))\n",
    "sns.heatmap(COV, annot = True, cmap = cmo.cm.balance, vmin = -.05, vmax = .05)\n",
    "plt.xticks(range(7), ['TIMING',  'ROLL', 'BASE', 'PHASE3', 'PHASE4', 'PHASE5', 'PHASE6'])\n",
    "plt.yticks(range(7), ['TIMING',  'ROLL', 'BASE', 'PHASE3', 'PHASE4', 'PHASE5', 'PHASE6'])\n",
    "#plt.title('Model Parameter Covariance Matrix $<(x-\\hat{x})(x-\\hat{x})^T> = (H^{T}R^{-1}H + P^{-1})^{-1}$', fontsize = 14)\n",
    "plt.title('Model Parameter Covariance Matrix $<(x-\\hat{x})(x-\\hat{x})^T> $', fontsize = 14)\n",
    "plt.savefig('./cov_matrix.png')"
   ]
  },
  {
   "cell_type": "code",
   "execution_count": null,
   "id": "eb953075-b0f1-4f95-a53e-1580644f7869",
   "metadata": {},
   "outputs": [],
   "source": [
    "plt.figure(figsize = (10, 8))\n",
    "\n",
    "sns.heatmap(COR, annot = True, cmap = cmo.cm.balance, vmin = -.75, vmax = .75)\n",
    "plt.xticks(range(7), ['TIMING',  'ROLL', 'BASE', 'PHASE3', 'PHASE4', 'PHASE5', 'PHASE6'])\n",
    "plt.yticks(range(7), ['TIMING',  'ROLL', 'BASE', 'PHASE3', 'PHASE4', 'PHASE5', 'PHASE6'])\n",
    "plt.title('Model Parameter Correlation Matrix $(H^{T}R^{-1}H + P^{-1})^{-1}$', fontsize = 14)\n",
    "plt.savefig('./corr_matrix.png')"
   ]
  },
  {
   "cell_type": "markdown",
   "id": "17c8f546-9ff5-4f07-ad9f-144427b82651",
   "metadata": {
    "tags": []
   },
   "source": [
    "### Two-stage approach: reconstructing the SSH separately from solving the correlated error"
   ]
  },
  {
   "cell_type": "markdown",
   "id": "76e048d5-8872-480e-a967-d52648194260",
   "metadata": {
    "tags": []
   },
   "source": [
    "#### First step: fit errors"
   ]
  },
  {
   "cell_type": "markdown",
   "id": "431075a0-cfc4-49de-aafa-bfadd7613d0b",
   "metadata": {},
   "source": [
    "#### Sub-sample the SSH, correlated errors and H matrix"
   ]
  },
  {
   "cell_type": "code",
   "execution_count": null,
   "id": "c6e07062-1b07-4271-b38d-0e29dc853d14",
   "metadata": {},
   "outputs": [],
   "source": [
    "H_v1 = H_swath[:, -7 * Tdim:]"
   ]
  },
  {
   "cell_type": "code",
   "execution_count": null,
   "id": "783e3ce5-cb4d-456a-ba43-bb9fcfb76ff0",
   "metadata": {},
   "outputs": [],
   "source": [
    "P_over_R1 = P_matrix[-7* Tdim:, -7* Tdim:]#.mean(axis = 0)"
   ]
  },
  {
   "cell_type": "code",
   "execution_count": null,
   "id": "8c230fc5-b6df-480c-9ad4-71cd80e25d40",
   "metadata": {},
   "outputs": [],
   "source": [
    "HTH = np.matmul(H_v1.T, H_v1)"
   ]
  },
  {
   "cell_type": "code",
   "execution_count": null,
   "id": "dafbb794-1f25-4949-888c-0bdafc8155ae",
   "metadata": {},
   "outputs": [],
   "source": [
    "HRH = HTH + P_over_R1 # P: uncertainty in model, R: uncertainty in data\n",
    "D = np.matmul(LA.inv(HRH), H_v1.T)   "
   ]
  },
  {
   "cell_type": "code",
   "execution_count": null,
   "id": "7e5ab020-8beb-46f6-950b-6202ca91ca75",
   "metadata": {},
   "outputs": [],
   "source": [
    "amp_err = np.matmul(D, MSLA_swath)"
   ]
  },
  {
   "cell_type": "markdown",
   "id": "96acee64-252e-470e-bebc-b58562f06c7c",
   "metadata": {},
   "source": [
    "#### correlated error estimate"
   ]
  },
  {
   "cell_type": "code",
   "execution_count": null,
   "id": "c4f52bd8-9720-4ec2-8289-21fbe3c0c388",
   "metadata": {},
   "outputs": [],
   "source": [
    "#### estimate the correlated error\n",
    "err_est_2step = np.matmul(H_v1, amp_err)"
   ]
  },
  {
   "cell_type": "markdown",
   "id": "30400314-f175-4ed1-bef5-23a49b68e593",
   "metadata": {},
   "source": [
    "#### SSH + correlated errors - estimated correlated errors"
   ]
  },
  {
   "cell_type": "code",
   "execution_count": null,
   "id": "e37c1b5b-2b97-4fe4-9b8a-901f73c39659",
   "metadata": {},
   "outputs": [],
   "source": [
    "tau_ssh = MSLA_swath - err_est_2step"
   ]
  },
  {
   "cell_type": "markdown",
   "id": "524ea369-1bfb-42d6-a162-eb826d171f74",
   "metadata": {},
   "source": [
    "#### second step: fit residual to rossby wave models"
   ]
  },
  {
   "cell_type": "code",
   "execution_count": null,
   "id": "6d865462-53ae-41df-b7e0-df8e1bc6a83f",
   "metadata": {},
   "outputs": [],
   "source": [
    "H_v = H_swath[:, :-7 * Tdim]\n",
    "HTH = np.matmul(H_v.T, H_v)\n",
    "HRH = np.zeros(HTH.shape)\n",
    "HRH = HTH +  P_matrix[:-7 * Tdim, :-7 * Tdim]\n",
    "D = np.matmul(LA.inv(HRH), H_v.T)\n",
    "eig, vec = LA.eig(HRH)"
   ]
  },
  {
   "cell_type": "markdown",
   "id": "ddf9b82a-41a5-478f-9f74-d2944e76e894",
   "metadata": {
    "tags": []
   },
   "source": [
    "#### Soution with noise, 2 step approach"
   ]
  },
  {
   "cell_type": "code",
   "execution_count": null,
   "id": "e517b67d-818f-4d34-81df-925b3426b77f",
   "metadata": {},
   "outputs": [],
   "source": [
    "amp_swath_2step = np.matmul(D, tau_ssh)"
   ]
  },
  {
   "cell_type": "markdown",
   "id": "50f8cc3c-735c-4a1d-9c17-2237954cc28b",
   "metadata": {
    "tags": []
   },
   "source": [
    "#### Prediction with new amplitudes in the next 40 days"
   ]
  },
  {
   "cell_type": "code",
   "execution_count": null,
   "id": "262eabe2-4c7e-4c40-9e61-81ef3a0c7b52",
   "metadata": {},
   "outputs": [],
   "source": [
    "ssh_est_2step = np.matmul(H_v, amp_swath_2step)"
   ]
  },
  {
   "cell_type": "markdown",
   "id": "1e1df7fe-1788-4bf8-a4c5-f6e62d545b94",
   "metadata": {
    "tags": []
   },
   "source": [
    "# Important result: 2-stage error estimate skill and ssh estimate skill"
   ]
  },
  {
   "cell_type": "code",
   "execution_count": null,
   "id": "c512c2d9-9e29-45ee-8490-ea37a7b23457",
   "metadata": {},
   "outputs": [],
   "source": [
    "ssh_diff = ssh_est_2step - ssh\n",
    "err_diff = err_est_2step - cor_err\n",
    "ssh_diff_2stage = np.sqrt(np.mean(ssh_diff**2)) / np.sqrt(np.mean(ssh**2))\n",
    "err_diff_2stage  = np.sqrt(np.mean(err_diff**2)) / np.sqrt(np.mean(cor_err**2))"
   ]
  },
  {
   "cell_type": "code",
   "execution_count": null,
   "id": "670c85f8-3197-4bfd-b170-69d8cb139734",
   "metadata": {},
   "outputs": [],
   "source": [
    "(1 - ssh_diff_2stage.mean()) * 100, (1 - err_diff_2stage.mean()) * 100"
   ]
  },
  {
   "cell_type": "code",
   "execution_count": null,
   "id": "02d8a044-f92a-4c44-9c60-9e6ac1fb4e24",
   "metadata": {},
   "outputs": [],
   "source": [
    "plt.figure(figsize = (8, 8))\n",
    "plt.subplot(311)\n",
    "plt.plot(amp_swath[:], '*', label = 'amp estimate')\n",
    "plt.plot(np.append(amp[:], alpha), '.', label = 'true amp')\n",
    "#plt.plot(np.sqrt(P_matrix.diagonal()[:]), label = 'Prior')\n",
    "plt.ylabel('meters')\n",
    "plt.legend()\n",
    "plt.title('model parameters, err std' + str(sigma))\n",
    "\n",
    "plt.subplot(312)\n",
    "plt.plot(ssh[:400], label = 'ssh')\n",
    "plt.plot(ssh_est_2step[:400], label = 'ssh estimate')\n",
    "plt.legend()\n",
    "\n",
    "plt.subplot(313)\n",
    "plt.plot(cor_err[:400], label = ' true err')\n",
    "plt.plot(err_est_2step[:400], label= ' estimate err')\n",
    "plt.plot(cor_err[:400] - err_est_2step[:400], label= 'cor_err- estimate err')\n",
    "plt.legend()\n",
    "plt.tight_layout()\n",
    "plt.savefig('ssh_err_est_err_std'+ str(sigma) +'.png')"
   ]
  },
  {
   "cell_type": "code",
   "execution_count": null,
   "id": "3497a5cc-710a-4784-bb42-0130cec514e3",
   "metadata": {
    "tags": []
   },
   "outputs": [],
   "source": [
    "err_map = np.zeros([nx, ny])\n",
    "ssh_true = np.zeros([nx, ny])\n",
    "ssh_2step = np.zeros([nx, ny])\n",
    "err_true = np.zeros([nx, ny])\n",
    "for ii, idx in enumerate(xvalid_index):\n",
    "    err_map[xvalid_index[ii], yvalid_index[ii]] = err_est_2step[ii] \n",
    "    ssh_true[xvalid_index[ii], yvalid_index[ii]] = ssh[ii]\n",
    "    err_true[xvalid_index[ii], yvalid_index[ii]] = cor_err[ii]\n",
    "    ssh_2step[xvalid_index[ii], yvalid_index[ii]] = ssh_est_2step[ii]"
   ]
  },
  {
   "cell_type": "code",
   "execution_count": null,
   "id": "253e7eb8-66a0-4df1-a3c3-9ef102654f44",
   "metadata": {},
   "outputs": [],
   "source": [
    "ssh_diff_2step = np.sqrt(np.mean((ssh_true - ssh_2step) ** 2 ))/ np.sqrt(np.mean((ssh_true) ** 2 ))\n",
    "err_diff_2step = np.sqrt(np.mean((err_true - err_map) ** 2 ))/ np.sqrt(np.mean((err_true) ** 2 ))\n",
    "ssh_diff_2step , str(ssh_diff_2step * 100)[:4], err_diff_2step"
   ]
  },
  {
   "cell_type": "code",
   "execution_count": null,
   "id": "dcef2490-518f-4d48-a4c2-180334c16398",
   "metadata": {},
   "outputs": [],
   "source": [
    "fig = plt.figure(figsize = (15, 15))\n",
    "\n",
    "\n",
    "# plt.subplot(431)\n",
    "# plt.pcolormesh(lon, lat, err_true1 + ssh_true1, cmap = cmo.cm.balance, vmin = -.2, vmax = .2)\n",
    "# plt.colorbar()\n",
    "# plt.xlabel('Longitude (\\N{DEGREE SIGN}W)', fontsize = 14)\n",
    "# plt.ylabel('Latitude (\\N{DEGREE SIGN}N)', fontsize = 14)\n",
    "# plt.title('a) True error + true SSH', fontsize = 14)\n",
    "\n",
    "plt.subplot(431)\n",
    "plt.pcolormesh(lon, lat, ssh_true1, cmap = cmo.cm.balance, vmin = -.2, vmax = .2)\n",
    "plt.colorbar()\n",
    "plt.xlabel('Longitude (\\N{DEGREE SIGN}W)', fontsize = 14)\n",
    "plt.ylabel('Latitude (\\N{DEGREE SIGN}N)', fontsize = 14)\n",
    "plt.title('a) True SSH', fontsize = 14)\n",
    "\n",
    "\n",
    "plt.subplot(432)\n",
    "plt.pcolormesh(lon, lat, ssh_map1, vmin = -.2, vmax = .2, cmap = cmo.cm.balance)\n",
    "plt.colorbar() \n",
    "plt.xlabel('Longitude (\\N{DEGREE SIGN}W)', fontsize = 14)\n",
    "plt.ylabel('Latitude (\\N{DEGREE SIGN}N)', fontsize = 14)\n",
    "plt.title('b) SSH estimate, 1-stage ' + str((1- ssh_diff1) * 100)[:5] + '%', fontsize = 14)\n",
    "\n",
    "plt.subplot(433)\n",
    "plt.pcolormesh(lon, lat, ssh_2step, vmin = -.2, vmax = .2, cmap = cmo.cm.balance)\n",
    "plt.colorbar()\n",
    "plt.xlabel('Longitude (\\N{DEGREE SIGN}W)', fontsize = 14)\n",
    "plt.ylabel('Latitude (\\N{DEGREE SIGN}N)', fontsize = 14)\n",
    "plt.title('c) SSH estimate, 2-stage,  ' + str((1- ssh_diff_2step) * 100)[:5] + '%', fontsize = 14)\n",
    "\n",
    "plt.subplot(434)\n",
    "plt.pcolormesh(lon, lat, err_true1, cmap = cmo.cm.balance,  vmin = -.02, vmax = .02)\n",
    "plt.colorbar()\n",
    "plt.xlabel('Longitude (\\N{DEGREE SIGN}W)', fontsize = 14)\n",
    "plt.ylabel('Latitude (\\N{DEGREE SIGN}N)', fontsize = 14)\n",
    "plt.title('d) True error', fontsize = 14)\n",
    "\n",
    "plt.subplot(435)\n",
    "plt.pcolormesh(lon, lat, err_map1, cmap = cmo.cm.balance, vmin = -.02, vmax = .02)\n",
    "plt.colorbar()\n",
    "plt.xlabel('Longitude (\\N{DEGREE SIGN}W)', fontsize = 14)\n",
    "plt.ylabel('Latitude (\\N{DEGREE SIGN}N)', fontsize = 14)\n",
    "plt.title('e) Error estimate, 1-stage ' +  str((1- err_diff1) * 100)[:4] + '%', fontsize = 14)\n",
    "\n",
    "plt.subplot(436)\n",
    "plt.pcolormesh(lon, lat, err_map, cmap = cmo.cm.balance,  vmin = -.02, vmax = .02)\n",
    "plt.colorbar()\n",
    "plt.xlabel('Longitude (\\N{DEGREE SIGN}W)', fontsize = 14)\n",
    "plt.ylabel('Latitude (\\N{DEGREE SIGN}N)', fontsize = 14)\n",
    "plt.title('f) Error estimate, 2-stage '+ str((1- err_diff_2step) * 100)[:5] + '%', fontsize = 14)\n",
    "\n",
    "plt.subplot(437)\n",
    "plt.pcolormesh(lon, lat, err_true1 + ssh_true1, cmap = cmo.cm.balance, vmin = -.2, vmax = .2)\n",
    "plt.colorbar()\n",
    "plt.xlabel('Longitude (\\N{DEGREE SIGN}W)', fontsize = 14)\n",
    "plt.ylabel('Latitude (\\N{DEGREE SIGN}N)', fontsize = 14)\n",
    "plt.title('g) True error + true SSH', fontsize = 14)\n",
    "\n",
    "plt.subplot(438)\n",
    "plt.pcolormesh(lon, lat, ssh_true1 - ssh_map1, cmap = cmo.cm.balance,  vmin = -.02, vmax = .02)\n",
    "plt.colorbar()\n",
    "plt.xlabel('Longitude (\\N{DEGREE SIGN}W)', fontsize = 14)\n",
    "plt.ylabel('Latitude (\\N{DEGREE SIGN}N)', fontsize = 14)\n",
    "plt.title('h) True SSH - SSH estimate, 1-stage ' + str(ssh_diff1 * 100)[:5] + '%', fontsize = 14)\n",
    "\n",
    "plt.subplot(4, 3, 9)\n",
    "plt.pcolormesh(lon, lat, ssh_true - ssh_2step, cmap = cmo.cm.balance,  vmin = -.02, vmax = .02)\n",
    "plt.colorbar()\n",
    "plt.xlabel('Longitude (\\N{DEGREE SIGN}W)', fontsize = 14)\n",
    "plt.ylabel('Latitude (\\N{DEGREE SIGN}N)', fontsize = 14)\n",
    "plt.title('i) True SSH - SSH estimate, 2-stage ' + str(ssh_diff_2step * 100)[:4]  + '%', fontsize = 14)\n",
    "\n",
    "plt.subplot(4, 3, 11)\n",
    "plt.pcolormesh(lon, lat, err_true1 - err_map1, cmap = cmo.cm.balance, vmin = -.02, vmax = .02)\n",
    "plt.colorbar()\n",
    "plt.xlabel('Longitude (\\N{DEGREE SIGN}W)', fontsize = 14)\n",
    "plt.ylabel('Latitude (\\N{DEGREE SIGN}N)', fontsize = 14)\n",
    "plt.title('j) True Error - Error estimate, 1-stage ' + str(err_diff1 * 100)[:4] + '%' , fontsize = 14)\n",
    "\n",
    "plt.subplot(4,3,12)\n",
    "plt.pcolormesh(lon, lat, err_true - err_map, cmap = cmo.cm.balance,  vmin = -.02, vmax = .02)\n",
    "plt.colorbar()\n",
    "plt.xlabel('Longitude (\\N{DEGREE SIGN}W)', fontsize = 14)\n",
    "plt.ylabel('Latitude (\\N{DEGREE SIGN}N)', fontsize = 14)\n",
    "plt.title('k) True Error - Error estimate, 2-stage ' + str(err_diff_2step * 100)[:4] + '%' , fontsize = 14)\n",
    "\n",
    "plt.tight_layout()\n",
    "plt.savefig('aviso_ssh_estimate_'+ str(date_time[0])[:10] + '_1stage.png', dpi = 300)"
   ]
  },
  {
   "cell_type": "code",
   "execution_count": null,
   "id": "573d5e11-551d-44d8-9ad5-5985c0ce33cb",
   "metadata": {},
   "outputs": [],
   "source": [
    "fig = plt.figure(figsize = (10, 12))\n",
    "\n",
    "\n",
    "plt.subplot(321)\n",
    "plt.pcolormesh(lon, lat, err_true1 + ssh_true1, cmap = cmo.cm.balance, vmin = -.2, vmax = .2)\n",
    "plt.colorbar()\n",
    "plt.xlabel('Longitude (\\N{DEGREE SIGN}W)', fontsize = 14)\n",
    "plt.ylabel('Latitude (\\N{DEGREE SIGN}N)', fontsize = 14)\n",
    "plt.title('a) True error + true SSH', fontsize = 14)\n",
    "\n",
    "\n",
    "plt.subplot(323)\n",
    "plt.pcolormesh(lon, lat, ssh_2step, vmin = -.2, vmax = .2, cmap = cmo.cm.balance)\n",
    "plt.colorbar()\n",
    "plt.xlabel('Longitude (\\N{DEGREE SIGN}W)', fontsize = 14)\n",
    "plt.ylabel('Latitude (\\N{DEGREE SIGN}N)', fontsize = 14)\n",
    "plt.title('c) SSH estimate, 2-stage,  ' + str((1- ssh_diff_2step) * 100)[:5] + '%', fontsize = 14)\n",
    "\n",
    "plt.subplot(325)\n",
    "plt.pcolormesh(lon, lat, ssh_true - ssh_2step, cmap = cmo.cm.balance,  vmin = -.02, vmax = .02)\n",
    "plt.colorbar()\n",
    "plt.xlabel('Longitude (\\N{DEGREE SIGN}W)', fontsize = 14)\n",
    "plt.ylabel('Latitude (\\N{DEGREE SIGN}N)', fontsize = 14)\n",
    "plt.title('e) True SSH - SSH estimate, ' + str(ssh_diff_2step * 100)[:4]  + '%', fontsize = 14)\n",
    "\n",
    "\n",
    "plt.subplot(322)\n",
    "plt.pcolormesh(lon, lat, err_true, cmap = cmo.cm.balance, vmin = -.02, vmax = .02)\n",
    "plt.colorbar()\n",
    "plt.xlabel('Longitude (\\N{DEGREE SIGN}W)', fontsize = 14)\n",
    "plt.ylabel('Latitude (\\N{DEGREE SIGN}N)', fontsize = 14)\n",
    "plt.title('b) True error', fontsize = 14)\n",
    "\n",
    "plt.subplot(324)\n",
    "plt.pcolormesh(lon, lat, err_map, cmap = cmo.cm.balance,  vmin = -.02, vmax = .02)\n",
    "plt.colorbar()\n",
    "plt.xlabel('Longitude (\\N{DEGREE SIGN}W)', fontsize = 14)\n",
    "plt.ylabel('Latitude (\\N{DEGREE SIGN}N)', fontsize = 14)\n",
    "plt.title('d) Error estimate, '+ str((1- err_diff_2step) * 100)[:5] + '%', fontsize = 14)\n",
    "\n",
    "plt.subplot(326)\n",
    "plt.pcolormesh(lon, lat, err_true - err_map, cmap = cmo.cm.balance,  vmin = -.02, vmax = .02)\n",
    "plt.colorbar()\n",
    "plt.xlabel('Longitude (\\N{DEGREE SIGN}W)', fontsize = 14)\n",
    "plt.ylabel('Latitude (\\N{DEGREE SIGN}N)', fontsize = 14)\n",
    "plt.title('f) True Error - Error estimate, ' + str(err_diff_2step * 100)[:4] + '%' , fontsize = 14)\n",
    "\n",
    "plt.tight_layout()\n",
    "plt.savefig('aviso_ssh_estimate_'+ str(date_time[0])[:10] + '_2stage.png', dpi = 300)"
   ]
  },
  {
   "cell_type": "code",
   "execution_count": null,
   "id": "26afd11a-3e61-4883-b129-1d2bcd2dadc5",
   "metadata": {
    "tags": []
   },
   "outputs": [],
   "source": [
    "time_range = 20 ## 8 * 5 = 40 days\n",
    "SSHA_predicted = np.zeros([time_range, MSLA.size])\n",
    "SSHA_true = np.zeros([time_range, MSLA.size])\n",
    "residual_iter = np.zeros(time_range)\n",
    "MSLA_inverse = np.zeros([MSLA.shape[0], MSLA.shape[1], time_range])\n",
    "for day in range(time_range):\n",
    "    MSLA = MSLA_fwd[:, :, day:day+1]\n",
    "    SSHA_predicted[day], SSHA_true[day], residual_iter[day] = forecast_ssh(MSLA, amp_swath_2step, H_all)\n",
    "    MSLA_inverse[:, :, day:day+1] = reverse_vector(MSLA, SSHA_predicted[day])\n",
    "    \n",
    "#     plt.figure(figsize = (15, 5))\n",
    "\n",
    "#     plt.subplot(131)\n",
    "#     plt.pcolormesh(lon, lat, MSLA_fwd[:, :, day], cmap = cmo.cm.balance, vmin = -.15, vmax = .15)\n",
    "#     plt.colorbar()\n",
    "#     plt.xlabel('Longitude (\\N{DEGREE SIGN}W)', fontsize = 14)\n",
    "#     plt.ylabel('Latitude (\\N{DEGREE SIGN}N)', fontsize = 14)\n",
    "#     plt.title('a) AVISO forward model ' + str(date_time[day])[:10], fontsize = 14)\n",
    "\n",
    "#     plt.subplot(132)\n",
    "#     plt.pcolormesh(lon, lat, MSLA_inverse[:, :, day], vmin = -.15, vmax = .15, cmap = cmo.cm.balance)\n",
    "#     plt.colorbar()\n",
    "#     plt.xlabel('Longitude (\\N{DEGREE SIGN}W)', fontsize = 14)\n",
    "#     plt.ylabel('Latitude (\\N{DEGREE SIGN}N)', fontsize = 14)\n",
    "#     plt.title('b) 2-step inversion, swath data', fontsize = 14)\n",
    "\n",
    "#     residual =   MSLA_fwd[:, :, day] - MSLA_inverse[:, :, day]\n",
    "#     plt.subplot(133)\n",
    "#     plt.pcolormesh(lon, lat, residual, cmap = cmo.cm.balance, vmin = -.15, vmax = .15)\n",
    "#     plt.colorbar()\n",
    "#     plt.xlabel('Longitude (\\N{DEGREE SIGN}W)', fontsize = 14)\n",
    "#     plt.ylabel('Latitude (\\N{DEGREE SIGN}N)', fontsize = 14)\n",
    "#     #plt.plot(lon[xvalid_index], lat[yvalid_index], 'x', color = 'gray')\n",
    "#     plt.plot(lon_valid, lat_valid , 'x', color = 'gray')\n",
    "#     plt.title('c) Residual variance ' + str(residual_iter[day] * 100)[:4] + '%', fontsize = 14)\n",
    "\n",
    "#     plt.tight_layout()\n",
    "#     plt.savefig('inversion/inversion_2step_' + str(date_time[day])[:10] +'_with_corr_err_' + str(skill.size) + 'waves_2step.png', dpi = 100)"
   ]
  },
  {
   "cell_type": "code",
   "execution_count": null,
   "id": "e6739482-9625-4535-9d94-34a2e4d4ebd8",
   "metadata": {},
   "outputs": [],
   "source": [
    "# plt.figure(figsize = (8, 8))\n",
    "# plt.subplot(211)\n",
    "# plt.plot(kl_plot, np.sqrt(R / P_matrix.diagonal()[:])[:2*M], label = 'prior')\n",
    "# plt.plot(kl_plot, np.append(amp, alpha)[:2*M], '.', label = 'true amp')\n",
    "# plt.plot(kl_plot, amp_swath_2step, '*', color = 'blue', label = 'amp estimate, 2-stage')\n",
    "# plt.plot(kl_plot, amp_swath[:2*M], 'x', color = 'red', label = 'amp estimate, 1-stage')\n",
    "# plt.xlabel('wavenumber ($degree^{-1}$)', fontsize = 12)\n",
    "# plt.ylabel('meters', fontsize = 12)\n",
    "# plt.title('true and estimated amplitudes, prior distribution, rms_err/rms_ssh = ' + str(rms_err/ rms_ssh)[:4])\n",
    "# plt.legend()\n",
    "\n",
    "# plt.subplot(212)\n",
    "# plt.title('error parameter', fontsize=16)\n",
    "# plt.plot(amp_swath[-7 * (day1 - day0):], '-o', label = 'estimated error parameter, 1-stage')\n",
    "# plt.plot(amp_err, 'x', label = 'estimated error parameter, 2-stage')\n",
    "# plt.plot(alpha.T, '*', label = 'true error amplitude')\n",
    "# plt.xlabel('Error parameter', fontsize=14)\n",
    "# plt.ylabel('meters', fontsize = 12)\n",
    "# #plt.xticks(range(7), \n",
    "# #           [r'TIMING ($\\alpha_0$)', r'ROLL ($\\alpha_1$)', r'BASE ($\\alpha_2$)', r'PHASE3 ($\\alpha_3$)', \n",
    "# #            r'PHASE4 ($\\alpha_4$)', r'PHASE5 ($\\alpha_5$)', r'PHASE6 ($\\alpha_6$)'], fontsize = 12)\n",
    "\n",
    "# plt.xticks(range(7), \n",
    "#            [r'timing($\\alpha_0$)', r'roll($\\alpha_1$)', r'baseline($\\alpha_2$)', r'phase3($\\alpha_3$)', \n",
    "#             r'phase4($\\alpha_4$)', r'phase5($\\alpha_5$)', r'phase6($\\alpha_6$)'], fontsize = 12)\n",
    "\n",
    "# plt.legend()\n",
    "# plt.tight_layout()\n",
    "    \n",
    "# plt.savefig('amp_prior.png')"
   ]
  },
  {
   "cell_type": "code",
   "execution_count": null,
   "id": "c0605a66-b16b-4315-aeee-66314671865b",
   "metadata": {},
   "outputs": [],
   "source": []
  },
  {
   "cell_type": "code",
   "execution_count": null,
   "id": "1f934803-b347-48a1-97d4-26df47ba032c",
   "metadata": {},
   "outputs": [],
   "source": [
    "SSHA_predicted = np.zeros([time_range, MSLA0[:, :, 0:1].size])\n",
    "SSHA_true = np.zeros([time_range, MSLA0[:, :, 0:1].size])\n",
    "variance_explained_inverse  = np.zeros(time_range)\n",
    "MSLA_fwrd = np.zeros([MSLA0.shape[0], MSLA0.shape[1], time_range])\n",
    "\n",
    "ind_list = list('abcdefghijklm')\n",
    "count = 0\n",
    "plt.figure(figsize = (15, 12))\n",
    "for day in range(0, 12, 4):\n",
    "    print(count)\n",
    "    # SSH data\n",
    "    #MSLA = SSHA_masked[:, :, day0+day: day0+day+1]\n",
    "    MSLA = MSLA_fwd[:, :, day0+day: day0+day+1]\n",
    "    # Build basis function H matrix\n",
    "    H_all = build_h_matrix(MSLA, MModes, l_n, k_n, lon, lat, T_time[day0:], Psi, Rm, day0 + day)\n",
    "    \n",
    "    # forecast SSH\n",
    "    SSHA_predicted[day], SSHA_true[day], variance_explained_inverse[day] = forecast_ssh(MSLA, amp_swath_2step,  H_all)\n",
    "    # reverse vector\n",
    "    MSLA_fwrd[:, :, day:day+1] = reverse_vector(MSLA, SSHA_predicted[day])\n",
    "    \n",
    "    SSHA_predicted[day], SSHA_true[day], residual_iter[day] = forecast_ssh(MSLA, amp_swath_2step, H_all)\n",
    "    MSLA_inverse[:, :, day:day+1] = reverse_vector(MSLA, SSHA_predicted[day])\n",
    "\n",
    "\n",
    "    plt.subplot(3, 3, count + 1)\n",
    "    plt.pcolormesh(lon, lat, MSLA[:, :, 0], cmap = cmo.cm.balance, vmin = -.15, vmax = .15) \n",
    "    plt.colorbar()\n",
    "    plt.xlabel('Longitude (\\N{DEGREE SIGN}W)', fontsize = 14)\n",
    "    plt.ylabel('Latitude (\\N{DEGREE SIGN}N)', fontsize = 14)\n",
    "    plt.title(ind_list[count] + ') AVISO forward model ' + str(date_time[day])[:10], fontsize = 14)\n",
    "\n",
    "    plt.subplot(3, 3, count + 2)\n",
    "    plt.pcolormesh(lon, lat, MSLA_fwrd[:, :, day], vmin = -.15, vmax = .15, cmap = cmo.cm.balance)\n",
    "    plt.colorbar()\n",
    "    plt.xlabel('Longitude (\\N{DEGREE SIGN}W)', fontsize = 14)\n",
    "    plt.ylabel('Latitude (\\N{DEGREE SIGN}N)', fontsize = 14)\n",
    "    plt.title(ind_list[count+1] + ') 2-stage inversion with swath data', fontsize = 14)\n",
    "\n",
    "    residual = MSLA[:, :, 0] - MSLA_fwrd[:, :, day] \n",
    "    plt.subplot(3, 3, count + 3)\n",
    "    plt.pcolormesh(lon, lat, residual, cmap = cmo.cm.balance, vmin = -.15, vmax = .15)\n",
    "    plt.colorbar()\n",
    "    plt.xlabel('Longitude (\\N{DEGREE SIGN}W)', fontsize = 14)\n",
    "    plt.ylabel('Latitude (\\N{DEGREE SIGN}N)', fontsize = 14)\n",
    "    plt.title(ind_list[count+2] +') Residual variance ' \n",
    "              + str((variance_explained_inverse[day]) * 100)[:4] + '%', fontsize = 14)\n",
    "    count = count + 3\n",
    "    plt.tight_layout()\n",
    "\n",
    "plt.savefig('./ssh_swath' + str(date_time[day0 + day])[:10] +'_2stage.png', dpi = 300)"
   ]
  },
  {
   "cell_type": "markdown",
   "id": "5d29ae50-4f77-4c43-9325-5cbd76dbaf65",
   "metadata": {},
   "source": [
    "# Important parameter: Root mean squared correlated error and ssh"
   ]
  },
  {
   "cell_type": "code",
   "execution_count": null,
   "id": "486b51de-98e6-41f0-a0c4-4d76823f83f5",
   "metadata": {},
   "outputs": [],
   "source": [
    "rms_err = np.sqrt(np.mean(cor_err**2))\n",
    "rms_ssh = np.sqrt(np.mean(ssh**2))\n",
    "sigma, rms_err, rms_err/ rms_ssh "
   ]
  },
  {
   "cell_type": "markdown",
   "id": "0a3354af-3a81-4caa-b79b-c8dcf90e5b6d",
   "metadata": {
    "tags": []
   },
   "source": [
    "# Important result: 2-stage error estimate skill and ssh estimate skill"
   ]
  },
  {
   "cell_type": "code",
   "execution_count": null,
   "id": "6993564e-dd1d-4748-bd78-bd7074e2a221",
   "metadata": {},
   "outputs": [],
   "source": [
    "(1-ssh_diff_2stage.mean()) * 100, (1 - err_diff_2stage.mean()) * 100"
   ]
  },
  {
   "cell_type": "markdown",
   "id": "558e0b5c-83bb-46c0-ad5f-5ac579ba2600",
   "metadata": {
    "tags": []
   },
   "source": [
    "# Important result: 1-stage error estimate skill and ssh estimate skill"
   ]
  },
  {
   "cell_type": "code",
   "execution_count": null,
   "id": "53edb1fb-9eca-41c9-9376-d6528f626efc",
   "metadata": {},
   "outputs": [],
   "source": [
    "(1 - ssh_diff1.mean()) * 100, (1 - err_diff1.mean()) * 100 #, (1 - ssh_diff_percent.mean()) * 100"
   ]
  },
  {
   "cell_type": "code",
   "execution_count": null,
   "id": "9b93673f-4ca4-4bf0-8aba-ca750f7267ff",
   "metadata": {},
   "outputs": [],
   "source": []
  },
  {
   "cell_type": "code",
   "execution_count": null,
   "id": "84fabe44-13fc-4d95-99fc-fae4924cc132",
   "metadata": {},
   "outputs": [],
   "source": []
  },
  {
   "cell_type": "code",
   "execution_count": null,
   "id": "a0d0468d-c4bb-498b-83a8-5810ad6a94c8",
   "metadata": {},
   "outputs": [],
   "source": []
  },
  {
   "cell_type": "code",
   "execution_count": null,
   "id": "cc512020-ab20-4620-ba1f-f55b4d5be77e",
   "metadata": {},
   "outputs": [],
   "source": []
  },
  {
   "cell_type": "code",
   "execution_count": null,
   "id": "9376d6ee-503a-4b4e-aba5-85c38c7e7b21",
   "metadata": {},
   "outputs": [],
   "source": []
  },
  {
   "cell_type": "code",
   "execution_count": null,
   "id": "445456aa-6928-4d69-bcc1-58692e65225e",
   "metadata": {},
   "outputs": [],
   "source": []
  },
  {
   "cell_type": "code",
   "execution_count": null,
   "id": "88f1d168-cc3f-4fa4-8d01-0a588dd81e73",
   "metadata": {},
   "outputs": [],
   "source": []
  },
  {
   "cell_type": "code",
   "execution_count": null,
   "id": "0eea1274-e691-4067-9997-d7c817442aa7",
   "metadata": {},
   "outputs": [],
   "source": []
  },
  {
   "cell_type": "code",
   "execution_count": null,
   "id": "9342ab2a-c68f-4938-b3b4-50f315d58144",
   "metadata": {},
   "outputs": [],
   "source": []
  },
  {
   "cell_type": "code",
   "execution_count": null,
   "id": "55e86241-e59d-4c36-ac6a-f46aacdb00f3",
   "metadata": {},
   "outputs": [],
   "source": []
  },
  {
   "cell_type": "code",
   "execution_count": null,
   "id": "e1a1bd73-cf17-4d01-8a5b-094ae1ce3c42",
   "metadata": {},
   "outputs": [],
   "source": []
  },
  {
   "cell_type": "code",
   "execution_count": null,
   "id": "7c66f05c-b1d7-41af-abfb-eb6605bfc219",
   "metadata": {},
   "outputs": [],
   "source": []
  },
  {
   "cell_type": "code",
   "execution_count": null,
   "id": "026c0257-4821-41b7-a494-2adfc265f2b5",
   "metadata": {},
   "outputs": [],
   "source": []
  },
  {
   "cell_type": "code",
   "execution_count": null,
   "id": "49fb0058-a62e-420d-85d3-7aadc8b781fc",
   "metadata": {},
   "outputs": [],
   "source": []
  },
  {
   "cell_type": "code",
   "execution_count": null,
   "id": "752d0e6b-6d66-49fb-9a12-74354c5aa722",
   "metadata": {},
   "outputs": [],
   "source": []
  },
  {
   "cell_type": "code",
   "execution_count": null,
   "id": "70ea432f-6277-4844-becc-98bc6ffd4414",
   "metadata": {},
   "outputs": [],
   "source": []
  },
  {
   "cell_type": "code",
   "execution_count": null,
   "id": "bd47dd85-031c-44bc-b19a-d2f69b122145",
   "metadata": {},
   "outputs": [],
   "source": []
  },
  {
   "cell_type": "code",
   "execution_count": null,
   "id": "5bf7219c-649f-43fe-8b0d-c57a5a4bc89a",
   "metadata": {},
   "outputs": [],
   "source": []
  },
  {
   "cell_type": "code",
   "execution_count": null,
   "id": "57bdbb8b-925f-4e21-862c-7d1cb2e0c8f8",
   "metadata": {},
   "outputs": [],
   "source": []
  },
  {
   "cell_type": "code",
   "execution_count": null,
   "id": "c354588b-dc99-438f-a61a-bb166795219d",
   "metadata": {},
   "outputs": [],
   "source": []
  },
  {
   "cell_type": "code",
   "execution_count": null,
   "id": "34029497-6985-4811-9d88-6d8212053174",
   "metadata": {},
   "outputs": [],
   "source": []
  },
  {
   "cell_type": "code",
   "execution_count": null,
   "id": "eb53f07c-e89b-4d96-a908-8678ea2f82d5",
   "metadata": {},
   "outputs": [],
   "source": []
  },
  {
   "cell_type": "code",
   "execution_count": null,
   "id": "f5ba8cc5-5163-47b2-a4f2-4bfc14e82262",
   "metadata": {},
   "outputs": [],
   "source": []
  },
  {
   "cell_type": "code",
   "execution_count": null,
   "id": "bd4545e1-8c31-4dad-927f-819272f7e479",
   "metadata": {},
   "outputs": [],
   "source": []
  },
  {
   "cell_type": "code",
   "execution_count": null,
   "id": "693f9ed6-adf1-44b4-b299-21da9d8fb7e4",
   "metadata": {},
   "outputs": [],
   "source": []
  },
  {
   "cell_type": "code",
   "execution_count": null,
   "id": "269de21f-8c95-4b1d-84e1-0c743eddf872",
   "metadata": {},
   "outputs": [],
   "source": []
  },
  {
   "cell_type": "code",
   "execution_count": null,
   "id": "20135328-ed64-4317-be4b-174f48cb6f3b",
   "metadata": {},
   "outputs": [],
   "source": []
  },
  {
   "cell_type": "code",
   "execution_count": null,
   "id": "8ce1a9a1-d615-4600-80f4-4f9262349a56",
   "metadata": {},
   "outputs": [],
   "source": []
  },
  {
   "cell_type": "code",
   "execution_count": null,
   "id": "56188b16-e3a9-47d7-bd97-a4dd33d5be6c",
   "metadata": {},
   "outputs": [],
   "source": []
  },
  {
   "cell_type": "code",
   "execution_count": null,
   "id": "c88c660e-4047-4522-8986-db42b93aff8f",
   "metadata": {},
   "outputs": [],
   "source": []
  },
  {
   "cell_type": "code",
   "execution_count": null,
   "id": "ddf20086-852f-492f-852f-3f33274063ce",
   "metadata": {},
   "outputs": [],
   "source": []
  },
  {
   "cell_type": "code",
   "execution_count": null,
   "id": "45bbfb40-73d4-46f0-8390-c86e15e378f0",
   "metadata": {},
   "outputs": [],
   "source": []
  },
  {
   "cell_type": "code",
   "execution_count": null,
   "id": "4117d443-775b-4dd6-8b40-0034ab28a5a5",
   "metadata": {},
   "outputs": [],
   "source": []
  },
  {
   "cell_type": "code",
   "execution_count": null,
   "id": "77dd191f-0421-47db-a548-d20b7e638f88",
   "metadata": {},
   "outputs": [],
   "source": []
  },
  {
   "cell_type": "code",
   "execution_count": null,
   "id": "aa42cec9-198c-4a21-b8ea-10b6b65bc54e",
   "metadata": {},
   "outputs": [],
   "source": []
  },
  {
   "cell_type": "code",
   "execution_count": null,
   "id": "47d05d72-8e1d-4d0e-a04e-6beb623799f2",
   "metadata": {},
   "outputs": [],
   "source": []
  },
  {
   "cell_type": "code",
   "execution_count": null,
   "id": "3c1e9cb1-9175-4f4f-9376-45cac89db208",
   "metadata": {},
   "outputs": [],
   "source": []
  },
  {
   "cell_type": "code",
   "execution_count": null,
   "id": "92924624-a71f-4c9f-99a2-b25814198ac5",
   "metadata": {},
   "outputs": [],
   "source": []
  },
  {
   "cell_type": "code",
   "execution_count": null,
   "id": "eeaadb69-b187-47eb-808c-c4b45e652c14",
   "metadata": {},
   "outputs": [],
   "source": []
  },
  {
   "cell_type": "code",
   "execution_count": null,
   "id": "b5b6b5e8-eec9-4c12-bc58-62105d225cc7",
   "metadata": {},
   "outputs": [],
   "source": []
  },
  {
   "cell_type": "code",
   "execution_count": null,
   "id": "36f2ce5a-fc34-4ba3-bfb8-cb88cb2639cd",
   "metadata": {},
   "outputs": [],
   "source": []
  },
  {
   "cell_type": "code",
   "execution_count": null,
   "id": "0e6a7a20-40b2-47d2-9bb5-15ef513c93f1",
   "metadata": {},
   "outputs": [],
   "source": []
  },
  {
   "cell_type": "code",
   "execution_count": null,
   "id": "ae7d908c-83df-493b-918b-fffcea3454fc",
   "metadata": {},
   "outputs": [],
   "source": []
  },
  {
   "cell_type": "code",
   "execution_count": null,
   "id": "35a2b654-80e5-4afc-bf69-9bc7f84724f5",
   "metadata": {},
   "outputs": [],
   "source": []
  },
  {
   "cell_type": "code",
   "execution_count": null,
   "id": "3e0f9e59-624d-438b-8b4d-08e3e83e3ccc",
   "metadata": {},
   "outputs": [],
   "source": []
  },
  {
   "cell_type": "code",
   "execution_count": null,
   "id": "eddd1cfe-f4eb-4b9f-b7a3-3a25c5ea69e8",
   "metadata": {},
   "outputs": [],
   "source": []
  },
  {
   "cell_type": "code",
   "execution_count": null,
   "id": "7de7b3a7-5645-419f-843e-ed2d8babf622",
   "metadata": {},
   "outputs": [],
   "source": []
  },
  {
   "cell_type": "code",
   "execution_count": null,
   "id": "e90acc42-0f76-4652-a1d2-c35565ee5dc4",
   "metadata": {},
   "outputs": [],
   "source": []
  },
  {
   "cell_type": "code",
   "execution_count": null,
   "id": "d01b0bf6-cf1e-45cf-a023-b4289992643b",
   "metadata": {},
   "outputs": [],
   "source": []
  },
  {
   "cell_type": "code",
   "execution_count": null,
   "id": "47b8cccb-638b-459f-83dc-dfe1a2b1960e",
   "metadata": {},
   "outputs": [],
   "source": []
  },
  {
   "cell_type": "code",
   "execution_count": null,
   "id": "8e5f8d4c-aef0-407a-a374-2412d9682087",
   "metadata": {},
   "outputs": [],
   "source": []
  },
  {
   "cell_type": "code",
   "execution_count": null,
   "id": "da427095-174a-4c95-bfb7-d9ffdd925731",
   "metadata": {},
   "outputs": [],
   "source": []
  },
  {
   "cell_type": "code",
   "execution_count": null,
   "id": "49d06c65-50a1-40f2-ac57-fd67705e3e6f",
   "metadata": {},
   "outputs": [],
   "source": []
  },
  {
   "cell_type": "code",
   "execution_count": null,
   "id": "9cd36adc-0eb5-43eb-accf-42ff3fd145e8",
   "metadata": {},
   "outputs": [],
   "source": []
  },
  {
   "cell_type": "code",
   "execution_count": null,
   "id": "90c483be-c88b-48d9-8a6f-dbe8d83b9e86",
   "metadata": {},
   "outputs": [],
   "source": []
  },
  {
   "cell_type": "code",
   "execution_count": null,
   "id": "cebc43a1-1595-4c00-b840-4f9a5e68ec42",
   "metadata": {},
   "outputs": [],
   "source": []
  },
  {
   "cell_type": "code",
   "execution_count": null,
   "id": "c2eaef85-a7fe-4c26-b8bd-d430e82981d9",
   "metadata": {},
   "outputs": [],
   "source": []
  },
  {
   "cell_type": "code",
   "execution_count": null,
   "id": "d60d7b16-2ab7-40b7-82cf-fd580fdb2bdd",
   "metadata": {},
   "outputs": [],
   "source": []
  },
  {
   "cell_type": "code",
   "execution_count": null,
   "id": "40cac798-03dd-445e-891c-6fde7f51a45e",
   "metadata": {},
   "outputs": [],
   "source": []
  },
  {
   "cell_type": "code",
   "execution_count": null,
   "id": "2e28bf51-a1f1-4278-bc93-7892ebbf24f6",
   "metadata": {},
   "outputs": [],
   "source": []
  },
  {
   "cell_type": "code",
   "execution_count": null,
   "id": "06791686-317f-4722-9c39-85b0879353ad",
   "metadata": {},
   "outputs": [],
   "source": []
  },
  {
   "cell_type": "code",
   "execution_count": null,
   "id": "8f87cfaa-f756-429b-8cac-823905981cab",
   "metadata": {},
   "outputs": [],
   "source": []
  },
  {
   "cell_type": "code",
   "execution_count": null,
   "id": "137aa0f6-1725-449a-a170-4813c5f70fd4",
   "metadata": {},
   "outputs": [],
   "source": []
  },
  {
   "cell_type": "code",
   "execution_count": null,
   "id": "871369fe-5138-41c3-8e4c-380349d31162",
   "metadata": {},
   "outputs": [],
   "source": []
  },
  {
   "cell_type": "code",
   "execution_count": null,
   "id": "1538343b-f42d-4d0d-9566-ddc8395d745e",
   "metadata": {},
   "outputs": [],
   "source": []
  },
  {
   "cell_type": "code",
   "execution_count": null,
   "id": "8f6183d4-2b71-42e3-b7d4-33c411f34d99",
   "metadata": {},
   "outputs": [],
   "source": []
  },
  {
   "cell_type": "code",
   "execution_count": null,
   "id": "1859697e-8181-4611-9d08-48162ea04f59",
   "metadata": {},
   "outputs": [],
   "source": []
  },
  {
   "cell_type": "code",
   "execution_count": null,
   "id": "3d4aac5e-8300-4615-b48d-f33fb297525c",
   "metadata": {},
   "outputs": [],
   "source": []
  },
  {
   "cell_type": "code",
   "execution_count": null,
   "id": "36533b01-5d01-44f7-9428-18bb614924a1",
   "metadata": {},
   "outputs": [],
   "source": []
  },
  {
   "cell_type": "code",
   "execution_count": null,
   "id": "1ab6d2f6-3613-44bb-9767-d10044a4888d",
   "metadata": {},
   "outputs": [],
   "source": []
  },
  {
   "cell_type": "code",
   "execution_count": null,
   "id": "89411dd1-f94b-4221-b21c-4cdaf7f7b612",
   "metadata": {},
   "outputs": [],
   "source": []
  },
  {
   "cell_type": "code",
   "execution_count": null,
   "id": "8f5023ea-c505-4e89-a23b-501b7c4ad128",
   "metadata": {},
   "outputs": [],
   "source": []
  }
 ],
 "metadata": {
  "kernelspec": {
   "display_name": "Python 3 (ipykernel)",
   "language": "python",
   "name": "python3"
  },
  "language_info": {
   "codemirror_mode": {
    "name": "ipython",
    "version": 3
   },
   "file_extension": ".py",
   "mimetype": "text/x-python",
   "name": "python",
   "nbconvert_exporter": "python",
   "pygments_lexer": "ipython3",
   "version": "3.10.5"
  }
 },
 "nbformat": 4,
 "nbformat_minor": 5
}
