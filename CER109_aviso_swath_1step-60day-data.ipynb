{
 "cells": [
  {
   "cell_type": "markdown",
   "id": "c6b479bc-dd59-4690-9f80-bc9e8b6d0be9",
   "metadata": {
    "tags": []
   },
   "source": [
    "# AVISO data assimilation with correlated error reduction with 1-step approach"
   ]
  },
  {
   "cell_type": "code",
   "execution_count": 1,
   "id": "69694b22-1973-4c65-9c44-870f99df3cc2",
   "metadata": {
    "tags": []
   },
   "outputs": [],
   "source": [
    "import numpy as np\n",
    "import scipy\n",
    "import gsw\n",
    "import xarray as xr\n",
    "import cmocean as cmo\n",
    "from numpy import linalg as LA\n",
    "from scipy import linalg\n",
    "import matplotlib.pyplot as plt\n",
    "import cartopy.crs as ccrs\n",
    "from tqdm import tqdm\n",
    "from aviso_rossby_wave import build_h_matrix, skill_matrix, inversion\n",
    "from aviso_rossby_wave import build_swath, make_error_over_time\n",
    "from aviso_rossby_wave import reverse_vector, forecast_ssh"
   ]
  },
  {
   "cell_type": "markdown",
   "id": "33cf13f4-01b1-4a04-afc8-6c9a03e77544",
   "metadata": {},
   "source": [
    "## Starting Date"
   ]
  },
  {
   "cell_type": "code",
   "execution_count": 2,
   "id": "f0d485e9-52aa-4079-93ed-765f6e6397e1",
   "metadata": {},
   "outputs": [],
   "source": [
    "day0, day1 = 0, 2 # April 1st, 2017 # day0, day1 =  1856, 1857 July 1st, 2017\n",
    "time_range = (day1 - day0) * 8\n",
    "start_date = '2016-06-01' ## starting date\n",
    "n_waves = '450' #number of waves"
   ]
  },
  {
   "cell_type": "markdown",
   "id": "51d1ff49-49cb-4a2a-a18d-274708bc6bed",
   "metadata": {},
   "source": [
    "## Subset 10 degree by 10 degree of ocean"
   ]
  },
  {
   "cell_type": "code",
   "execution_count": 3,
   "id": "caf43109-f9b7-45c7-a589-46396b460c23",
   "metadata": {},
   "outputs": [],
   "source": [
    "lonidx_west, lonidx_east  =  60, 100\n",
    "latidx_south, latidx_north = 34, 74"
   ]
  },
  {
   "cell_type": "code",
   "execution_count": 4,
   "id": "bbb4bc36-7cf7-436b-8972-6813471eedf8",
   "metadata": {
    "tags": []
   },
   "outputs": [],
   "source": [
    "avisso_ds = xr.open_dataset('./aviso_msla_ccs_5d.nc')\n",
    "SSHA = avisso_ds.msla[latidx_south:latidx_north,lonidx_west:lonidx_east,  :]"
   ]
  },
  {
   "cell_type": "code",
   "execution_count": 5,
   "id": "01b3b6d0-8165-4b52-b86d-4d8c282d1807",
   "metadata": {},
   "outputs": [
    {
     "data": {
      "text/plain": [
       "(numpy.datetime64('2016-06-01T00:00:00.000000000'),\n",
       " (104, 184, 150),\n",
       " (40, 40, 150))"
      ]
     },
     "execution_count": 5,
     "metadata": {},
     "output_type": "execute_result"
    }
   ],
   "source": [
    "T_time = avisso_ds.time.data[day0:] * 86400 # time in seconds\n",
    "date_time = avisso_ds.date_time.data[day0:]\n",
    "date_time[0], avisso_ds.msla.shape, SSHA.shape # longtitude, latitude, time"
   ]
  },
  {
   "cell_type": "code",
   "execution_count": 6,
   "id": "413f498b-65c2-41ca-9eda-56c3362f6744",
   "metadata": {},
   "outputs": [],
   "source": [
    "ssha_time_mean = SSHA.mean(axis = -1)"
   ]
  },
  {
   "cell_type": "code",
   "execution_count": 7,
   "id": "d43ed46c-0678-4205-afcc-eec151387e2c",
   "metadata": {},
   "outputs": [],
   "source": [
    "SSHA = SSHA - SSHA.mean(axis = -1) - SSHA.mean(axis = 0)"
   ]
  },
  {
   "cell_type": "code",
   "execution_count": 8,
   "id": "74816d0f-fc5a-4051-b127-490e37a0e253",
   "metadata": {},
   "outputs": [],
   "source": [
    "SSHA_masked = np.ma.masked_invalid(SSHA)"
   ]
  },
  {
   "cell_type": "code",
   "execution_count": 9,
   "id": "451e195f-8e4c-4ba8-a9c5-0956acc398c4",
   "metadata": {},
   "outputs": [],
   "source": [
    "ssha_mask = np.ma.getmask(SSHA_masked)"
   ]
  },
  {
   "cell_type": "code",
   "execution_count": 10,
   "id": "1229be99-1fa1-4767-86ca-b327350f1307",
   "metadata": {},
   "outputs": [],
   "source": [
    "lon, lat = (360 - avisso_ds.lon[lonidx_west:lonidx_east].data) * -1, avisso_ds.lat[latidx_south:latidx_north].data"
   ]
  },
  {
   "cell_type": "markdown",
   "id": "2789b119-1f15-474a-84cd-b0f75aae98de",
   "metadata": {
    "tags": []
   },
   "source": [
    "### Stratification paramters"
   ]
  },
  {
   "cell_type": "code",
   "execution_count": 11,
   "id": "b9efe763-7457-4bcf-b5a1-f682e8c9e66d",
   "metadata": {},
   "outputs": [],
   "source": [
    "Phi0 = lat.mean() # central latitude (φ0)\n",
    "Omega = 7.27e-5 # Ω is the angular speed of the earth\n",
    "Earth_radius = 6.371e6 / 1e5 # meters to degrees\n",
    "Beta = 2 * Omega * np.cos(Phi0) / Earth_radius\n",
    "f0 = 2 * Omega * np.sin(Phi0) #1.0313e-4 # 45 N\n",
    "g = 9.81 # gravity "
   ]
  },
  {
   "cell_type": "markdown",
   "id": "1635cbe4-aa7e-47de-a7bb-55a9a9936b10",
   "metadata": {},
   "source": [
    "### Inversion with selecetd swath data points"
   ]
  },
  {
   "cell_type": "code",
   "execution_count": 12,
   "id": "98c97cec-d7e1-44e3-9df4-cead42ed54c2",
   "metadata": {},
   "outputs": [],
   "source": [
    "strat_ds = xr.open_dataset('./stratification_sample_ccs.nc')"
   ]
  },
  {
   "cell_type": "code",
   "execution_count": 13,
   "id": "8e906770-0bb9-44e5-ba7e-f5acb926abf9",
   "metadata": {},
   "outputs": [],
   "source": [
    "Psi = strat_ds.Psi.data\n",
    "MModes = 1\n",
    "wavespeed = strat_ds.C2[:MModes].data  #np.array([Rm * f0])"
   ]
  },
  {
   "cell_type": "markdown",
   "id": "61601723-da87-475f-8a6c-84146c7ceac8",
   "metadata": {},
   "source": [
    "\n",
    "### the aviso data is sampled at 5-day intervals"
   ]
  },
  {
   "cell_type": "markdown",
   "id": "39c8b26a-ebe2-4f3f-ae17-e2cf927b9aab",
   "metadata": {
    "tags": []
   },
   "source": [
    "#### Rossby wave estimate"
   ]
  },
  {
   "cell_type": "code",
   "execution_count": 14,
   "id": "34a1d2d0-9a23-44ee-9c04-14769126a49b",
   "metadata": {},
   "outputs": [],
   "source": [
    "wave_ds = xr.open_dataset('./rossby_wave_estimate_' + start_date +'_' + n_waves + 'waves.nc')"
   ]
  },
  {
   "cell_type": "markdown",
   "id": "e61d7096-b62e-4f76-beb0-add77bcda709",
   "metadata": {},
   "source": [
    "#### Rossby deformation radius"
   ]
  },
  {
   "cell_type": "code",
   "execution_count": 15,
   "id": "54c8239c-42ca-4cc1-847e-672ea9d4d6c1",
   "metadata": {},
   "outputs": [],
   "source": [
    "k_n_orig, l_n_orig = wave_ds.k_n.data, wave_ds.l_n.data\n",
    "amp = wave_ds.Amplitudes.data\n",
    "time= wave_ds.time.data\n",
    "MSLA_fwd = wave_ds.MSLA_forward.data\n",
    "Rm = wave_ds.Rm.data"
   ]
  },
  {
   "cell_type": "code",
   "execution_count": 16,
   "id": "90556392-a5e1-421f-b994-5f3962c6d8eb",
   "metadata": {},
   "outputs": [],
   "source": [
    "k_n = k_n_orig.reshape(len(k_n_orig), MModes)\n",
    "l_n = l_n_orig.reshape(len(l_n_orig), MModes)"
   ]
  },
  {
   "cell_type": "code",
   "execution_count": 17,
   "id": "705e3683-cf23-4c26-a736-fa666f22420b",
   "metadata": {},
   "outputs": [],
   "source": [
    "MSLA0 = MSLA_fwd[:, :, day0:day1]"
   ]
  },
  {
   "cell_type": "code",
   "execution_count": 18,
   "id": "c52d0b02-5f24-4b04-8049-d1729624ce42",
   "metadata": {},
   "outputs": [
    {
     "name": "stderr",
     "output_type": "stream",
     "text": [
      "100%|████████████████████████████████████████| 450/450 [00:03<00:00, 122.03it/s]\n"
     ]
    }
   ],
   "source": [
    "skill, SSHA_vector, Iindex, Jindex, Tindex = skill_matrix(MSLA0, Psi, k_n, l_n, MModes, Rm, lon, lat, T_time)\n",
    "M = skill.size # number of models/waves"
   ]
  },
  {
   "cell_type": "markdown",
   "id": "8ff07537-fe71-46e2-9b88-51e0064e6549",
   "metadata": {
    "tags": []
   },
   "source": [
    "#### Build basis function H matrix"
   ]
  },
  {
   "cell_type": "code",
   "execution_count": 19,
   "id": "b086b9c9-5af6-4cb8-9da6-af4c28714a0f",
   "metadata": {
    "tags": []
   },
   "outputs": [],
   "source": [
    "MModes = 1\n",
    "H_cos, H_sin = np.zeros([len(SSHA_vector), M]), np.zeros([len(SSHA_vector), M])\n",
    "H_all = np.zeros([len(SSHA_vector), M * 2])\n",
    "freq_n = np.zeros([M, MModes])\n",
    "\n",
    "dlon = lon - lon.mean()\n",
    "dlat = lat - lat.mean()\n",
    "\n",
    "count = 0 \n",
    "for kk in range(len(k_n)):\n",
    "    for ll in range(len(l_n)):\n",
    "        for mm in range(MModes):\n",
    "            freq_n[count, mm] =  -1 * (Beta * k_n[kk]) / (k_n[kk] ** 2 + l_n[ll] ** 2 + Rm ** (-2))\n",
    "            count += 1\n",
    "nn = 0 \n",
    "for kk in range(len(k_n)):\n",
    "    for ll in range(len(l_n)):\n",
    "        for mm in range(MModes):\n",
    "            for count in range(len(Iindex)):\n",
    "                H_cos[count, nn] = Psi[0, mm] * np.cos(l_n[ll] * dlon[int(Iindex[count])] + k_n[kk] * dlat[int(Jindex[count])] + freq_n[nn] * T_time[int(Tindex[count])])  \n",
    "                H_sin[count, nn] = Psi[0, mm] * np.sin(l_n[ll] * dlon[int(Iindex[count])] + k_n[kk] * dlat[int(Jindex[count])] + freq_n[nn] * T_time[int(Tindex[count])])\n",
    "            nn += 1"
   ]
  },
  {
   "cell_type": "markdown",
   "id": "81cb60de-6a7b-48e7-a5ed-b13ae937f37f",
   "metadata": {
    "tags": []
   },
   "source": [
    "#### Build basis function H matrix"
   ]
  },
  {
   "cell_type": "code",
   "execution_count": 20,
   "id": "892a82ac-af4e-4cca-aa9c-b139c52bfa65",
   "metadata": {},
   "outputs": [],
   "source": [
    "H_all[:, 0::2] = H_cos \n",
    "H_all[:, 1::2] = H_sin"
   ]
  },
  {
   "cell_type": "markdown",
   "id": "e14285b7-6a31-4b5e-aa24-f5c4be15b2ae",
   "metadata": {},
   "source": [
    "#### build satellite swath"
   ]
  },
  {
   "cell_type": "code",
   "execution_count": 21,
   "id": "8b678963-29e9-4be4-a83e-3bf96cf74185",
   "metadata": {},
   "outputs": [],
   "source": [
    "swath_width, x_swath = 6, 20\n",
    "days = np.arange(day0, day1) # np.array([0, 1]) #range(day0, day1)\n",
    "xvalid_index, yvalid_index, tindex, yswath_index_left, yswath_index_right, y_mask_left, y_mask_right = build_swath(swath_width, x_swath, days, lon, lat)"
   ]
  },
  {
   "cell_type": "code",
   "execution_count": 22,
   "id": "247c2ce3-53e7-41cf-9ab4-fba1f5c7241d",
   "metadata": {},
   "outputs": [
    {
     "name": "stdout",
     "output_type": "stream",
     "text": [
      "[0 1]\n"
     ]
    }
   ],
   "source": [
    "print(days)"
   ]
  },
  {
   "cell_type": "markdown",
   "id": "6ba8ebed-c64c-4047-9cc3-a35bf5834840",
   "metadata": {},
   "source": [
    "#### Add errors to the swaths"
   ]
  },
  {
   "cell_type": "code",
   "execution_count": 23,
   "id": "35a121c0-ef18-410b-a350-c60a464adf32",
   "metadata": {},
   "outputs": [
    {
     "data": {
      "text/plain": [
       "array([1, 2, 3, 4, 5, 6])"
      ]
     },
     "execution_count": 23,
     "metadata": {},
     "output_type": "execute_result"
    }
   ],
   "source": [
    "time_factor = np.arange(1, 7)\n",
    "time_factor "
   ]
  },
  {
   "cell_type": "code",
   "execution_count": 24,
   "id": "3128fd7e-aef0-40bb-8740-cc58a7763efe",
   "metadata": {
    "tags": []
   },
   "outputs": [
    {
     "name": "stdout",
     "output_type": "stream",
     "text": [
      "2 40 6\n",
      "450\n"
     ]
    }
   ],
   "source": [
    "alpha_base = time_factor * 1e-2# baseline dialation error parameter\n",
    "alpha_roll = time_factor * -.5e-2 #  np.arange(1, len(day)) # roll error parameter\n",
    "alpha_timing =  time_factor * .5e-7 # timing error parameter, set to be much smaller than others\n",
    "alpha_phase3, alpha_phase4, alpha_phase5, alpha_phase6 = time_factor * 4e-3, time_factor * 3e-3, time_factor* 2e-3, time_factor * 1e-3\n",
    "alpha = np.stack([alpha_timing,  alpha_roll, alpha_base, alpha_phase3, alpha_phase4, alpha_phase5, alpha_phase6])\n",
    "#alpha = [alpha_timing,  alpha_roll, alpha_base, alpha_phase3, alpha_phase4, alpha_phase5, alpha_phase6]\n",
    "timing_err_valid, roll_err_valid, baseline_dilation_err_valid, phase_err_valid, xc1_valid, xc2_valid  = make_error_over_time(days, alpha, yswath_index_left, yswath_index_right, y_mask_left, y_mask_right)"
   ]
  },
  {
   "cell_type": "code",
   "execution_count": 25,
   "id": "579b3fa2-4f11-4ec3-8569-eec1c27ab1f8",
   "metadata": {},
   "outputs": [
    {
     "data": {
      "text/plain": [
       "(7, 6)"
      ]
     },
     "execution_count": 25,
     "metadata": {},
     "output_type": "execute_result"
    }
   ],
   "source": [
    "alpha.shape"
   ]
  },
  {
   "cell_type": "code",
   "execution_count": 26,
   "id": "3d8bacde-d29f-4489-aa9c-d803b19439e5",
   "metadata": {},
   "outputs": [
    {
     "data": {
      "text/plain": [
       "((2, 450), (2, 450), (2, 450), (2, 450), (2, 450), (2, 450))"
      ]
     },
     "execution_count": 26,
     "metadata": {},
     "output_type": "execute_result"
    }
   ],
   "source": [
    "timing_err_valid.shape, roll_err_valid.shape, baseline_dilation_err_valid.shape, phase_err_valid.shape, xc1_valid.shape, xc2_valid.shape"
   ]
  },
  {
   "cell_type": "markdown",
   "id": "7451d779-ff14-474d-bd5d-1da45d6fc654",
   "metadata": {
    "tags": []
   },
   "source": [
    "#### sample SSH, errors and add white noise "
   ]
  },
  {
   "cell_type": "code",
   "execution_count": 27,
   "id": "e81e0f63-7c24-4553-aff7-57500bed3ddb",
   "metadata": {},
   "outputs": [],
   "source": [
    "IND_TIMING = -7\n",
    "IND_ROLL = -6\n",
    "IND_BASELINE = -5\n",
    "IND_PHASE3, IND_PHASE4, IND_PHASE5, IND_PHASE6 = -4, -3, -2, -1"
   ]
  },
  {
   "cell_type": "code",
   "execution_count": 28,
   "id": "f820ddaf-40e6-4e79-aab9-8d7c151f74a3",
   "metadata": {},
   "outputs": [
    {
     "data": {
      "text/plain": [
       "900"
      ]
     },
     "execution_count": 28,
     "metadata": {},
     "output_type": "execute_result"
    }
   ],
   "source": [
    "N = len(xvalid_index)\n",
    "N"
   ]
  },
  {
   "cell_type": "code",
   "execution_count": 29,
   "id": "177b6d5b-627b-4555-b04d-8ca02956af4c",
   "metadata": {},
   "outputs": [],
   "source": [
    "Tdim, Valid_points = timing_err_valid.shape # dimensions: time, number of valid data points\n",
    "MSLA_swath = np.zeros(len(xvalid_index))\n",
    "nx, ny = len(lon), len(lat)\n",
    "H_v = np.zeros([Tdim, Valid_points, 2 * M + 7]) # M: number of model\n",
    "IIndex = np.zeros(Valid_points) # N: Number of y data\n",
    "cor_err = np.zeros([Tdim, Valid_points]) # Correlated Error N: Number of y data\n",
    "Y_v = np.zeros([Tdim, Valid_points])\n",
    "ssh = np.zeros([Tdim, Valid_points])\n",
    "xc = (swath_width - 1) / 2\n",
    "\n",
    "for ii in range(Valid_points):\n",
    "    for tt in range(Tdim):\n",
    "        #print(xvalid_index[ii], yvalid_index[ii], int(tindex[ii]))\n",
    "        IIndex[ii] = ny * xvalid_index[ii] + yvalid_index[ii]\n",
    "        cor_err[tt, ii] = timing_err_valid[tt, ii]+ roll_err_valid[tt, ii] + baseline_dilation_err_valid[tt, ii] + phase_err_valid[tt, ii]\n",
    "        # timing error = alpha[0] * Xc^0\n",
    "        H_v[tt, ii, IND_TIMING] = 1 #  alpha_timing, TIMING ERR, distance from nadir Xc\n",
    "        # roll error = alpha[1] * Xc^1\n",
    "        H_v[tt, ii, IND_ROLL] = xc1_valid[tt, ii]  # alpha_roll, ROLL ERR, distance from nadir Xc\n",
    "        # baseline dialation error = alpha[2] * Xc^2\n",
    "        H_v[tt, ii, IND_BASELINE] = xc2_valid[tt, ii]  # alpha_base, BASELINE DIALATION ERR, distance from nadir Xc \n",
    "        # phase error \n",
    "        H_neg = np.heaviside(-1 * xc1_valid[tt, ii], 1) #\n",
    "        H_pos = np.heaviside(xc1_valid[tt, ii], 1) # \n",
    "        # print(H_neg, H_pos)\n",
    "        H_v[tt, ii, IND_PHASE3] = H_neg                 # alpha_phase3 * np.heaviside(xx - xc, 1)\n",
    "        H_v[tt, ii, IND_PHASE4] = xc1_valid[tt, ii] * H_neg # alpha_phase4 * Xc * np.heaviside(xx - xc, 1)\n",
    "        H_v[tt, ii, IND_PHASE5] = H_pos                 # alpha_phase5 * np.heaviside(xx + xc, 1)\n",
    "        H_v[tt, ii, IND_PHASE6] = xc1_valid[tt, ii] * H_pos # alpha_phase6 * np.heaviside(xx + xc, 1)\n",
    "        \n",
    "        ssh[tt, ii] = MSLA_fwd[xvalid_index[ii], yvalid_index[ii], int(tindex[ii])]\n",
    "        Y_v[tt, ii] =  cor_err[tt, ii]  + ssh[tt, ii] # + np.random.rand(1)/400\n",
    "        \n",
    "        for nn in range(M):\n",
    "            JIndex = 2 * MModes * nn\n",
    "            H_v[tt, ii, JIndex] = H_cos[IIndex[ii].astype(int), nn]\n",
    "            H_v[tt, ii, JIndex + 1] = H_sin[IIndex[ii].astype(int), nn]"
   ]
  },
  {
   "cell_type": "markdown",
   "id": "e956b138-4b36-40ef-a1bb-697f03d1e1e4",
   "metadata": {},
   "source": [
    "### 1-step approach: Solve for amplitudes and errors together"
   ]
  },
  {
   "cell_type": "markdown",
   "id": "0f64bf98-8f11-45ba-9fec-bad77b45407a",
   "metadata": {},
   "source": [
    "#### signal to noise ratio"
   ]
  },
  {
   "cell_type": "code",
   "execution_count": 30,
   "id": "1db810ed-3f6c-4d48-877c-2beb827fba7f",
   "metadata": {},
   "outputs": [],
   "source": [
    "counter = 0\n",
    "exp = 1\n",
    "alpha_factor = 1e1\n",
    "kl = np.zeros(2 * M)\n",
    "P_over_R = np.zeros([Tdim, 2 * M + 7, 2 * M + 7])\n",
    "for tt in range(Tdim):\n",
    "    P_over_R[tt, IND_TIMING, IND_TIMING] = alpha[IND_TIMING, tt] * alpha_factor #** 2 # timing error\n",
    "    P_over_R[tt, IND_ROLL, IND_ROLL] = alpha[IND_ROLL, tt] ** 2 *  alpha_factor #** 2 # roll error\n",
    "    P_over_R[tt, IND_BASELINE, IND_BASELINE] = alpha[IND_BASELINE, tt]*  alpha_factor #** 2 # baseline dilation error\n",
    "    P_over_R[tt, IND_PHASE3, IND_PHASE3] = alpha[IND_PHASE3, tt] *  alpha_factor # ** 2 # phase error 1\n",
    "    P_over_R[tt, IND_PHASE4, IND_PHASE4] = alpha[IND_PHASE4, tt]* alpha_factor  # ** 2 # phase error 2\n",
    "    P_over_R[tt, IND_PHASE5, IND_PHASE5] = alpha[IND_PHASE5, tt] * alpha_factor # ** 2 # phase error 3\n",
    "    P_over_R[tt, IND_PHASE6, IND_PHASE6] = alpha[IND_PHASE6, tt] *  alpha_factor  # ** 2 # phase error 4\n",
    "\n",
    "for kk in k_n:\n",
    "    for ll in l_n:\n",
    "        kl[counter] = np.sqrt(kk ** 2 + ll ** 2) # wavenumber\n",
    "        P_over_R[tt, 2 * counter, 2 * counter] = kl[counter] ** exp\n",
    "        P_over_R[tt, 2 * counter + 1, 2 * counter + 1] = kl[counter] ** exp\n",
    "        counter += 1 "
   ]
  },
  {
   "cell_type": "code",
   "execution_count": 31,
   "id": "924c7efd-e864-4e3e-b367-1aae0aa92cba",
   "metadata": {},
   "outputs": [],
   "source": [
    "amp_1step,  ssh_estimated_swath, err_est = np.zeros([Tdim, 2 * M + 7]), np.zeros([Tdim, Valid_points]), np.zeros([Tdim, Valid_points])\n",
    "for tt in range(Tdim):\n",
    "    amp_1step[tt], ssh_estimated_swath[tt] = inversion(Y_v[tt], H_v[tt], P_over_R[tt])\n",
    "    err_est[tt] = np.matmul(H_v[tt, :, -7:], amp_1step[tt, -7:])"
   ]
  },
  {
   "cell_type": "code",
   "execution_count": 32,
   "id": "cb4e36bf-6e8f-4ee4-9f26-474fe560a520",
   "metadata": {},
   "outputs": [
    {
     "data": {
      "text/plain": [
       "((450, 7), (2, 907))"
      ]
     },
     "execution_count": 32,
     "metadata": {},
     "output_type": "execute_result"
    }
   ],
   "source": [
    "H_v[tt, :, -7:].shape, amp_1step[-7:].shape"
   ]
  },
  {
   "cell_type": "markdown",
   "id": "32b5151a-ce51-485a-96f6-1a348afa3c86",
   "metadata": {
    "tags": []
   },
   "source": [
    "#### One approach sanity check: fit errors to seven error basis functions"
   ]
  },
  {
   "cell_type": "code",
   "execution_count": 33,
   "id": "54ff544b-aa18-4f46-8e39-2a21d68ebd42",
   "metadata": {},
   "outputs": [],
   "source": [
    "amp_err_only,  err_estimated_swath = np.zeros([Tdim, 7]), np.zeros([Tdim, Valid_points])\n",
    "for tt in range(Tdim):\n",
    "    amp_err_only[tt], err_estimated_swath[tt] = inversion(cor_err[tt], H_v[tt, :, -7:], P_over_R[tt, -7:, -7:])"
   ]
  },
  {
   "cell_type": "code",
   "execution_count": 34,
   "id": "ec2fa538-84f2-4de9-bff4-0721ccfc6171",
   "metadata": {},
   "outputs": [
    {
     "ename": "ValueError",
     "evalue": "operands could not be broadcast together with shapes (2,7) (6,7) ",
     "output_type": "error",
     "traceback": [
      "\u001b[0;31m---------------------------------------------------------------------------\u001b[0m",
      "\u001b[0;31mValueError\u001b[0m                                Traceback (most recent call last)",
      "Input \u001b[0;32mIn [34]\u001b[0m, in \u001b[0;36m<cell line: 1>\u001b[0;34m()\u001b[0m\n\u001b[0;32m----> 1\u001b[0m amp_diff_1step \u001b[38;5;241m=\u001b[39m \u001b[43mamp_1step\u001b[49m\u001b[43m[\u001b[49m\u001b[43m:\u001b[49m\u001b[43m,\u001b[49m\u001b[43m \u001b[49m\u001b[38;5;241;43m-\u001b[39;49m\u001b[38;5;241;43m7\u001b[39;49m\u001b[43m:\u001b[49m\u001b[43m]\u001b[49m\u001b[43m \u001b[49m\u001b[38;5;241;43m-\u001b[39;49m\u001b[43m \u001b[49m\u001b[43malpha\u001b[49m\u001b[38;5;241;43m.\u001b[39;49m\u001b[43mT\u001b[49m\n\u001b[1;32m      2\u001b[0m amp_diff_err_only \u001b[38;5;241m=\u001b[39m amp_err_only[:, \u001b[38;5;241m-\u001b[39m\u001b[38;5;241m7\u001b[39m:] \u001b[38;5;241m-\u001b[39m alpha\u001b[38;5;241m.\u001b[39mT\n",
      "\u001b[0;31mValueError\u001b[0m: operands could not be broadcast together with shapes (2,7) (6,7) "
     ]
    }
   ],
   "source": [
    "amp_diff_1step = amp_1step[:, -7:] - alpha.T\n",
    "amp_diff_err_only = amp_err_only[:, -7:] - alpha.T"
   ]
  },
  {
   "cell_type": "code",
   "execution_count": null,
   "id": "e7ca61ec-67bf-4e6d-b791-142dbba3b9b0",
   "metadata": {},
   "outputs": [],
   "source": [
    "plt.figure(figsize = (8, 8 ))\n",
    "plt.subplot(311)\n",
    "plt.title('amplitude estimate')\n",
    "plt.pcolormesh(amp_1step[:, -7:],  vmin = -.02, vmax= .02 ,cmap=cmo.cm.balance)\n",
    "plt.colorbar()\n",
    "\n",
    "plt.subplot(312)\n",
    "plt.title('true amplitude')\n",
    "plt.pcolormesh(alpha.T, vmin = -.02, vmax= .02, cmap=cmo.cm.balance)\n",
    "plt.colorbar()\n",
    "\n",
    "plt.subplot(313)\n",
    "plt.title('amp. estimate - true amp.')\n",
    "plt.pcolormesh(amp_diff_1step,  vmin = -.02, vmax= .02 ,cmap=cmo.cm.balance)\n",
    "plt.colorbar()\n",
    "\n",
    "\n",
    "plt.tight_layout()\n",
    "plt.savefig('amp_solution_varying.png')"
   ]
  },
  {
   "cell_type": "code",
   "execution_count": null,
   "id": "f1bdb85c-2e56-4567-97b0-900378e4100e",
   "metadata": {},
   "outputs": [],
   "source": [
    "plt.figure(figsize = (8,8 ))\n",
    "plt.subplot(311)\n",
    "plt.title('amplitude estimate')\n",
    "plt.pcolormesh(amp_err_only[:, -7:],  vmin = -.02, vmax= .02 ,cmap=cmo.cm.balance)\n",
    "plt.colorbar()\n",
    "\n",
    "plt.subplot(312)\n",
    "plt.title('true amplitude')\n",
    "plt.pcolormesh(alpha.T, vmin = -.02, vmax= .02, cmap=cmo.cm.balance)\n",
    "plt.colorbar()\n",
    "\n",
    "plt.subplot(313)\n",
    "plt.title('amp. estimate - true amp.')\n",
    "plt.pcolormesh(amp_diff_err_only,  vmin = -.02, vmax= .02 ,cmap=cmo.cm.balance)\n",
    "plt.colorbar()\n",
    "\n",
    "\n",
    "plt.tight_layout()\n",
    "plt.savefig('amp_solution_varying.png')"
   ]
  },
  {
   "cell_type": "markdown",
   "id": "a06812d2-9d17-4bbf-903b-5ce9420596ea",
   "metadata": {},
   "source": [
    "#### compare the training data (truth) to estimate"
   ]
  },
  {
   "cell_type": "code",
   "execution_count": null,
   "id": "651b27ef-571c-4404-9cab-0a10847c06ed",
   "metadata": {},
   "outputs": [],
   "source": [
    "H_v.shape, amp_1step.shape, np.matmul(H_v[tt], amp_1step[tt]).shape, ssh.shape, cor_err.shape, ssh_estimated_swath[tt].shape"
   ]
  },
  {
   "cell_type": "code",
   "execution_count": null,
   "id": "ed83bccd-431a-4725-9991-e9a019e3f0fe",
   "metadata": {},
   "outputs": [],
   "source": [
    "H_v[tt, :, :-7].shape, amp_1step[tt, :-7].shape, Tdim"
   ]
  },
  {
   "cell_type": "code",
   "execution_count": null,
   "id": "9f0f116a-613b-4553-bf0d-6f041d4775a4",
   "metadata": {},
   "outputs": [],
   "source": [
    "ssh_diff = np.zeros([Tdim, Valid_points])\n",
    "for tt in range(Tdim):\n",
    "    \n",
    "    ssh_diff[tt] = ssh_estimated_swath[tt] - ssh[tt]\n",
    "    \n",
    "    plt.figure(figsize=(10, 8))\n",
    "    plt.subplot(311)\n",
    "    plt.plot(ssh_estimated_swath[tt], 'green', label='Estimated SSH')\n",
    "    plt.plot(ssh[tt], 'b', label='True SSH')\n",
    "    plt.plot(ssh[tt] + cor_err[tt], 'r', label = 'True SSH + Error')\n",
    "    plt.xlabel('Data point', fontsize=14)\n",
    "    plt.ylabel('SSH (m)', fontsize=14)\n",
    "    plt.title('SSH estimation', fontsize=16)\n",
    "    plt.legend(fontsize=12)\n",
    "\n",
    "    plt.subplot(312)\n",
    "    #plt.plot(norm.pdf(ssh_diff, ssh_diff.mean(), ssh_diff.std()), '-', label='SSH difference')\n",
    "    plt.plot(ssh_diff[tt], 'b', label='True SSH - SSH estimate')\n",
    "    plt.xlabel('Data point', fontsize=14)\n",
    "    plt.ylabel('SSH (m)', fontsize=14)\n",
    "    plt.title('True SSH - SSH estimation', fontsize=16)\n",
    "    plt.legend(fontsize=12)\n",
    "\n",
    "    plt.subplot(313)\n",
    "    plt.title('error parameter', fontsize=16)\n",
    "    plt.plot(amp_1step[tt, -7:], '-x', label = 'estimated error amplitude')\n",
    "    plt.plot(alpha.T[tt], '-*', label = 'true error amplitude')\n",
    "    plt.xlabel('Error parameter', fontsize=14)\n",
    "    plt.legend()\n",
    "    plt.tight_layout()\n",
    "    \n",
    "    plt.savefig('./ssh_err_estimate/ssh_err_parameter_'+  str(date_time[tt])[:10] +'.png')"
   ]
  },
  {
   "cell_type": "code",
   "execution_count": null,
   "id": "a8623f65-b688-408a-9f9b-c677756daf8b",
   "metadata": {},
   "outputs": [],
   "source": [
    "from scipy.stats import norm\n",
    "ssh_diff = ssh_estimated_swath - ssh"
   ]
  },
  {
   "cell_type": "code",
   "execution_count": null,
   "id": "979334ab-04f9-41ae-a478-dec8d435e662",
   "metadata": {},
   "outputs": [],
   "source": [
    "plt.figure(figsize = (8, 5))\n",
    "plt.subplot(211)\n",
    "plt.xlabel('wavenumber ($deg^{-1}$)', fontsize = 12)\n",
    "plt.ylabel('amplitude (meters)', fontsize = 12)\n",
    "plt.plot(kl, amp_1step[:-7] ** 2  , '*', label = 'true amp')\n",
    "plt.subplot(212)\n",
    "plt.legend()\n",
    "\n",
    "plt.xlabel('wavenumber ($deg^{-1}$)', fontsize = 12)\n",
    "plt.ylabel('amplitude (meters)', fontsize = 12)\n",
    "plt.plot(kl, amp ** 2 , '*', label = 'swath data')\n",
    "plt.legend()"
   ]
  },
  {
   "cell_type": "markdown",
   "id": "071c7ee9-9212-4c8c-96ee-0281a2767a7d",
   "metadata": {},
   "source": [
    "#### True and estimated SSH and Errors"
   ]
  },
  {
   "cell_type": "code",
   "execution_count": null,
   "id": "06ad0a50-4c45-4aaf-a30b-599f59d60d64",
   "metadata": {},
   "outputs": [],
   "source": [
    "Y_hat = np.matmul(H_v, amp_1step)\n",
    "err_est = np.matmul(H_v[:, -7:], amp_1step[-7:])\n",
    "ssh_est = np.matmul(H_v[:, :-7], amp_1step[:-7])\n",
    "err_map1 = np.zeros([len(lon), len(lat)])\n",
    "ssh_map1 = np.zeros([len(lon), len(lat)])\n",
    "ssh_true1 = np.zeros([len(lon), len(lat)])\n",
    "err_true1 = np.zeros([len(lon), len(lat)])\n",
    "lon_valid = np.ma.masked_all([len(lon), len(lat)])\n",
    "lat_valid = np.ma.masked_all([len(lon), len(lat)])\n",
    "for ii, idx in enumerate(xvalid_index):\n",
    "    err_map1[xvalid_index[ii], yvalid_index[ii]] = err_est[ii] \n",
    "    ssh_map1[xvalid_index[ii], yvalid_index[ii]]  = ssh_est[ii]\n",
    "    err_true1[xvalid_index[ii], yvalid_index[ii]] = cor_err[ii]\n",
    "    ssh_true1[xvalid_index[ii], yvalid_index[ii]] = ssh[ii]\n",
    "    lon_valid[xvalid_index[ii], yvalid_index[ii]] = lon[yvalid_index[ii]]\n",
    "    lat_valid[xvalid_index[ii], yvalid_index[ii]] = lat[xvalid_index[ii]]"
   ]
  },
  {
   "cell_type": "markdown",
   "id": "39ac0aaa-3061-4630-8364-39076c0ec2cc",
   "metadata": {},
   "source": [
    "#### Reverse the vectorization on the swaths"
   ]
  },
  {
   "cell_type": "code",
   "execution_count": null,
   "id": "dc2b64cc-7c45-42ad-b4fa-1820f1687583",
   "metadata": {},
   "outputs": [],
   "source": [
    "err_diff1 = np.sqrt(np.mean((err_true1 - err_map1) ** 2 ))/ np.sqrt(np.mean((err_true1) ** 2 ))\n",
    "ssh_diff1 = np.sqrt(np.mean((ssh_true1 - ssh_map1) ** 2 ))/ np.sqrt(np.mean((ssh_true1) ** 2 ))\n",
    "ssh_diff1, err_diff1, #ssh_map1"
   ]
  },
  {
   "cell_type": "code",
   "execution_count": null,
   "id": "2bf88043-4b06-422d-bf7a-28c65c4cb367",
   "metadata": {},
   "outputs": [],
   "source": [
    "fig = plt.figure(figsize = (10, 12))\n",
    "\n",
    "\n",
    "plt.subplot(321)\n",
    "plt.pcolormesh(lon, lat, err_true1 + ssh_true1, cmap = cmo.cm.balance, vmin = -.2, vmax = .2)\n",
    "plt.colorbar()\n",
    "plt.xlabel('Longitude (\\N{DEGREE SIGN}W)', fontsize = 14)\n",
    "plt.ylabel('Latitude (\\N{DEGREE SIGN}N)', fontsize = 14)\n",
    "plt.title('a) True error + true SSH', fontsize = 14)\n",
    "\n",
    "\n",
    "plt.subplot(323)\n",
    "plt.pcolormesh(lon, lat, ssh_map1, vmin = -.2, vmax = .2, cmap = cmo.cm.balance)\n",
    "plt.colorbar()\n",
    "plt.xlabel('Longitude (\\N{DEGREE SIGN}W)', fontsize = 14)\n",
    "plt.ylabel('Latitude (\\N{DEGREE SIGN}N)', fontsize = 14)\n",
    "plt.title('c) SSH estimate, 1-step ' + str((1- ssh_diff1) * 100)[:5] + '%', fontsize = 14)\n",
    "\n",
    "plt.subplot(325)\n",
    "plt.pcolormesh(lon, lat, ssh_true1 - ssh_map1, cmap = cmo.cm.balance, vmin = -.02, vmax = .02)\n",
    "plt.colorbar()\n",
    "plt.xlabel('Longitude (\\N{DEGREE SIGN}W)', fontsize = 14)\n",
    "plt.ylabel('Latitude (\\N{DEGREE SIGN}N)', fontsize = 14)\n",
    "plt.title('e) True SSH - SSH estimate, ' + str(ssh_diff1 * 100)[:5] + '%', fontsize = 14)\n",
    "\n",
    "\n",
    "plt.subplot(322)\n",
    "plt.pcolormesh(lon, lat, err_true1, cmap = cmo.cm.balance, vmin = -.2, vmax = .2)\n",
    "plt.colorbar()\n",
    "plt.xlabel('Longitude (\\N{DEGREE SIGN}W)', fontsize = 14)\n",
    "plt.ylabel('Latitude (\\N{DEGREE SIGN}N)', fontsize = 14)\n",
    "plt.title('b) True error', fontsize = 14)\n",
    "\n",
    "plt.subplot(324)\n",
    "plt.pcolormesh(lon, lat, err_map1, cmap = cmo.cm.balance, vmin = -.2, vmax = .2)\n",
    "plt.colorbar()\n",
    "plt.xlabel('Longitude (\\N{DEGREE SIGN}W)', fontsize = 14)\n",
    "plt.ylabel('Latitude (\\N{DEGREE SIGN}N)', fontsize = 14)\n",
    "plt.title('d) Error estimate ' +  str((1- err_diff1) * 100)[:4] + '%', fontsize = 14)\n",
    "\n",
    "plt.subplot(326)\n",
    "plt.pcolormesh(lon, lat, err_true1 - err_map1, cmap = cmo.cm.balance, vmin = -.02, vmax = .02)\n",
    "plt.colorbar()\n",
    "plt.xlabel('Longitude (\\N{DEGREE SIGN}W)', fontsize = 14)\n",
    "plt.ylabel('Latitude (\\N{DEGREE SIGN}N)', fontsize = 14)\n",
    "plt.title('f) True Error - Error estimate, ' + str(err_diff1 * 100)[:4] + '%' , fontsize = 14)\n",
    "\n",
    "plt.tight_layout()\n",
    "plt.savefig('aviso_ssh_estimate_'+ str(date_time[0])[:10] + '_1step_' + str(int(day1 - day0)*5) +'day.png', dpi = 300)"
   ]
  },
  {
   "cell_type": "markdown",
   "id": "1f4f7ed9-a806-4acf-ad0a-ba2bba6b3454",
   "metadata": {},
   "source": [
    "#### Make predictions of SSH based on the estimated amplitudes:\n",
    "#### is the extrapolation skill good?"
   ]
  },
  {
   "cell_type": "code",
   "execution_count": null,
   "id": "672cc13c-c1ec-4653-8a8b-54a7e2ddb57d",
   "metadata": {
    "tags": []
   },
   "outputs": [],
   "source": [
    "#time_range = 8 ## 8 * 5 = 40 days\n",
    "SSHA_predicted = np.zeros([time_range, MSLA0[:, :, 0:1].size])\n",
    "SSHA_true = np.zeros([time_range, MSLA0[:, :, 0:1].size])\n",
    "residual_iter = np.zeros(time_range)\n",
    "MSLA_inverse = np.zeros([MSLA0.shape[0], MSLA0.shape[1], time_range])\n",
    "for day in range(0, time_range):\n",
    "    #print(date_time[day])\n",
    "    MSLA = MSLA_fwd[:, :, day : day+1]  #day : day + day1 - day0\n",
    "    H_all = build_h_matrix(MSLA, MModes, k_n, l_n, lon, lat, T_time, Psi, Rm, day)\n",
    "    SSHA_predicted[day], SSHA_true[day], residual_iter[day] = forecast_ssh(MSLA, amp_1step[:-7], H_all) #MSLA, amp, H_all\n",
    "    MSLA_inverse[:, :, day:day+1] = reverse_vector(MSLA, SSHA_predicted[day])\n",
    "    \n",
    "#     plt.figure(figsize = (15, 5))\n",
    "\n",
    "#     plt.subplot(131)\n",
    "#     plt.pcolormesh(lon, lat, MSLA[:, :, 0], cmap = cmo.cm.balance, vmin = -.15, vmax = .15) #MSLA_fwd[:, :, day]\n",
    "#     plt.colorbar()\n",
    "#     plt.xlabel('Longitude (\\N{DEGREE SIGN}W)', fontsize = 14)\n",
    "#     plt.ylabel('Latitude (\\N{DEGREE SIGN}N)', fontsize = 14)\n",
    "#     plt.title('a) AVISO forward model ' + str(date_time[day])[:10], fontsize = 14)\n",
    "\n",
    "#     plt.subplot(132)\n",
    "#     #plt.plot(lon[xvalid_index], lat[yvalid_index], 'x', color = 'gray')\n",
    "    \n",
    "#     plt.pcolormesh(lon, lat, MSLA_inverse[:, :, day], vmin = -.15, vmax = .15, cmap = cmo.cm.balance)\n",
    "#     plt.colorbar()\n",
    "#     plt.xlabel('Longitude (\\N{DEGREE SIGN}W)', fontsize = 14)\n",
    "#     plt.ylabel('Latitude (\\N{DEGREE SIGN}N)', fontsize = 14)\n",
    "#     plt.title('b) 1-step inversion, swath data', fontsize = 14)\n",
    "\n",
    "#     residual = MSLA[:, :, 0] - MSLA_inverse[:, :, day] \n",
    "#     plt.subplot(133)\n",
    "#     plt.plot(lon_valid, lat_valid, 'x', color = 'gray')\n",
    "#     plt.pcolormesh(lon, lat, residual, cmap = cmo.cm.balance, vmin = -.15, vmax = .15)\n",
    "#     plt.colorbar()\n",
    "#     plt.xlabel('Longitude (\\N{DEGREE SIGN}W)', fontsize = 14)\n",
    "#     plt.ylabel('Latitude (\\N{DEGREE SIGN}N)', fontsize = 14)\n",
    "#     plt.title('c) Residual variance ' +  str(residual_iter[day] * 100)[:4] + '%', fontsize = 14)\n",
    "    \n",
    "#     plt.tight_layout()\n",
    "#     #plt.close()\n",
    "#     plt.savefig('ssh_1step_' + str(date_time[day])[:10] +'_2_err_' + str(skill.size) + 'waves.png', dpi = 300)"
   ]
  },
  {
   "cell_type": "code",
   "execution_count": null,
   "id": "8d41e11f-d39b-40bd-8aea-53874405c08a",
   "metadata": {},
   "outputs": [],
   "source": [
    "residual_iter"
   ]
  },
  {
   "cell_type": "code",
   "execution_count": null,
   "id": "accb2a35-9629-4337-bf7d-1932f18a2171",
   "metadata": {},
   "outputs": [],
   "source": [
    "#persistence = SSHA.data[:, :, day0:day0+time_range] - SSHA.data[:, :, day0+6:day0+7]\n",
    "persistence = SSHA.data[:, :, day0:day0+time_range] - SSHA.data[:, :, day0:day0+1]\n",
    "prediction_err = MSLA_inverse[:, :, :time_range] - MSLA_fwd[:, :, :time_range]\n",
    "rms_persistence = np.zeros(persistence.shape[-1])\n",
    "rms_prediction_err = np.zeros(prediction_err.shape[-1])\n",
    "for t in range(persistence.shape[-1]):\n",
    "    #rms_persistence_err[t] = np.sqrt(np.mean(persistence_err[:, :, t] ** 2)) / np.sqrt(np.mean(SSHA[:, :, 0:1].data ** 2))\n",
    "    rms_persistence[t] = np.sqrt(np.mean(persistence[:, :, t] ** 2)) / np.sqrt(np.mean(SSHA[:, :, 0:1].data ** 2))\n",
    "    rms_prediction_err[t] = np.sqrt(np.mean(prediction_err[:, :, t] ** 2)) / np.sqrt(np.mean(SSHA[:, :, t].data ** 2))\n",
    "\n",
    "plt.figure(figsize = (10,10))\n",
    "plt.subplot(211)\n",
    "plt.plot(time[:time_range],  rms_prediction_err[:time_range] * 100,  \n",
    "         '-*',linewidth = 2, color = 'r', label = 'Estimate error')\n",
    "#plt.plot(time[:time_range], residual_iter*100)\n",
    "plt.subplot(212)\n",
    "plt.plot(time[:time_range],  rms_prediction_err[:time_range] * 100,  \n",
    "         '-*',linewidth = 2, color = 'r', label = 'Estimate error')\n",
    "plt.plot(time[:time_range], rms_persistence[:time_range] * 100,  \n",
    "         '-x', linewidth = 2, color = 'k', label = 'Persistence' )\n",
    "#plt.plot(T_time[:time_range][0::2]/86400, np.repeat(100, len(time)),linestyle = '--',  color = 'y')\n",
    "#plt.xticks(time[:time_range][0::2]/86400, time[:time_range][0::2] - time[0])\n",
    "plt.ylabel('Percentage (%)', fontsize = 13)\n",
    "plt.xlabel('time (days)', fontsize = 13)\n",
    "plt.legend()\n",
    "plt.tight_layout()\n",
    "plt.savefig('./prediction_vs_persistence/prediction_err_vs_persistence_' + str(M) + '_waves_2errs.png', dpi = 300)"
   ]
  },
  {
   "cell_type": "markdown",
   "id": "80830e96-43b5-40a9-ba58-9446f0558902",
   "metadata": {
    "tags": []
   },
   "source": [
    "### One approach sanity check: fit errors to seven error basis functions"
   ]
  },
  {
   "cell_type": "markdown",
   "id": "1eba3637-c42d-4d29-9bd0-e7e67369b9a2",
   "metadata": {
    "tags": []
   },
   "source": [
    "#### construct H matrix with only error basis funcstons"
   ]
  },
  {
   "cell_type": "code",
   "execution_count": null,
   "id": "b9892e2b-77ce-4479-a973-22f6a21e7dce",
   "metadata": {},
   "outputs": [],
   "source": [
    "count = 0\n",
    "MSLA_swath = np.zeros(len(xvalid_index))\n",
    "nx, ny = len(lon), len(lat)\n",
    "H_v1 = np.zeros([N, 7]) # M: number of model\n",
    "IIndex = np.zeros(N) # N: Number of y data\n",
    "Y_v, cor_err, ssh = np.zeros(N), np.zeros(N), np.zeros(N)\n",
    "for ii in range(len(xvalid_index)):\n",
    "    IIndex[ii] = ny * xvalid_index[ii] + yvalid_index[ii]\n",
    "    #IIndex[ii] = nx * yvalid_index[ii] + xvalid_index[ii]\n",
    "    cor_err[ii] = timing_err_valid[ii]+ roll_err_valid[ii] + baseline_dilation_err_valid[ii] + phase_err_valid[ii]\n",
    "    ssh[ii] = MSLA_fwd[xvalid_index[ii], yvalid_index[ii], int(tindex[ii])]\n",
    "    \n",
    "    # Only fit errors! \n",
    "    Y_v[ii] =  cor_err[ii]  #+ ssh[ii]  #\n",
    "    \n",
    "    H_v1[ii, IND_TIMING] = 1 # timing error = alpha[0] * X^0 \n",
    "    H_v1[ii, IND_ROLL] = xc1_valid[ii] # roll error = alpha[1] * X^1\n",
    "    H_v1[ii, IND_BASELINE] = xc2_valid[ii] # baseline dialation error = alpha[2] * X^2\n",
    "    H_neg = np.heaviside(-1 * xc1_valid[ii], 1) \n",
    "    H_pos = np.heaviside(xc1_valid[ii], 1)\n",
    "    \n",
    "    # phase error\n",
    "    H_v1[ii, IND_PHASE3] = H_neg                 \n",
    "    H_v1[ii, IND_PHASE4] = xc1_valid[ii] * H_neg \n",
    "    H_v1[ii, IND_PHASE5] = H_pos                 \n",
    "    H_v1[ii, IND_PHASE6] = xc1_valid[ii] * H_pos "
   ]
  },
  {
   "cell_type": "code",
   "execution_count": null,
   "id": "0c622fc5-9b3c-4373-9073-277a67237e69",
   "metadata": {},
   "outputs": [],
   "source": [
    "P_over_R1 = np.eye(7, 7)\n",
    "P_over_R1[IND_TIMING, IND_TIMING] = alpha[IND_TIMING] * alpha_factor #** 2 # timing error\n",
    "P_over_R1[IND_ROLL, IND_ROLL] = alpha[IND_ROLL] *  alpha_factor #** 2 # roll error\n",
    "P_over_R1[IND_BASELINE, IND_BASELINE] = alpha[IND_BASELINE]*  alpha_factor #** 2 # baseline dilation error\n",
    "P_over_R1[IND_PHASE3, IND_PHASE3] = alpha[IND_PHASE3] *  alpha_factor #** 2 # phase error 1\n",
    "P_over_R1[IND_PHASE4, IND_PHASE4] = alpha[IND_PHASE4]*  alpha_factor  #** 2 # phase error 2\n",
    "P_over_R1[IND_PHASE5, IND_PHASE5] = alpha[IND_PHASE5] *  alpha_factor #** 2 # phase error 3\n",
    "P_over_R1[IND_PHASE6, IND_PHASE6] = alpha[IND_PHASE6]*  alpha_factor  #** 2 # phase error 4"
   ]
  },
  {
   "cell_type": "code",
   "execution_count": null,
   "id": "a4222e43-35ff-4c11-99b8-5b5dca873e12",
   "metadata": {},
   "outputs": [],
   "source": [
    "HTH = np.matmul(H_v1.T, H_v1)"
   ]
  },
  {
   "cell_type": "code",
   "execution_count": null,
   "id": "57791c0c-08cc-4fc9-9be1-2d51193b5f76",
   "metadata": {},
   "outputs": [],
   "source": [
    "HRH = HTH + P_over_R1 #0.81 * sigma #, P: uncertainty in model, R: uncertainty in data\n",
    "D = np.matmul(LA.inv(HRH), H_v1.T)   "
   ]
  },
  {
   "cell_type": "code",
   "execution_count": null,
   "id": "c06bcba0-26d9-42f9-bb1a-5f05738bc73e",
   "metadata": {},
   "outputs": [],
   "source": [
    "amp_err = np.matmul(D, Y_v)\n",
    "amp_err , alpha"
   ]
  },
  {
   "cell_type": "code",
   "execution_count": null,
   "id": "d1e7a65a-92c6-4dd2-a61c-0d6051836a1d",
   "metadata": {},
   "outputs": [],
   "source": [
    "#### test: fit two errors with two error models\n",
    "amp_2err_2model = np.matmul(D, cor_err)\n",
    "amp_2err_2model ,  alpha"
   ]
  },
  {
   "cell_type": "markdown",
   "id": "a780ae92-f41c-411b-aa33-fe511a8d757a",
   "metadata": {},
   "source": [
    "#### correlated error estimate"
   ]
  },
  {
   "cell_type": "code",
   "execution_count": null,
   "id": "b527290c-ae80-4534-98dd-53eb60eaadc6",
   "metadata": {},
   "outputs": [],
   "source": [
    "#### estimate the correlated error\n",
    "err_est = np.matmul(H_v1, amp_err)\n",
    "#err_est"
   ]
  },
  {
   "cell_type": "markdown",
   "id": "d1d6fa2d-cd39-439a-b02c-e0b0ab926e38",
   "metadata": {},
   "source": [
    "#### SSH + correlated errors - estimated correlated errors"
   ]
  },
  {
   "cell_type": "code",
   "execution_count": null,
   "id": "702e0600-53d9-481f-8830-e50522c5bfba",
   "metadata": {},
   "outputs": [],
   "source": [
    "tau_ssh = Y_v - err_est"
   ]
  },
  {
   "cell_type": "code",
   "execution_count": null,
   "id": "eb21b26c-54b8-4c1c-9be8-c68f78bc2fc9",
   "metadata": {
    "tags": []
   },
   "outputs": [],
   "source": [
    "err_map = np.zeros([len(lon), len(lat)])\n",
    "ssh_true = np.zeros([len(lon), len(lat)])\n",
    "ssh_1st_step = np.zeros([len(lon), len(lat)])\n",
    "err_true = np.zeros([len(lon), len(lat)])\n",
    "for ii, idx in enumerate(xvalid_index):\n",
    "    err_map[yvalid_index[ii], xvalid_index[ii]] = err_est[ii] \n",
    "    ssh_true[yvalid_index[ii], xvalid_index[ii]] = ssh[ii]\n",
    "    err_true[yvalid_index[ii], xvalid_index[ii]] = cor_err[ii]\n",
    "    ssh_1st_step[yvalid_index[ii], xvalid_index[ii]] = tau_ssh[ii]"
   ]
  },
  {
   "cell_type": "code",
   "execution_count": null,
   "id": "646904de-98eb-40a0-995a-8734d8d9e8fd",
   "metadata": {},
   "outputs": [],
   "source": [
    "ssh_diff_1st_step = np.sqrt(np.mean((ssh_true - ssh_1st_step) ** 2 ))/ np.sqrt(np.mean((ssh_true) ** 2 ))\n",
    "ssh_diff_1st_step , str(ssh_diff_1st_step * 100)[:4] "
   ]
  },
  {
   "cell_type": "markdown",
   "id": "05543132-b5cb-4027-8664-2b1d8f5798d0",
   "metadata": {
    "tags": []
   },
   "source": [
    "###  Ambiguity test "
   ]
  },
  {
   "cell_type": "markdown",
   "id": "af22b4f0-ff97-4b5c-bfae-57b9496c5fad",
   "metadata": {},
   "source": [
    "#### basis function correlation matrix: assessing whether the basis functions are orthogonal"
   ]
  },
  {
   "cell_type": "code",
   "execution_count": null,
   "id": "eac345a2-ec63-4607-a9c4-5e4996f167b9",
   "metadata": {},
   "outputs": [],
   "source": [
    "import pandas as pd\n",
    "import seaborn as sns\n",
    "# collect data\n",
    "data = H_v[:, -7:]\n",
    "# form dataframe\n",
    "dataframe = pd.DataFrame(data, columns=['TIMING',  'ROLL', 'BASE', 'PHASE3', 'PHASE4', 'PHASE5', 'PHASE6'])\n",
    "cov_matrix = dataframe.cov()"
   ]
  },
  {
   "cell_type": "code",
   "execution_count": null,
   "id": "5842ca5c-a4f2-4228-b0d3-bee3d53490df",
   "metadata": {},
   "outputs": [],
   "source": [
    "corr_matrix = dataframe.corr()"
   ]
  },
  {
   "cell_type": "code",
   "execution_count": null,
   "id": "46787108-f0ff-4da8-b96a-256158f2505e",
   "metadata": {},
   "outputs": [],
   "source": [
    "H_v[:, -7:].shape, cov_matrix"
   ]
  },
  {
   "cell_type": "code",
   "execution_count": null,
   "id": "0f890a28-a807-4fd0-ad57-dc31bbfd7dd9",
   "metadata": {},
   "outputs": [],
   "source": [
    "plt.figure(figsize = (10, 8))\n",
    "sns.heatmap(corr_matrix, annot = True, cmap = cmo.cm.balance, vmin = -1, vmax = 1)\n",
    "plt.xticks(range(7), ['TIMING',  'ROLL', 'BASE', 'PHASE3', 'PHASE4', 'PHASE5', 'PHASE6'])\n",
    "plt.yticks(range(7), ['TIMING',  'ROLL', 'BASE', 'PHASE3', 'PHASE4', 'PHASE5', 'PHASE6'])\n",
    "plt.title('Basis Function Correlation Matrix', fontsize = 14)\n",
    "plt.savefig('./H_corr_matrix.png')"
   ]
  },
  {
   "cell_type": "markdown",
   "id": "9d8ce027-7353-4dbc-9d64-899de1cb31a7",
   "metadata": {},
   "source": [
    "#### the proterier covariance matrix of the difference between the estimated and the true model parameters is"
   ]
  },
  {
   "cell_type": "code",
   "execution_count": null,
   "id": "aa280647-4d36-417f-99aa-e5eb94ef5b0c",
   "metadata": {},
   "outputs": [],
   "source": [
    "COV = LA.inv(HRH + LA.inv(P_over_R1))"
   ]
  },
  {
   "cell_type": "code",
   "execution_count": null,
   "id": "31fec8b7-4e7f-48bd-8dea-520d3267b0a4",
   "metadata": {},
   "outputs": [],
   "source": [
    "def correlation_from_covariance(covariance):\n",
    "    \n",
    "    v = np.sqrt(np.diag(covariance))\n",
    "    outer_v = np.outer(v, v)\n",
    "    correlation = covariance / outer_v\n",
    "    correlation[covariance == 0] = 0\n",
    "    \n",
    "    return correlation"
   ]
  },
  {
   "cell_type": "code",
   "execution_count": null,
   "id": "4342990a-5a62-4d79-bc85-a54dd9b102d9",
   "metadata": {},
   "outputs": [],
   "source": [
    "COR = correlation_from_covariance(COV)"
   ]
  },
  {
   "cell_type": "code",
   "execution_count": null,
   "id": "95b8998d-bbf2-4115-b352-2147059a294b",
   "metadata": {},
   "outputs": [],
   "source": [
    "plt.figure(figsize = (10, 8))\n",
    "sns.heatmap(COV, annot = True, cmap = cmo.cm.balance, vmin = -.05, vmax = .05)\n",
    "plt.xticks(range(7), ['TIMING',  'ROLL', 'BASE', 'PHASE3', 'PHASE4', 'PHASE5', 'PHASE6'])\n",
    "plt.yticks(range(7), ['TIMING',  'ROLL', 'BASE', 'PHASE3', 'PHASE4', 'PHASE5', 'PHASE6'])\n",
    "plt.title('Model Parameter Covariance Matrix $<(x-\\hat{x})(x-\\hat{x})^T> = (H^{T}R^{-1}H + P^{-1})^{-1}$', fontsize = 14)\n",
    "plt.savefig('./cov_matrix.png')"
   ]
  },
  {
   "cell_type": "code",
   "execution_count": null,
   "id": "97fb4120-1de7-4944-820f-58bee6b007b8",
   "metadata": {},
   "outputs": [],
   "source": [
    "plt.figure(figsize = (10, 8))\n",
    "sns.heatmap(COR, annot = True, cmap = cmo.cm.balance, vmin = -.75, vmax = .75)\n",
    "plt.xticks(range(7), ['TIMING',  'ROLL', 'BASE', 'PHASE3', 'PHASE4', 'PHASE5', 'PHASE6'])\n",
    "plt.yticks(range(7), ['TIMING',  'ROLL', 'BASE', 'PHASE3', 'PHASE4', 'PHASE5', 'PHASE6'])\n",
    "plt.title('Model Parameter Correlation Matrix $(H^{T}R^{-1}H + P^{-1})^{-1}$', fontsize = 14)\n",
    "plt.savefig('./corr_matrix.png')"
   ]
  },
  {
   "cell_type": "markdown",
   "id": "1413de7f-475c-469b-a739-e8c5435c8a96",
   "metadata": {
    "tags": []
   },
   "source": [
    "### Two-step approach: reconstructing the SSH separately from solving the correlated error"
   ]
  },
  {
   "cell_type": "markdown",
   "id": "5709eb25-56b0-4f58-a5da-a784a5001327",
   "metadata": {
    "tags": []
   },
   "source": [
    "#### First step: fit errors"
   ]
  },
  {
   "cell_type": "code",
   "execution_count": null,
   "id": "a3be45b0-5ebc-4fa1-bbe1-8affe66816d6",
   "metadata": {},
   "outputs": [],
   "source": [
    "count = 0\n",
    "MSLA_swath = np.zeros(len(xvalid_index))\n",
    "nx, ny = len(lon), len(lat)\n",
    "H_v1 = np.zeros([N, 7]) # M: number of model\n",
    "IIndex = np.zeros(N) # N: Number of y data\n",
    "Y_v, cor_err, ssh = np.zeros(N), np.zeros(N), np.zeros(N)\n",
    "for ii in range(len(xvalid_index)):\n",
    "    IIndex[ii] = ny * xvalid_index[ii] + yvalid_index[ii]\n",
    "    cor_err[ii] = roll_err_valid[ii] + baseline_dilation_err_valid[ii]\n",
    "    ssh[ii] = MSLA_fwd[xvalid_index[ii], yvalid_index[ii], int(tindex[ii])]\n",
    "    Y_v[ii] =  cor_err[ii] + ssh[ii] # + np.random.rand(1)/10 \n",
    "    H_v1[ii, IND_TIMING] = 1 \n",
    "    H_v1[ii, IND_BASELINE] = xc1_valid[ii] \n",
    "    H_v1[ii, IND_ROLL] = xc2_valid[ii] \n",
    "    H_neg = np.heaviside(-1 * xc1_valid[ii], 1) \n",
    "    H_pos = np.heaviside(xc1_valid[ii], 1) \n",
    "    H_v[ii, IND_PHASE3] = H_neg                 \n",
    "    H_v[ii, IND_PHASE4] = xc1_valid[ii] * H_neg \n",
    "    H_v[ii, IND_PHASE5] = H_pos                 \n",
    "    H_v[ii, IND_PHASE6] = xc1_valid[ii] * H_pos "
   ]
  },
  {
   "cell_type": "code",
   "execution_count": null,
   "id": "0469297e-75ea-40df-a11d-0b66e30ae55f",
   "metadata": {},
   "outputs": [],
   "source": [
    "P_over_R1 = P_over_R[-7:, -7:]"
   ]
  },
  {
   "cell_type": "code",
   "execution_count": null,
   "id": "12f0d2b9-92d5-492e-89e5-17a9eeb2c218",
   "metadata": {},
   "outputs": [],
   "source": [
    "HTH = np.matmul(H_v1.T, H_v1)"
   ]
  },
  {
   "cell_type": "code",
   "execution_count": null,
   "id": "029fd4a7-9ba9-4446-bddd-b56ad151931c",
   "metadata": {},
   "outputs": [],
   "source": [
    "HRH = HTH + P_over_R1 #0.81 * sigma #, P: uncertainty in model, R: uncertainty in data\n",
    "D = np.matmul(LA.inv(HRH), H_v1.T)   "
   ]
  },
  {
   "cell_type": "code",
   "execution_count": null,
   "id": "a2c4e432-86c9-4409-88c8-0e900fbb4e30",
   "metadata": {},
   "outputs": [],
   "source": [
    "amp_err = np.matmul(D, Y_v)\n",
    "amp_err[-7:] , alpha\n",
    "#plt.plot(amp_err[-7:]) \n",
    "#plt.plot(alpha)"
   ]
  },
  {
   "cell_type": "code",
   "execution_count": null,
   "id": "06ee79e3-33db-4983-9305-8f007b9730b4",
   "metadata": {},
   "outputs": [],
   "source": [
    "#### test: fit two errors with two error models\n",
    "amp_2err_2model = np.matmul(D, cor_err)\n",
    "#plt.plot(amp_2err_2model) \n",
    "#plt.plot(alpha)"
   ]
  },
  {
   "cell_type": "markdown",
   "id": "d43836cc-e731-405a-a9c5-9d796c810917",
   "metadata": {},
   "source": [
    "#### correlated error estimate"
   ]
  },
  {
   "cell_type": "code",
   "execution_count": null,
   "id": "e918b07b-3763-49e1-8a1b-459067086cfd",
   "metadata": {},
   "outputs": [],
   "source": [
    "#### estimate the correlated error\n",
    "err_est = np.matmul(H_v1, amp_err)"
   ]
  },
  {
   "cell_type": "markdown",
   "id": "9559fa45-cb97-4fbf-b654-d7a8d0b75c25",
   "metadata": {},
   "source": [
    "#### SSH + correlated errors - estimated correlated errors"
   ]
  },
  {
   "cell_type": "code",
   "execution_count": null,
   "id": "a5f99753-27db-48c3-bb7f-d313085bfc01",
   "metadata": {},
   "outputs": [],
   "source": [
    "tau_ssh = Y_v - err_est"
   ]
  },
  {
   "cell_type": "code",
   "execution_count": null,
   "id": "f4908adb-78b9-4805-aa8f-fe7c511b3077",
   "metadata": {
    "tags": []
   },
   "outputs": [],
   "source": [
    "err_map = np.zeros([nx, ny])\n",
    "ssh_true = np.zeros([nx, ny])\n",
    "ssh_1st_step = np.zeros([nx, ny])\n",
    "err_true = np.zeros([nx, ny])\n",
    "for ii, idx in enumerate(xvalid_index):\n",
    "    err_map[xvalid_index[ii], yvalid_index[ii]] = err_est[ii] #[Iindex[ii].astype(int)]\n",
    "    ssh_true[xvalid_index[ii], yvalid_index[ii]] = ssh[ii]\n",
    "    err_true[xvalid_index[ii], yvalid_index[ii]] = cor_err[ii]\n",
    "    ssh_1st_step[xvalid_index[ii], yvalid_index[ii]] = tau_ssh[ii]"
   ]
  },
  {
   "cell_type": "code",
   "execution_count": null,
   "id": "cd430995-1b89-462a-b565-8254761b33f6",
   "metadata": {},
   "outputs": [],
   "source": [
    "ssh_diff_1st_step = np.sqrt(np.mean((ssh_true - ssh_1st_step) ** 2 ))/ np.sqrt(np.mean((ssh_true) ** 2 ))\n",
    "ssh_diff_1st_step , str(ssh_diff_1st_step * 100)[:4] "
   ]
  },
  {
   "cell_type": "markdown",
   "id": "71fa2ee9-fff7-48d9-bbda-acc9143d03da",
   "metadata": {},
   "source": [
    "#### second step: fit residual to rossby wave models"
   ]
  },
  {
   "cell_type": "code",
   "execution_count": null,
   "id": "994eb770-e4f1-43dc-b176-0ce190b37a9e",
   "metadata": {},
   "outputs": [],
   "source": [
    "count = 0\n",
    "MSLA_swath = np.zeros(len(xvalid_index))\n",
    "nx, ny = len(lon), len(lat)\n",
    "H_v = np.zeros([N, 2 * M ]) # M: number of model\n",
    "IIndex = np.zeros(N) # N: Number of y data\n",
    "Y_v = np.zeros(N)\n",
    "for ii in range(len(xvalid_index)):\n",
    "    IIndex[ii] = ny * xvalid_index[ii] + yvalid_index[ii]\n",
    "    for nn in range(M):\n",
    "        JIndex = 2 * MModes * nn #+  2 * mm # Model space\n",
    "        H_v[ii, JIndex] = H_cos[IIndex[ii].astype(int), nn]\n",
    "        H_v[ii, JIndex + 1] = H_sin[IIndex[ii].astype(int), nn]   "
   ]
  },
  {
   "cell_type": "code",
   "execution_count": null,
   "id": "b94f1600-5ed0-4ac4-97e4-1358c8a7e5db",
   "metadata": {},
   "outputs": [],
   "source": [
    "HTH = np.matmul(H_v.T, H_v)"
   ]
  },
  {
   "cell_type": "code",
   "execution_count": null,
   "id": "c72bb2af-3eea-4212-8278-89767146f401",
   "metadata": {},
   "outputs": [],
   "source": [
    "RR, PP = 10, 1\n",
    "R_ = np.eye(N, N)\n",
    "R_over_P = P_over_R[:2 * M, :2 * M]"
   ]
  },
  {
   "cell_type": "code",
   "execution_count": null,
   "id": "b2ce2d93-8b85-4065-b114-befc0c6b73ca",
   "metadata": {},
   "outputs": [],
   "source": [
    "HRH = np.zeros(HTH.shape)\n",
    "HRH = HTH +  R_over_P "
   ]
  },
  {
   "cell_type": "code",
   "execution_count": null,
   "id": "ec3708cf-80f2-41f7-ab76-2afafd2c7785",
   "metadata": {},
   "outputs": [],
   "source": [
    "D = np.matmul(LA.inv(HRH), H_v.T)\n",
    "eig, vec = LA.eig(HRH)"
   ]
  },
  {
   "cell_type": "markdown",
   "id": "2a26a83a-8515-40ae-b01b-3834505ddefa",
   "metadata": {
    "tags": []
   },
   "source": [
    "#### Soution with noise, 2 step approach"
   ]
  },
  {
   "cell_type": "code",
   "execution_count": null,
   "id": "a1cd5fee-ad86-49c1-a4c5-1b1310ac6f05",
   "metadata": {},
   "outputs": [],
   "source": [
    "amp_swath_2step = np.matmul(D, tau_ssh)"
   ]
  },
  {
   "cell_type": "markdown",
   "id": "bfd51b89-8c45-43c8-9469-9c9dd15500e8",
   "metadata": {
    "tags": []
   },
   "source": [
    "#### Prediction with new amplitudes in the next 40 days"
   ]
  },
  {
   "cell_type": "code",
   "execution_count": null,
   "id": "d38478d3-5a2d-421e-9f1d-d0894721e671",
   "metadata": {},
   "outputs": [],
   "source": [
    "ssh_est = np.matmul(H_v, amp_swath_2step)"
   ]
  },
  {
   "cell_type": "code",
   "execution_count": null,
   "id": "6de9964b-c8d8-4570-bb7b-482797b2aed2",
   "metadata": {
    "tags": []
   },
   "outputs": [],
   "source": [
    "err_map = np.zeros([nx, ny])\n",
    "ssh_true = np.zeros([nx, ny])\n",
    "ssh_2step = np.zeros([nx, ny])\n",
    "err_true = np.zeros([nx, ny])\n",
    "for ii, idx in enumerate(xvalid_index):\n",
    "    err_map[xvalid_index[ii], yvalid_index[ii]] = err_est[ii] \n",
    "    ssh_true[xvalid_index[ii], yvalid_index[ii]] = ssh[ii]\n",
    "    err_true[xvalid_index[ii], yvalid_index[ii]] = cor_err[ii]\n",
    "    ssh_2step[xvalid_index[ii], yvalid_index[ii]] = ssh_est[ii]"
   ]
  },
  {
   "cell_type": "code",
   "execution_count": null,
   "id": "ae29cd7a-6bf6-41db-8ed4-fa3caab54af1",
   "metadata": {},
   "outputs": [],
   "source": [
    "plt.figure(figsize=(10, 8))\n",
    "plt.subplot(311)\n",
    "plt.plot(ssh_est, 'green', label='Estimated SSH, 2 step')\n",
    "plt.plot(ssh, 'b', label='True SSH')\n",
    "plt.plot(ssh + cor_err, 'r', label = 'True SSH + Error')\n",
    "plt.xlabel('Data point', fontsize=14)\n",
    "plt.ylabel('SSH (m)', fontsize=14)\n",
    "plt.title('SSH estimation', fontsize=16)\n",
    "plt.legend(fontsize=12)\n",
    "\n",
    "ssh_diff = ssh - ssh_est\n",
    "\n",
    "plt.subplot(312)\n",
    "#plt.plot(norm.pdf(ssh_diff, ssh_diff.mean(), ssh_diff.std()), '-', label='SSH difference')\n",
    "plt.plot(ssh_diff, 'b', label='True SSH')\n",
    "plt.xlabel('Data point', fontsize=14)\n",
    "plt.ylabel('SSH (m)', fontsize=14)\n",
    "plt.title('True SSH - SSH estimation', fontsize=16)\n",
    "plt.legend(fontsize=12)\n",
    "\n",
    "plt.subplot(313)\n",
    "plt.title('error parameter', fontsize=16)\n",
    "plt.plot(amp_err, '-x', label = 'estimated error amplitude, 2 step')\n",
    "plt.plot(alpha, '-*', label = 'true error amplitude')\n",
    "plt.xlabel('Error parameter', fontsize=14)\n",
    "plt.legend()\n",
    "plt.tight_layout()\n",
    "plt.savefig('./ssh_err_parameter_2step.png')"
   ]
  },
  {
   "cell_type": "code",
   "execution_count": null,
   "id": "78ea881e-1fff-4dcc-8758-65d564188990",
   "metadata": {},
   "outputs": [],
   "source": [
    "ssh_diff_2step = np.sqrt(np.mean((ssh_true - ssh_2step) ** 2 ))/ np.sqrt(np.mean((ssh_true) ** 2 ))\n",
    "err_diff_2step = np.sqrt(np.mean((err_true - err_map) ** 2 ))/ np.sqrt(np.mean((err_true) ** 2 ))\n",
    "ssh_diff_2step , str(ssh_diff_2step * 100)[:4], err_diff_2step"
   ]
  },
  {
   "cell_type": "code",
   "execution_count": null,
   "id": "43d6d6d0-b0fc-42e2-8add-352d4241cbee",
   "metadata": {},
   "outputs": [],
   "source": [
    "fig = plt.figure(figsize = (10, 12))\n",
    "\n",
    "\n",
    "plt.subplot(321)\n",
    "plt.pcolormesh(lon, lat, err_true1 + ssh_true1, cmap = cmo.cm.balance, vmin = -.2, vmax = .2)\n",
    "plt.colorbar()\n",
    "plt.xlabel('Longitude (\\N{DEGREE SIGN}W)', fontsize = 14)\n",
    "plt.ylabel('Latitude (\\N{DEGREE SIGN}N)', fontsize = 14)\n",
    "plt.title('a) True error + true SSH', fontsize = 14)\n",
    "\n",
    "\n",
    "plt.subplot(323)\n",
    "plt.pcolormesh(lon, lat, ssh_2step, vmin = -.2, vmax = .2, cmap = cmo.cm.balance)\n",
    "plt.colorbar()\n",
    "plt.xlabel('Longitude (\\N{DEGREE SIGN}W)', fontsize = 14)\n",
    "plt.ylabel('Latitude (\\N{DEGREE SIGN}N)', fontsize = 14)\n",
    "plt.title('c) SSH estimate, 2-step,  ' + str((1- ssh_diff_2step) * 100)[:5] + '%', fontsize = 14)\n",
    "\n",
    "plt.subplot(325)\n",
    "plt.pcolormesh(lon, lat, ssh_true - ssh_2step, cmap = cmo.cm.balance, vmin = -.1, vmax = .1)\n",
    "plt.colorbar()\n",
    "plt.xlabel('Longitude (\\N{DEGREE SIGN}W)', fontsize = 14)\n",
    "plt.ylabel('Latitude (\\N{DEGREE SIGN}N)', fontsize = 14)\n",
    "plt.title('e) True SSH - SSH estimate, ' + str(ssh_diff_2step * 100)[:4]  + '%', fontsize = 14)\n",
    "\n",
    "\n",
    "plt.subplot(322)\n",
    "plt.pcolormesh(lon, lat, err_true, cmap = cmo.cm.balance, vmin = -.2, vmax = .2)\n",
    "plt.colorbar()\n",
    "plt.xlabel('Longitude (\\N{DEGREE SIGN}W)', fontsize = 14)\n",
    "plt.ylabel('Latitude (\\N{DEGREE SIGN}N)', fontsize = 14)\n",
    "plt.title('b) True error', fontsize = 14)\n",
    "\n",
    "plt.subplot(324)\n",
    "plt.pcolormesh(lon, lat, err_map, cmap = cmo.cm.balance, vmin = -.1, vmax = .1)\n",
    "plt.colorbar()\n",
    "plt.xlabel('Longitude (\\N{DEGREE SIGN}W)', fontsize = 14)\n",
    "plt.ylabel('Latitude (\\N{DEGREE SIGN}N)', fontsize = 14)\n",
    "plt.title('d) Error estimate, '+ str((1- err_diff_2step) * 100)[:5] + '%', fontsize = 14)\n",
    "\n",
    "plt.subplot(326)\n",
    "plt.pcolormesh(lon, lat, err_true - err_map, cmap = cmo.cm.balance, vmin = -.1, vmax = .1)\n",
    "plt.colorbar()\n",
    "plt.xlabel('Longitude (\\N{DEGREE SIGN}W)', fontsize = 14)\n",
    "plt.ylabel('Latitude (\\N{DEGREE SIGN}N)', fontsize = 14)\n",
    "plt.title('f) True Error - Error estimate, ' + str(err_diff_2step * 100)[:4] + '%' , fontsize = 14)\n",
    "\n",
    "plt.tight_layout()\n",
    "plt.savefig('aviso_ssh_estimate_'+ str(date_time[0])[:10] + '_2step.png', dpi = 300)"
   ]
  },
  {
   "cell_type": "code",
   "execution_count": null,
   "id": "8e77374d-b239-403c-8047-7b1c97c1b630",
   "metadata": {
    "tags": []
   },
   "outputs": [],
   "source": [
    "time_range = 8 ## 8 * 5 = 40 days\n",
    "SSHA_predicted = np.zeros([time_range, MSLA.size])\n",
    "SSHA_true = np.zeros([time_range, MSLA.size])\n",
    "residual_iter = np.zeros(time_range)\n",
    "MSLA_inverse = np.zeros([MSLA.shape[0], MSLA.shape[1], time_range])\n",
    "for day in range(time_range):\n",
    "    MSLA = MSLA_fwd[:, :, day:day+1]\n",
    "    SSHA_predicted[day], SSHA_true[day], residual_iter[day] = forecast_ssh( MSLA, amp_swath_2step, H_all)\n",
    "    MSLA_inverse[:, :, day:day+1] = reverse_vector(MSLA, SSHA_predicted[day])\n",
    "    \n",
    "#     plt.figure(figsize = (15, 5))\n",
    "\n",
    "#     plt.subplot(131)\n",
    "#     plt.pcolormesh(lon, lat, MSLA_fwd[:, :, day], cmap = cmo.cm.balance, vmin = -.15, vmax = .15)\n",
    "#     plt.colorbar()\n",
    "#     plt.xlabel('Longitude (\\N{DEGREE SIGN}W)', fontsize = 14)\n",
    "#     plt.ylabel('Latitude (\\N{DEGREE SIGN}N)', fontsize = 14)\n",
    "#     plt.title('a) AVISO forward model ' + str(date_time[day])[:10], fontsize = 14)\n",
    "\n",
    "#     plt.subplot(132)\n",
    "#     plt.pcolormesh(lon, lat, MSLA_inverse[:, :, day], vmin = -.15, vmax = .15, cmap = cmo.cm.balance)\n",
    "#     plt.colorbar()\n",
    "#     plt.xlabel('Longitude (\\N{DEGREE SIGN}W)', fontsize = 14)\n",
    "#     plt.ylabel('Latitude (\\N{DEGREE SIGN}N)', fontsize = 14)\n",
    "#     plt.title('b) 2-step inversion, swath data', fontsize = 14)\n",
    "\n",
    "#     residual =   MSLA_fwd[:, :, day] - MSLA_inverse[:, :, day]\n",
    "#     plt.subplot(133)\n",
    "#     plt.pcolormesh(lon, lat, residual, cmap = cmo.cm.balance, vmin = -.15, vmax = .15)\n",
    "#     plt.colorbar()\n",
    "#     plt.xlabel('Longitude (\\N{DEGREE SIGN}W)', fontsize = 14)\n",
    "#     plt.ylabel('Latitude (\\N{DEGREE SIGN}N)', fontsize = 14)\n",
    "#     #plt.plot(lon[xvalid_index], lat[yvalid_index], 'x', color = 'gray')\n",
    "#     plt.plot(lon_valid, lat_valid , 'x', color = 'gray')\n",
    "#     plt.title('c) Residual variance ' + str(residual_iter[day] * 100)[:4] + '%', fontsize = 14)\n",
    "\n",
    "#     plt.tight_layout()\n",
    "#     plt.savefig('inversion_2step_' + str(date_time[day])[:10] +'_with_corr_err_' + str(skill.size) + 'waves_2step.png', dpi = 100)"
   ]
  },
  {
   "cell_type": "code",
   "execution_count": null,
   "id": "c59aa1d1-8d9b-4272-9d37-852579b88fb7",
   "metadata": {},
   "outputs": [],
   "source": []
  },
  {
   "cell_type": "code",
   "execution_count": null,
   "id": "db399860-1f53-4e01-986b-10435163bd04",
   "metadata": {},
   "outputs": [],
   "source": []
  },
  {
   "cell_type": "code",
   "execution_count": null,
   "id": "631e67e7-ee63-477f-87a5-a95d31d53b94",
   "metadata": {},
   "outputs": [],
   "source": []
  },
  {
   "cell_type": "code",
   "execution_count": null,
   "id": "475e3a61-bdab-491a-94cb-fb5e48ca175a",
   "metadata": {},
   "outputs": [],
   "source": []
  },
  {
   "cell_type": "code",
   "execution_count": null,
   "id": "199b448d-5182-4b07-814e-96e50193d337",
   "metadata": {},
   "outputs": [],
   "source": []
  },
  {
   "cell_type": "code",
   "execution_count": null,
   "id": "5194ee53-d5ae-4111-9407-1c02b7d04807",
   "metadata": {},
   "outputs": [],
   "source": []
  },
  {
   "cell_type": "code",
   "execution_count": null,
   "id": "109ec279-af82-4d85-87f7-9efb577b4867",
   "metadata": {},
   "outputs": [],
   "source": []
  },
  {
   "cell_type": "code",
   "execution_count": null,
   "id": "f8a12a19-af91-4307-817d-2517e19dd09d",
   "metadata": {},
   "outputs": [],
   "source": []
  },
  {
   "cell_type": "code",
   "execution_count": null,
   "id": "38b6e373-d220-44dc-8fb7-aa4c48a0d64c",
   "metadata": {},
   "outputs": [],
   "source": []
  },
  {
   "cell_type": "code",
   "execution_count": null,
   "id": "cdcbaf63-9027-4c51-ae9a-490efaa6dfb7",
   "metadata": {},
   "outputs": [],
   "source": []
  },
  {
   "cell_type": "code",
   "execution_count": null,
   "id": "de233947-61bc-472a-a57c-ec4cd369367a",
   "metadata": {},
   "outputs": [],
   "source": []
  },
  {
   "cell_type": "code",
   "execution_count": null,
   "id": "2ad9584b-97fb-4ed9-9a46-3e96471843cc",
   "metadata": {},
   "outputs": [],
   "source": []
  },
  {
   "cell_type": "code",
   "execution_count": null,
   "id": "038186f0-ab64-4d0e-abf4-c0cf62949256",
   "metadata": {},
   "outputs": [],
   "source": []
  },
  {
   "cell_type": "code",
   "execution_count": null,
   "id": "a999dd0b-4ee5-4463-a806-aa91b056b2f2",
   "metadata": {},
   "outputs": [],
   "source": []
  },
  {
   "cell_type": "code",
   "execution_count": null,
   "id": "675d91b7-efd4-486c-9d94-a65b98fcc5a4",
   "metadata": {},
   "outputs": [],
   "source": []
  },
  {
   "cell_type": "code",
   "execution_count": null,
   "id": "ec02996f-7ec3-4ac3-9c1a-1438f47c04a9",
   "metadata": {},
   "outputs": [],
   "source": []
  },
  {
   "cell_type": "code",
   "execution_count": null,
   "id": "cb470d1e-0937-42c7-be51-6ac3cb089c47",
   "metadata": {},
   "outputs": [],
   "source": []
  },
  {
   "cell_type": "code",
   "execution_count": null,
   "id": "1fb209f1-cfde-49d3-bd10-0ad1b577eac7",
   "metadata": {},
   "outputs": [],
   "source": []
  },
  {
   "cell_type": "code",
   "execution_count": null,
   "id": "a8f516e3-5dff-4076-8042-5018a98b76ff",
   "metadata": {},
   "outputs": [],
   "source": []
  },
  {
   "cell_type": "code",
   "execution_count": null,
   "id": "d9b7a0d1-b9f7-4a1b-aeec-c95922d983d5",
   "metadata": {},
   "outputs": [],
   "source": []
  },
  {
   "cell_type": "code",
   "execution_count": null,
   "id": "1abd4649-f56a-4cb0-b789-e05fbfa28b27",
   "metadata": {},
   "outputs": [],
   "source": []
  },
  {
   "cell_type": "code",
   "execution_count": null,
   "id": "add9071a-fec0-4f0b-b572-8e5bece0ae94",
   "metadata": {},
   "outputs": [],
   "source": []
  },
  {
   "cell_type": "code",
   "execution_count": null,
   "id": "c3cb8e62-81fa-498a-a99c-590593ed85dd",
   "metadata": {},
   "outputs": [],
   "source": []
  },
  {
   "cell_type": "code",
   "execution_count": null,
   "id": "6f69289c-f60f-4262-951a-57ef2b9ed58c",
   "metadata": {},
   "outputs": [],
   "source": []
  },
  {
   "cell_type": "code",
   "execution_count": null,
   "id": "11ea0886-9343-4680-a530-b5a0b6f863ce",
   "metadata": {},
   "outputs": [],
   "source": []
  },
  {
   "cell_type": "code",
   "execution_count": null,
   "id": "0a8a5aeb-2b87-4ffb-a6c8-8cc73f16513d",
   "metadata": {},
   "outputs": [],
   "source": []
  },
  {
   "cell_type": "code",
   "execution_count": null,
   "id": "dc5ef268-4321-40ae-b0cc-61397fd5075f",
   "metadata": {},
   "outputs": [],
   "source": []
  }
 ],
 "metadata": {
  "kernelspec": {
   "display_name": "Python 3 (ipykernel)",
   "language": "python",
   "name": "python3"
  },
  "language_info": {
   "codemirror_mode": {
    "name": "ipython",
    "version": 3
   },
   "file_extension": ".py",
   "mimetype": "text/x-python",
   "name": "python",
   "nbconvert_exporter": "python",
   "pygments_lexer": "ipython3",
   "version": "3.10.5"
  }
 },
 "nbformat": 4,
 "nbformat_minor": 5
}
